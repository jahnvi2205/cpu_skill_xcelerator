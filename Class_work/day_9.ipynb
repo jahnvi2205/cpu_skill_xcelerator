{
  "nbformat": 4,
  "nbformat_minor": 0,
  "metadata": {
    "colab": {
      "provenance": []
    },
    "kernelspec": {
      "name": "python3",
      "display_name": "Python 3"
    },
    "language_info": {
      "name": "python"
    }
  },
  "cells": [
    {
      "cell_type": "code",
      "execution_count": 1,
      "metadata": {
        "colab": {
          "base_uri": "https://localhost:8080/"
        },
        "id": "k21s9p7vrMWV",
        "outputId": "1da72482-5ec3-4124-a8d0-f7aa941183e9"
      },
      "outputs": [
        {
          "output_type": "stream",
          "name": "stdout",
          "text": [
            "[0, 10, 20, 20]\n"
          ]
        }
      ],
      "source": [
        "# Min Cost Climbing Stairs\n",
        "# Problem:\n",
        "# Given an array cost where cost[i] is the cost of step i, return the minimum cost to reach the top.\n",
        "# You can climb either 1 or 2 steps.\n",
        "\n",
        "cost=[20,30,40,20]\n",
        "dp=[0]*(len(cost))\n",
        "dp[1]=10\n",
        "dp[2]=20\n",
        "for i in range(3,len(cost)):\n",
        "  dp[i]=min(dp[i-1]+abs(cost[i]-cost[i-1]),dp[i-2]+abs(cost[i]-cost[i-2]))\n",
        "\n",
        "print(dp)"
      ]
    },
    {
      "cell_type": "code",
      "source": [
        "# max_sum of sub array\n",
        "# dp[n-1] ans nahi hoga\n",
        "\n",
        "\n",
        "# arr=[2,-5,3,-2,2,4,-1]\n",
        "# dp=[0]*len(arr)\n",
        "# dp[0]=arr[0]\n",
        "# max_sum= 0\n",
        "# for i in range(1,len(dp)):\n",
        "#   dp[i]=max(arr[i],dp[i-1]+arr[i])\n",
        "#   max_sum=max(max_sum,dp[i])\n",
        "\n",
        "# print(max_sum)\n",
        "\n",
        "\n",
        "arr=[2,-5,3,-2,2,4,-1]\n",
        "max_sum= 0\n",
        "temp=arr[0]\n",
        "for i in range(1,len(arr)):\n",
        "  temp=max(arr[i],temp+arr[i])\n",
        "  max_sum=max(max_sum,temp)\n",
        "\n",
        "print(max_sum)"
      ],
      "metadata": {
        "colab": {
          "base_uri": "https://localhost:8080/"
        },
        "id": "cyIW7h8ory5u",
        "outputId": "0bc24168-a7c6-4eb3-99dd-182756658e40"
      },
      "execution_count": null,
      "outputs": [
        {
          "output_type": "stream",
          "name": "stdout",
          "text": [
            "7\n"
          ]
        }
      ]
    },
    {
      "cell_type": "code",
      "source": [
        "# stack implementation using class\n",
        "class Stack:\n",
        "  def __init__(self,cap):\n",
        "    self.cap=cap\n",
        "    self.top=-1\n",
        "    self.cont=[0]*cap\n",
        "\n",
        "  def push(self,x):\n",
        "    if self.top>=self.cap-1:\n",
        "      print('stack overflow!!')\n",
        "    self.top+=1\n",
        "    self.cont[self.top]=x\n",
        "    return True\n",
        "\n",
        "  def pop(self):\n",
        "    if self.top<0:\n",
        "      print(\"Stack is empty:(\")\n",
        "      return 0\n",
        "    popped=self.cont[self.top]\n",
        "    self.top-=1\n",
        "    return popped\n",
        "\n",
        "  def peek(self):\n",
        "    if self.top<0:\n",
        "      print('stack is empty:(')\n",
        "      return 0\n",
        "    return self.cont[self.top]\n",
        "\n",
        "  def is_empty(self):\n",
        "    return self.top<0\n",
        "\n",
        "  def is_full(self):\n",
        "    return self.top>=self.cap-1\n",
        "\n"
      ],
      "metadata": {
        "id": "EGO03CMN4F_L"
      },
      "execution_count": null,
      "outputs": []
    },
    {
      "cell_type": "code",
      "source": [
        "s=Stack(5)\n",
        "s.push(10)\n",
        "s.push(20)\n",
        "s.peek()"
      ],
      "metadata": {
        "colab": {
          "base_uri": "https://localhost:8080/"
        },
        "id": "qM4e75F9H573",
        "outputId": "8c116226-f071-4d05-b999-7716b1d4b767"
      },
      "execution_count": null,
      "outputs": [
        {
          "output_type": "execute_result",
          "data": {
            "text/plain": [
              "20"
            ]
          },
          "metadata": {},
          "execution_count": 37
        }
      ]
    },
    {
      "cell_type": "code",
      "source": [
        "# queue implementation using class\n",
        "class Queue:\n",
        "  def __init__(self,cap):\n",
        "    self.cap=cap\n",
        "    self.start=-1\n",
        "    self.end=-1\n",
        "    self.cont=[0]*cap\n",
        "\n",
        "  def push(self,x):\n",
        "    if self.end>=self.cap-1:\n",
        "      print(\"Queue full!!\")\n",
        "      return False\n",
        "    if self.end==-1:\n",
        "      self.start+=1\n",
        "      self.end+=1\n",
        "      self.cont[self.start]=x\n",
        "      return True\n",
        "    self.end+=1\n",
        "    self.cont[self.end]=x\n",
        "    return True\n",
        "\n",
        "  def pop(self):\n",
        "    if self.end==-1:\n",
        "      print(\"Invalid:(\")\n",
        "      return False\n",
        "    popped=self.cont[self.start]\n",
        "    self.start+=1\n",
        "    return popped\n",
        "\n",
        "  def is_empty(self):\n",
        "    return self.end==-1\n",
        "\n",
        "  def is_full(self):\n",
        "    return self.end>=self.cap\n",
        "\n",
        "\n",
        "\n",
        "\n",
        "\n"
      ],
      "metadata": {
        "id": "uWFt07_TI0LI"
      },
      "execution_count": null,
      "outputs": []
    }
  ]
}