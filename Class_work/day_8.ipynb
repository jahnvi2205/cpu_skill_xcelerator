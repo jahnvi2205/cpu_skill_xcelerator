{
  "nbformat": 4,
  "nbformat_minor": 0,
  "metadata": {
    "colab": {
      "provenance": []
    },
    "kernelspec": {
      "name": "python3",
      "display_name": "Python 3"
    },
    "language_info": {
      "name": "python"
    }
  },
  "cells": [
    {
      "cell_type": "code",
      "execution_count": null,
      "metadata": {
        "colab": {
          "base_uri": "https://localhost:8080/"
        },
        "id": "EQbW3ZbkgkL_",
        "outputId": "c3c85f88-143e-4169-daa3-2321e7289dcf"
      },
      "outputs": [
        {
          "output_type": "stream",
          "name": "stdout",
          "text": [
            "[2, 3, 5, 7, 11, 13, 17, 19, 23, 29, 31, 37, 41, 43, 47, 53, 59, 61, 67, 71, 73, 79, 83, 89, 97, 101, 103, 107, 109, 113, 127, 131, 137, 139, 149, 151, 157, 163, 167, 173, 179, 181, 191, 193, 197, 199, 211, 223, 227, 229, 233, 239, 241, 251, 257, 263, 269, 271, 277, 281, 283, 293, 307, 311, 313, 317, 331, 337, 347, 349, 353, 359, 367, 373, 379, 383, 389, 397, 401, 409, 419, 421, 431, 433, 439, 443, 449, 457, 461, 463, 467, 479, 487, 491, 499, 503, 509, 521, 523, 541]\n"
          ]
        }
      ],
      "source": [
        "prime=[2]\n",
        "i=3\n",
        "while True:\n",
        "  flag=0\n",
        "  for j in range(2,int(i**0.5)+1):\n",
        "    if i%j==0:\n",
        "      flag=1\n",
        "      break\n",
        "  if flag==0:\n",
        "    prime.append(i)\n",
        "  i+=1\n",
        "  if len(prime)==100:\n",
        "    break\n",
        "\n",
        "\n",
        "print(prime)"
      ]
    },
    {
      "cell_type": "code",
      "source": [
        "len(prime)"
      ],
      "metadata": {
        "colab": {
          "base_uri": "https://localhost:8080/"
        },
        "id": "gjSND0G8jF1N",
        "outputId": "f53ef78e-6876-49a1-f4dc-170914197b8b"
      },
      "execution_count": null,
      "outputs": [
        {
          "output_type": "execute_result",
          "data": {
            "text/plain": [
              "100"
            ]
          },
          "metadata": {},
          "execution_count": 10
        }
      ]
    },
    {
      "cell_type": "code",
      "source": [
        "prime[5]"
      ],
      "metadata": {
        "colab": {
          "base_uri": "https://localhost:8080/"
        },
        "id": "1hUt2gxYkFdk",
        "outputId": "1aa6ea76-8724-4053-912c-2685d7e7b214"
      },
      "execution_count": null,
      "outputs": [
        {
          "output_type": "execute_result",
          "data": {
            "text/plain": [
              "13"
            ]
          },
          "metadata": {},
          "execution_count": 13
        }
      ]
    },
    {
      "cell_type": "code",
      "source": [
        "# seive of erathothenes\n",
        "seive=[True]*100\n",
        "seive[0]=False\n",
        "seive[1]=False\n",
        "result=[]\n",
        "\n",
        "for x in range(len(seive)):\n",
        "  if seive[x]:\n",
        "    result.append(x)\n",
        "    k=2*x\n",
        "    while k<100:\n",
        "      seive[k]=False\n",
        "      k+=x\n",
        "\n",
        "print(result)"
      ],
      "metadata": {
        "colab": {
          "base_uri": "https://localhost:8080/"
        },
        "id": "T49Uq0w8kJje",
        "outputId": "1c3ce26a-aef2-4d85-a09c-aa2d6bc7e3c2"
      },
      "execution_count": null,
      "outputs": [
        {
          "output_type": "stream",
          "name": "stdout",
          "text": [
            "[2, 3, 5, 7, 11, 13, 17, 19, 23, 29, 31, 37, 41, 43, 47, 53, 59, 61, 67, 71, 73, 79, 83, 89, 97]\n"
          ]
        }
      ]
    },
    {
      "cell_type": "code",
      "source": [
        "# memoization\n",
        "fib=[0]*100\n",
        "fib[1]=1\n",
        "for i in range(2,len(fib)):\n",
        "  fib[i]=fib[i-1]+fib[i-2]\n",
        "\n",
        "Input=[23,1,3,4,8]\n",
        "output=[]\n",
        "for i in Input:\n",
        "  output.append(fib[i-1])\n",
        "\n",
        "print(output)"
      ],
      "metadata": {
        "colab": {
          "base_uri": "https://localhost:8080/"
        },
        "id": "NvFuJ5fllxth",
        "outputId": "8984f9de-8b26-4ba1-8949-9d9582ce76e6"
      },
      "execution_count": null,
      "outputs": [
        {
          "output_type": "stream",
          "name": "stdout",
          "text": [
            "[17711, 0, 1, 2, 13]\n"
          ]
        }
      ]
    },
    {
      "cell_type": "code",
      "source": [
        "li=[23,1,3,4,8]\n",
        "sumof=[0]*len(Input)\n",
        "sumof[0]=li[0]\n",
        "for i in range(1,len(li)):\n",
        "  sumof[i]= sumof[i-1]+li[i]\n",
        "\n",
        "print(sumof)\n",
        "m,n=1,3\n",
        "print(sumof[n]-sumof[m-1])"
      ],
      "metadata": {
        "colab": {
          "base_uri": "https://localhost:8080/"
        },
        "id": "2Af4eFALtDTT",
        "outputId": "87379ecd-7d0b-49c6-8824-ff2fcbf7ec32"
      },
      "execution_count": null,
      "outputs": [
        {
          "output_type": "stream",
          "name": "stdout",
          "text": [
            "[23, 24, 27, 31, 39]\n",
            "8\n"
          ]
        }
      ]
    },
    {
      "cell_type": "code",
      "source": [
        "li=[]\n",
        "for i in range(2,6):\n",
        "  local=[]\n",
        "  for j in range(1,11):\n",
        "    local.append(i*j)\n",
        "  li.append(local)\n",
        "\n",
        "li"
      ],
      "metadata": {
        "colab": {
          "base_uri": "https://localhost:8080/"
        },
        "id": "Ey3SrSomwP-5",
        "outputId": "8d9329a3-9444-4ecc-d25e-1a685291c724"
      },
      "execution_count": null,
      "outputs": [
        {
          "output_type": "execute_result",
          "data": {
            "text/plain": [
              "[[2, 4, 6, 8, 10, 12, 14, 16, 18, 20],\n",
              " [3, 6, 9, 12, 15, 18, 21, 24, 27, 30],\n",
              " [4, 8, 12, 16, 20, 24, 28, 32, 36, 40],\n",
              " [5, 10, 15, 20, 25, 30, 35, 40, 45, 50]]"
            ]
          },
          "metadata": {},
          "execution_count": 52
        }
      ]
    },
    {
      "cell_type": "code",
      "source": [
        "# staircase to reach with 1/2  incremental :state management\n",
        "li=[0]*10\n",
        "li[1],li[2],li[3]=1,2,4\n",
        "n=4\n",
        "\n",
        "# tup= (1,2,3)\n",
        "for i in range(4,10):\n",
        "  li[i]=li[i-1]+li[i-2]+li[i-3]\n",
        "\n",
        "# # tup= (1,2)\n",
        "# for i in range(3,10):\n",
        "#   li[i]=li[i-1]+li[i-2]\n",
        "\n",
        "\n",
        "li[n]\n",
        "\n"
      ],
      "metadata": {
        "colab": {
          "base_uri": "https://localhost:8080/"
        },
        "id": "0jGM5B7H2NHs",
        "outputId": "391c3ecc-30d6-4e27-83d7-2a9a02b26f0e"
      },
      "execution_count": null,
      "outputs": [
        {
          "output_type": "execute_result",
          "data": {
            "text/plain": [
              "7"
            ]
          },
          "metadata": {},
          "execution_count": 61
        }
      ]
    },
    {
      "cell_type": "code",
      "source": [
        "input=[20,30,40,20]\n",
        "li=[0]*max(input)\n",
        "li[1],li[2]=1,2\n",
        "count=0\n",
        "for"
      ],
      "metadata": {
        "id": "p37KG6J37-Ut"
      },
      "execution_count": null,
      "outputs": []
    }
  ]
}