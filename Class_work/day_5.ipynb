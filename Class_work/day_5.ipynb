{
  "nbformat": 4,
  "nbformat_minor": 0,
  "metadata": {
    "colab": {
      "provenance": []
    },
    "kernelspec": {
      "name": "python3",
      "display_name": "Python 3"
    },
    "language_info": {
      "name": "python"
    }
  },
  "cells": [
    {
      "cell_type": "code",
      "execution_count": null,
      "metadata": {
        "colab": {
          "base_uri": "https://localhost:8080/"
        },
        "id": "hltJJUMWGfaX",
        "outputId": "a9a6fa35-ce8e-4e7e-e813-33ffd974fdf6"
      },
      "outputs": [
        {
          "output_type": "stream",
          "name": "stdout",
          "text": [
            "{'vowels': 2, 'consonants': 3}\n"
          ]
        }
      ],
      "source": [
        "S ='ABCDE'\n",
        "dct={'vowels':0,'consonants':0}\n",
        "for i in S:\n",
        "  if i in 'AEIOU':\n",
        "    dct['vowels']+=1\n",
        "  else:\n",
        "    dct['consonants']+=1\n",
        "\n",
        "print(dct)"
      ]
    },
    {
      "cell_type": "code",
      "source": [
        "a ={'abc':'def','ghi':'def','def':'ghi','ijk':'abc'}\n",
        "lst1=list(a.values())\n",
        "lst2 = list(a.keys())\n",
        "s=set(lst1+lst2)\n",
        "dct={}\n",
        "for i in s:\n",
        "  count_keys=0\n",
        "  count_values=0\n",
        "  for j in a.keys():\n",
        "    if i ==j:\n",
        "      count_keys+=1\n",
        "  for k in a.values():\n",
        "    if i==k:\n",
        "      count_values+=1\n",
        "  dct[i]=[('keys',count_keys),('values',count_values)]\n",
        "\n",
        "for key in dct.keys():\n",
        "  print(key,\":\",dct[key])"
      ],
      "metadata": {
        "colab": {
          "base_uri": "https://localhost:8080/"
        },
        "id": "WmeXR0PsHE_p",
        "outputId": "b69025b9-9404-43d5-f4ad-bf1fba353fd3"
      },
      "execution_count": 2,
      "outputs": [
        {
          "output_type": "stream",
          "name": "stdout",
          "text": [
            "ijk : [('keys', 1), ('values', 0)]\n",
            "def : [('keys', 1), ('values', 2)]\n",
            "abc : [('keys', 1), ('values', 1)]\n",
            "ghi : [('keys', 1), ('values', 1)]\n"
          ]
        }
      ]
    },
    {
      "cell_type": "code",
      "source": [
        "'''🐭 Create Magic!\n",
        "Mickey wants to store his friends’ ages! Create a dictionary called friends_ages with keys\n",
        "\"Mickey\", \"Minnie\", \"Donald\", \"Goofy\" and any age values! 🎂'''\n",
        "\n",
        "friends_ages={'Mickey':10,'Minnie':20,'Donald':30,'Goofy':40}\n",
        "print(friends_ages)"
      ],
      "metadata": {
        "colab": {
          "base_uri": "https://localhost:8080/"
        },
        "id": "TAZ7-Fh8I_hq",
        "outputId": "4a625f9a-0a25-400e-d8ed-c7124feedb75"
      },
      "execution_count": null,
      "outputs": [
        {
          "output_type": "stream",
          "name": "stdout",
          "text": [
            "{'Mickey': 10, 'Minnie': 20, 'Donald': 30, 'Goofy': 40}\n"
          ]
        }
      ]
    },
    {
      "cell_type": "code",
      "source": [
        "'''Add a New Friend!\n",
        "Mickey just met Pluto 🐶! Add \"Pluto\": 5 to the friends_ages dictionary.'''\n",
        "\n",
        "friends_ages['Pluto']=5\n",
        "print(friends_ages)"
      ],
      "metadata": {
        "colab": {
          "base_uri": "https://localhost:8080/"
        },
        "id": "wm7N1M8eM87J",
        "outputId": "5e2bf4a6-4b88-4eca-f22f-37321762d6f9"
      },
      "execution_count": null,
      "outputs": [
        {
          "output_type": "stream",
          "name": "stdout",
          "text": [
            "{'Mickey': 10, 'Minnie': 20, 'Donald': 30, 'Goofy': 40, 'Pluto': 5}\n"
          ]
        }
      ]
    },
    {
      "cell_type": "code",
      "source": [
        "'''How Old Is Donald?\n",
        "Use the dictionary to print Donald's age!'''\n",
        "print(friends_ages[\"Donald\"])"
      ],
      "metadata": {
        "colab": {
          "base_uri": "https://localhost:8080/"
        },
        "id": "3iEvF3fEM8-C",
        "outputId": "04be5859-4777-4447-8669-059239f6b104"
      },
      "execution_count": null,
      "outputs": [
        {
          "output_type": "stream",
          "name": "stdout",
          "text": [
            "30\n"
          ]
        }
      ]
    },
    {
      "cell_type": "code",
      "source": [
        "'''Oh no! Goofy left town...\n",
        "Remove \"Goofy\" from the friends_ages dictionary'''\n",
        "\n",
        "friends_ages.pop('Goofy')\n",
        "print(friends_ages)\n",
        "\n",
        "# del friends_ages['Goofy']\n",
        "# print(friends_ages)"
      ],
      "metadata": {
        "colab": {
          "base_uri": "https://localhost:8080/"
        },
        "id": "AUirihDGM9Au",
        "outputId": "a30ed06d-17cf-49dd-c390-1be8aba3cdf5"
      },
      "execution_count": null,
      "outputs": [
        {
          "output_type": "stream",
          "name": "stdout",
          "text": [
            "{'Mickey': 10, 'Minnie': 20, 'Donald': 30, 'Pluto': 5}\n"
          ]
        }
      ]
    },
    {
      "cell_type": "code",
      "source": [
        "'''Who's All There?\n",
        "Print all the keys (names of friends) in the dictionary.'''\n",
        "\n",
        "print(friends_ages.keys())"
      ],
      "metadata": {
        "colab": {
          "base_uri": "https://localhost:8080/"
        },
        "id": "UDqILNp-M9DN",
        "outputId": "55c3bb41-8aad-4593-b1ec-40fa66efabe4"
      },
      "execution_count": null,
      "outputs": [
        {
          "output_type": "stream",
          "name": "stdout",
          "text": [
            "dict_keys(['Mickey', 'Minnie', 'Donald', 'Pluto'])\n"
          ]
        }
      ]
    },
    {
      "cell_type": "code",
      "source": [
        "'''Show Me the Gifts!\n",
        "Print all the values (ages)'''\n",
        "\n",
        "print(friends_ages.values())"
      ],
      "metadata": {
        "colab": {
          "base_uri": "https://localhost:8080/"
        },
        "id": "1z0Mbdw0M9GD",
        "outputId": "46516a6b-c3e4-440d-fcd6-1fb42f812e91"
      },
      "execution_count": null,
      "outputs": [
        {
          "output_type": "stream",
          "name": "stdout",
          "text": [
            "dict_values([10, 20, 30, 5])\n"
          ]
        }
      ]
    },
    {
      "cell_type": "code",
      "source": [
        "'''🧙 Minnie Got Older!\n",
        "Update \"Minnie\"'s age to 29.'''\n",
        "friends_ages['Minnie']=29\n",
        "print(friends_ages)"
      ],
      "metadata": {
        "colab": {
          "base_uri": "https://localhost:8080/"
        },
        "id": "o0BqR9ynN0fO",
        "outputId": "2e399810-c8b9-457f-9d78-c9f93d6b9035"
      },
      "execution_count": null,
      "outputs": [
        {
          "output_type": "stream",
          "name": "stdout",
          "text": [
            "{'Mickey': 10, 'Minnie': 29, 'Donald': 30, 'Pluto': 5}\n"
          ]
        }
      ]
    },
    {
      "cell_type": "code",
      "source": [
        "'''How Many Friends Does Mickey Have?\n",
        "Use len() to count how many friends are in the dictionary.'''\n",
        "print(len(friends_ages))"
      ],
      "metadata": {
        "colab": {
          "base_uri": "https://localhost:8080/"
        },
        "id": "KKMceKIhM9I6",
        "outputId": "760f9ad3-733c-494b-ed74-3ce804043655"
      },
      "execution_count": null,
      "outputs": [
        {
          "output_type": "stream",
          "name": "stdout",
          "text": [
            "4\n"
          ]
        }
      ]
    },
    {
      "cell_type": "code",
      "source": [
        "'''🏆 List All Friends with Their Ages!\n",
        "Use a loop to print each friend’s name and age like:\n",
        "Mickey is 27 years old!\n",
        "Minnie is 29 years old!'''\n",
        "\n",
        "# for key in friends_ages.keys():\n",
        "#   print(f'{key} is {friends_ages[key]} years old!')\n",
        "\n",
        "for name,age in friends_ages.items():\n",
        "    print(f'{name} is {age} years old!')"
      ],
      "metadata": {
        "colab": {
          "base_uri": "https://localhost:8080/"
        },
        "id": "IZzEFQnzM9La",
        "outputId": "169863da-3f63-458c-9a00-70d369a7c166"
      },
      "execution_count": null,
      "outputs": [
        {
          "output_type": "stream",
          "name": "stdout",
          "text": [
            "Mickey is 10 years old!\n",
            "Minnie is 29 years old!\n",
            "Donald is 30 years old!\n",
            "Pluto is 5 years old!\n"
          ]
        }
      ]
    },
    {
      "cell_type": "code",
      "source": [
        "'''Convert Dictionary to List of Tuples!\n",
        "Use .items() to convert Mickey’s dictionary into a list of tuples like:\n",
        "\n",
        "[(\"Mickey\", 27), (\"Minnie\", 29)]'''\n",
        "friends_ages= friends_ages.items()\n",
        "print(friends_ages)"
      ],
      "metadata": {
        "colab": {
          "base_uri": "https://localhost:8080/"
        },
        "id": "cmhN0irjOaer",
        "outputId": "dd813e1c-e568-48af-fc20-6b605a9a5424"
      },
      "execution_count": null,
      "outputs": [
        {
          "output_type": "stream",
          "name": "stdout",
          "text": [
            "dict_items([('Mickey', 10), ('Minnie', 29), ('Donald', 30), ('Pluto', 5)])\n"
          ]
        }
      ]
    },
    {
      "cell_type": "code",
      "source": [
        "'''Check If Daisy Is in the Castle!\n",
        "Use the in keyword to check if \"Daisy\" is a key in the dictionary. '''\n",
        "\n",
        "print('Daisy' in friends_ages)"
      ],
      "metadata": {
        "colab": {
          "base_uri": "https://localhost:8080/"
        },
        "id": "8jhTaCWfOaht",
        "outputId": "c672c8b6-4f37-49f9-a6e7-422e5af2dcc1"
      },
      "execution_count": null,
      "outputs": [
        {
          "output_type": "stream",
          "name": "stdout",
          "text": [
            "False\n"
          ]
        }
      ]
    },
    {
      "cell_type": "code",
      "source": [
        "''' 🎈 Daisy Joins the Party!\n",
        "Add \"Daisy\": 25 only if she's not already in the dictionary.'''\n",
        "friends_ages=dict(friends_ages)\n",
        "friends_ages['Daisy']=25"
      ],
      "metadata": {
        "id": "ExC-8HjAOakW"
      },
      "execution_count": null,
      "outputs": []
    },
    {
      "cell_type": "code",
      "source": [
        "''' 🎨 Copy the Magic!\n",
        "Create a copy of friends_ages dictionary using .copy() and call it party_guests.'''\n",
        "\n",
        "party_guests = friends_ages.copy()\n",
        "print(party_guests)"
      ],
      "metadata": {
        "colab": {
          "base_uri": "https://localhost:8080/"
        },
        "id": "TqddPjB3OanE",
        "outputId": "0b5f5fea-9626-4524-f7f0-0f0a41403379"
      },
      "execution_count": null,
      "outputs": [
        {
          "output_type": "stream",
          "name": "stdout",
          "text": [
            "{'Mickey': 10, 'Minnie': 29, 'Donald': 30, 'Pluto': 5, 'Daisy': 25}\n"
          ]
        }
      ]
    },
    {
      "cell_type": "code",
      "source": [
        "'''Nested Dictionary Magic\n",
        "Create a dictionary mickey_info with Mickey's \"age\", \"pet\" (Pluto), and \"hobbies\" as a\n",
        "list [\"magic\", \"dancing\"]. '''\n",
        "\n",
        "mickey_info={'age':10,'pet':'Pluto','hobbies':['magic','dancing']}\n",
        "print(mickey_info)\n"
      ],
      "metadata": {
        "colab": {
          "base_uri": "https://localhost:8080/"
        },
        "id": "XAOuho4aOaqC",
        "outputId": "119c441a-8206-4b5f-cec7-9b82196cab47"
      },
      "execution_count": null,
      "outputs": [
        {
          "output_type": "stream",
          "name": "stdout",
          "text": [
            "{'age': 10, 'pet': 'Pluto', 'hobbies': ['magic', 'dancing']}\n"
          ]
        }
      ]
    },
    {
      "cell_type": "code",
      "source": [
        "'''Clear the House for Cleaning!\n",
        "Clear all items from the friends_ages dictionary using .clear() '''\n",
        "\n",
        "friends_ages.clear()"
      ],
      "metadata": {
        "id": "iS4BCbUZOase"
      },
      "execution_count": null,
      "outputs": []
    },
    {
      "cell_type": "code",
      "source": [
        "''' Get Age of Non-existing Friend Safely!\n",
        "Try getting \"Max\"’s age using .get(\"Max\") to avoid errors if he's not there!'''\n",
        "\n",
        "friends_ages.get('Max')"
      ],
      "metadata": {
        "id": "h3cXYFshOavX"
      },
      "execution_count": null,
      "outputs": []
    },
    {
      "cell_type": "code",
      "source": [
        "'''Create from Two Lists!\n",
        "Mickey has two lists:\n",
        "names = [\"Mickey\", \"Donald\", \"Goofy\"]\n",
        "ages = [27, 30, 32]\n",
        "Create a dictionary from these two lists using zip().'''\n",
        "\n",
        "names = [\"Mickey\", \"Donald\", \"Goofy\"]\n",
        "ages = [27, 30, 32]\n",
        "dct=dict(zip(names,ages))\n",
        "dct"
      ],
      "metadata": {
        "id": "7olvu-QdOax6",
        "colab": {
          "base_uri": "https://localhost:8080/"
        },
        "outputId": "025c060b-ea06-4731-8359-3f518a76c2ff"
      },
      "execution_count": 5,
      "outputs": [
        {
          "output_type": "execute_result",
          "data": {
            "text/plain": [
              "{'Mickey': 27, 'Donald': 30, 'Goofy': 32}"
            ]
          },
          "metadata": {},
          "execution_count": 5
        }
      ]
    },
    {
      "cell_type": "code",
      "source": [
        "'''Reverse the Dictionary!\n",
        "If the dictionary is { \"Mickey\": 27, \"Donald\": 30 }, create { 27: \"Mickey\", 30: \"Donald\" }.'''\n",
        "\n",
        "dct={ \"Mickey\": 27, \"Donald\": 30 }\n",
        "rev_dct={}\n",
        "for pair in dct.items():\n",
        "  rev_dct[pair[1]]=pair[0]\n",
        "print(rev_dct)"
      ],
      "metadata": {
        "colab": {
          "base_uri": "https://localhost:8080/"
        },
        "id": "Ug64PWuVOa0j",
        "outputId": "06470973-493f-474b-a3ff-cbc8062d2322"
      },
      "execution_count": null,
      "outputs": [
        {
          "output_type": "stream",
          "name": "stdout",
          "text": [
            "{27: 'Mickey', 30: 'Donald'}\n"
          ]
        }
      ]
    },
    {
      "cell_type": "code",
      "source": [
        "'''Find the Oldest Friend!\n",
        "Loop through the dictionary and find the friend with the highest age!'''\n",
        "\n",
        "max_age = max(dct.values())\n",
        "for key in dct.keys():\n",
        "  if dct[key]== max_age:\n",
        "    print(key)"
      ],
      "metadata": {
        "colab": {
          "base_uri": "https://localhost:8080/"
        },
        "id": "NArb343cOa3Z",
        "outputId": "5fc0ca8d-2c80-449a-f947-2a6ddd916952"
      },
      "execution_count": null,
      "outputs": [
        {
          "output_type": "stream",
          "name": "stdout",
          "text": [
            "Donald\n"
          ]
        }
      ]
    },
    {
      "cell_type": "code",
      "source": [
        "'''Create a Birthday Countdown Dictionary!\n",
        "Create a dictionary with friend names as keys and values as number of days left for their\n",
        "birthday'''\n",
        "days={\"minnie\":32,\"mickey\":90,\"goofy\":78}\n",
        "days"
      ],
      "metadata": {
        "colab": {
          "base_uri": "https://localhost:8080/"
        },
        "id": "kWeAxgmFOa6L",
        "outputId": "140b8b31-2be3-4af7-f12b-3bf1e6c654c5"
      },
      "execution_count": null,
      "outputs": [
        {
          "output_type": "execute_result",
          "data": {
            "text/plain": [
              "{'minnie': 32, 'mickey': 90, 'goofy': 78}"
            ]
          },
          "metadata": {},
          "execution_count": 85
        }
      ]
    }
  ]
}