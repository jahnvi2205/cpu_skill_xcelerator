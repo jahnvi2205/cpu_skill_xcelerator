{
  "nbformat": 4,
  "nbformat_minor": 0,
  "metadata": {
    "colab": {
      "provenance": []
    },
    "kernelspec": {
      "name": "python3",
      "display_name": "Python 3"
    },
    "language_info": {
      "name": "python"
    }
  },
  "cells": [
    {
      "cell_type": "markdown",
      "source": [
        "## **Strings**"
      ],
      "metadata": {
        "id": "9LZakGOvEQK7"
      }
    },
    {
      "cell_type": "code",
      "source": [
        "'''Your team name is \"Super Strikers\". Use a string method to make it SCREAM LIKE A\n",
        "COACH after a last-ball six!\n",
        "(Hint: convert it to uppercase)'''\n",
        "team=\"Super Strikers\"\n",
        "print(team.upper())"
      ],
      "metadata": {
        "colab": {
          "base_uri": "https://localhost:8080/"
        },
        "id": "79AfpscV_hhr",
        "outputId": "427b6ce8-b15f-4ad1-ec53-f5f92f510eeb"
      },
      "execution_count": null,
      "outputs": [
        {
          "output_type": "stream",
          "name": "stdout",
          "text": [
            "SUPER STRIKERS\n"
          ]
        }
      ]
    },
    {
      "cell_type": "code",
      "source": [
        "'''Your startup name \"Code Masters\" needs a quiet logo for stealth mode. Whisper it\n",
        "using a string method!'''\n",
        "startup=\"Code Masters\"\n",
        "print(startup.lower())"
      ],
      "metadata": {
        "colab": {
          "base_uri": "https://localhost:8080/"
        },
        "id": "yXzSMJGV_hnd",
        "outputId": "2d24a162-a30f-4485-c8dc-c0d0663f4fd5"
      },
      "execution_count": null,
      "outputs": [
        {
          "output_type": "stream",
          "name": "stdout",
          "text": [
            "code masters\n"
          ]
        }
      ]
    },
    {
      "cell_type": "code",
      "source": [
        "'''Your gamer tag is \"noob slayer\". Time to impress — apply a method to make it look\n",
        "professional like \"Noob Slayer\"!'''\n",
        "\n",
        "gamer=\"noob slayer\"\n",
        "print(gamer.title())\n"
      ],
      "metadata": {
        "colab": {
          "base_uri": "https://localhost:8080/"
        },
        "id": "HQ-gCagm_hqp",
        "outputId": "4ee55ab3-3e62-4add-9b20-ece1a8ab1861"
      },
      "execution_count": null,
      "outputs": [
        {
          "output_type": "stream",
          "name": "stdout",
          "text": [
            "Noob Slayer\n"
          ]
        }
      ]
    },
    {
      "cell_type": "code",
      "source": [
        "'''Change \"python rocks\" into \"PYTHON rocks\" — just like a software update that\n",
        "keeps the base and only tweaks the top!'''\n",
        "\n",
        "string =  \"python rocks\".split()\n",
        "print(string[0].upper()+\" \"+string[1])"
      ],
      "metadata": {
        "colab": {
          "base_uri": "https://localhost:8080/"
        },
        "id": "IoTXIiMn_hty",
        "outputId": "9ad0b340-e4e7-411c-c4e7-72bd35e890e5"
      },
      "execution_count": null,
      "outputs": [
        {
          "output_type": "stream",
          "name": "stdout",
          "text": [
            "PYTHON rocks\n"
          ]
        }
      ]
    },
    {
      "cell_type": "code",
      "source": [
        "\"\"\"\"Champions League\" just dropped their new name \"Winners League\" — use\n",
        "replace() to stay updated like a transfer window!\"\"\"\n",
        "\n",
        "string = \"Champions League\"\n",
        "print(string.replace(\"Champions\",\"Winners\"))\n"
      ],
      "metadata": {
        "colab": {
          "base_uri": "https://localhost:8080/"
        },
        "id": "F7B5kOI3AZKC",
        "outputId": "5479009b-fbc7-462f-dbfe-afc0e41e5bd6"
      },
      "execution_count": null,
      "outputs": [
        {
          "output_type": "stream",
          "name": "stdout",
          "text": [
            "Winners League\n"
          ]
        }
      ]
    },
    {
      "cell_type": "code",
      "source": [
        "\"\"\"\"coding for all\" is a dope startup name. But your AI thinks PYTHON is cooler. Replace\n",
        "\"coding\" with \"Python\" and pitch it to investors!\"\"\"\n",
        "\n",
        "startup = \"coding for all\"\n",
        "print(startup.replace(\"coding\",\"Python\"))"
      ],
      "metadata": {
        "colab": {
          "base_uri": "https://localhost:8080/"
        },
        "id": "zZTaRYiBAZMx",
        "outputId": "15af1a6c-4646-48f4-e401-ab0e40748bce"
      },
      "execution_count": null,
      "outputs": [
        {
          "output_type": "stream",
          "name": "stdout",
          "text": [
            "Python for all\n"
          ]
        }
      ]
    },
    {
      "cell_type": "code",
      "source": [
        "\"\"\"You got \"Football Cricket Tennis\" — break it into a list like you're drafting teams!\n",
        "(Hint: use split())\"\"\"\n",
        "string = \"Football Cricket Tennis\"\n",
        "print(string.split())"
      ],
      "metadata": {
        "colab": {
          "base_uri": "https://localhost:8080/"
        },
        "id": "hP1tIggJAZPz",
        "outputId": "46875a8c-6d80-4648-da47-d4f2f2b267e0"
      },
      "execution_count": null,
      "outputs": [
        {
          "output_type": "stream",
          "name": "stdout",
          "text": [
            "['Football', 'Cricket', 'Tennis']\n"
          ]
        }
      ]
    },
    {
      "cell_type": "code",
      "source": [
        "\"\"\"You're playing Guess Who! Find out if \"Google\" is hiding in \"Facebook, Google,\n",
        "Microsoft\" using a method.\n",
        "(Hint: use in, find(), or index())\"\"\"\n",
        "\n",
        "string = \"Facebook, Google,Microsoft\"\n",
        "print(\"Google\" in string)\n",
        "print(string.find(\"Google\"))\n",
        "print(string.index(\"Google\"))"
      ],
      "metadata": {
        "colab": {
          "base_uri": "https://localhost:8080/"
        },
        "id": "Ak1Sqii2AZSc",
        "outputId": "83f95c4b-8d3d-4c61-ffa1-19281c14524c"
      },
      "execution_count": null,
      "outputs": [
        {
          "output_type": "stream",
          "name": "stdout",
          "text": [
            "True\n",
            "10\n",
            "10\n"
          ]
        }
      ]
    },
    {
      "cell_type": "code",
      "source": [
        "\"\"\"You’ve got \"The Silent Coders\" — now use a slicing move to cut out \"The\" like a\n",
        "ninja trimming bugs!\"\"\"\n",
        "\n",
        "string=\"The Silent Coders\"\n",
        "print(string[3:])"
      ],
      "metadata": {
        "colab": {
          "base_uri": "https://localhost:8080/"
        },
        "id": "4eY0vG4gAZVN",
        "outputId": "643ba02f-6659-4c22-ed6f-79fddbe4b79d"
      },
      "execution_count": null,
      "outputs": [
        {
          "output_type": "stream",
          "name": "stdout",
          "text": [
            " Silent Coders\n"
          ]
        }
      ]
    },
    {
      "cell_type": "code",
      "source": [
        "\"\"\"📦 You’ve received a list of \"GitHub, OpenAI, DeepMind, HuggingFace\" — unpack\n",
        "them using commas. What method helps?\"\"\"\n",
        "\n",
        "li= \"GitHub, OpenAI, DeepMind, HuggingFace\"\n",
        "print(li.split(\",\"))"
      ],
      "metadata": {
        "colab": {
          "base_uri": "https://localhost:8080/"
        },
        "id": "ASgmPcG1AZXs",
        "outputId": "a6352015-e22a-49c4-b582-eb9f95eb77b1"
      },
      "execution_count": null,
      "outputs": [
        {
          "output_type": "stream",
          "name": "stdout",
          "text": [
            "['GitHub', ' OpenAI', ' DeepMind', ' HuggingFace']\n"
          ]
        }
      ]
    },
    {
      "cell_type": "code",
      "source": [
        "\"\"\"Find the first player (character) in \"Code Red\" — who's opening the match?\n",
        "(Hint: index 0)\"\"\"\n",
        "\n",
        "string=\"Code Red\"\n",
        "print(string[0])"
      ],
      "metadata": {
        "colab": {
          "base_uri": "https://localhost:8080/"
        },
        "id": "epx-Xu9hAZaa",
        "outputId": "8a7646c0-f4d6-4ec4-d79e-86d046c43bc7"
      },
      "execution_count": null,
      "outputs": [
        {
          "output_type": "stream",
          "name": "stdout",
          "text": [
            "C\n"
          ]
        }
      ]
    },
    {
      "cell_type": "code",
      "source": [
        "\"\"\"What's the last character in \"String Bomb\"? Who’s the finisher in your coding lineup?\"\"\"\n",
        "\n",
        "string=\"String Bomb\"\n",
        "print(string[-1])"
      ],
      "metadata": {
        "colab": {
          "base_uri": "https://localhost:8080/"
        },
        "id": "JxpaF40jCGLh",
        "outputId": "8c224428-ac2d-483e-856f-eaf84ec7b197"
      },
      "execution_count": null,
      "outputs": [
        {
          "output_type": "stream",
          "name": "stdout",
          "text": [
            "b\n"
          ]
        }
      ]
    },
    {
      "cell_type": "code",
      "source": [
        "'''Which player sits at index 10 in \"ConsoleWarriors\"? Find the MVP in the lineup.'''\n",
        "\n",
        "string=\"ConsoleWarriors\"\n",
        "print(string[10])"
      ],
      "metadata": {
        "colab": {
          "base_uri": "https://localhost:8080/"
        },
        "id": "sEJ8x4DsCGOj",
        "outputId": "b84fd5bd-4551-4ba4-a874-8f9addc6a721"
      },
      "execution_count": null,
      "outputs": [
        {
          "output_type": "stream",
          "name": "stdout",
          "text": [
            "r\n"
          ]
        }
      ]
    },
    {
      "cell_type": "code",
      "source": [
        "\n",
        "'''Convert \"Artificial Intelligence\" to its superhero acronym like \"AI\" — time to\n",
        "form an elite tech league!'''\n",
        "\n",
        "string=\"Artificial Intelligence\".split()\n",
        "print(string[0][0]+string[1][0])"
      ],
      "metadata": {
        "colab": {
          "base_uri": "https://localhost:8080/"
        },
        "id": "KS5E7NYgCGRO",
        "outputId": "39fc1c71-ad29-483a-c341-7a3a33864dfc"
      },
      "execution_count": null,
      "outputs": [
        {
          "output_type": "stream",
          "name": "stdout",
          "text": [
            "AI\n"
          ]
        }
      ]
    },
    {
      "cell_type": "code",
      "source": [
        "'''Turn \"Backend Developers\" into its legendary dev team acronym — BD. Use your\n",
        "string-fu wisely!'''\n",
        "\n",
        "string=\"Backend Developers\".split()\n",
        "print(string[0][0]+string[1][0])"
      ],
      "metadata": {
        "colab": {
          "base_uri": "https://localhost:8080/"
        },
        "id": "GaGw_ruWCGT5",
        "outputId": "699005f1-5443-470f-a045-bdbcb6efb4b9"
      },
      "execution_count": null,
      "outputs": [
        {
          "output_type": "stream",
          "name": "stdout",
          "text": [
            "BD\n"
          ]
        }
      ]
    },
    {
      "cell_type": "code",
      "source": [
        "'''Your string is \"Fly High Sky Kings\". Convert it to uppercase, then swap the case like\n",
        "a Jet mode toggling!\n",
        "(Hint: chain upper().swapcase())'''\n",
        "\n",
        "string =\"Fly High Sky Kings\"\n",
        "print(string.upper().swapcase())"
      ],
      "metadata": {
        "colab": {
          "base_uri": "https://localhost:8080/"
        },
        "id": "yfpCRzapCGWz",
        "outputId": "70c066de-3ff0-49bd-8016-9448f66208fd"
      },
      "execution_count": null,
      "outputs": [
        {
          "output_type": "stream",
          "name": "stdout",
          "text": [
            "fly high sky kings\n"
          ]
        }
      ]
    },
    {
      "cell_type": "code",
      "source": [
        "'''Find out where the letter \"C\" first appears in \"CodingForChampions\" — like spotting\n",
        "your fav cricketer in the stadium!'''\n",
        "\n",
        "string=\"CodingForChampions\"\n",
        "print(string.find(\"C\"))"
      ],
      "metadata": {
        "colab": {
          "base_uri": "https://localhost:8080/"
        },
        "id": "dDU_KFQfCGZX",
        "outputId": "45c6df35-50a4-4420-e0f3-399e45b38253"
      },
      "execution_count": null,
      "outputs": [
        {
          "output_type": "stream",
          "name": "stdout",
          "text": [
            "0\n"
          ]
        }
      ]
    },
    {
      "cell_type": "code",
      "source": [
        "'''You've got \"Messi Ronaldo Neymar\", and you want to find if \"Messi\" is still on the\n",
        "team. What method will you use to check?'''\n",
        "\n",
        "string=\"Messi Ronaldo Neymar\"\n",
        "print(\"Messi\" in string)"
      ],
      "metadata": {
        "colab": {
          "base_uri": "https://localhost:8080/"
        },
        "id": "Bz6w2R-WCGcp",
        "outputId": "74b5afce-037c-43bd-a742-0cc93197cb8b"
      },
      "execution_count": null,
      "outputs": [
        {
          "output_type": "stream",
          "name": "stdout",
          "text": [
            "True\n"
          ]
        }
      ]
    },
    {
      "cell_type": "code",
      "source": [
        "'''Slice out \"Ronaldo\" from \"Messi Ronaldo Neymar\" — like removing a banned player\n",
        "from the squad.\n",
        "(Hint: use slicing with indexes)'''\n",
        "\n",
        "\n",
        "string=\"Messi Ronaldo Neymar\"\n",
        "print(string[6:14])"
      ],
      "metadata": {
        "colab": {
          "base_uri": "https://localhost:8080/"
        },
        "id": "typl77_qAZdx",
        "outputId": "e08b8e5f-c46e-4e32-98f1-42023a57441e"
      },
      "execution_count": null,
      "outputs": [
        {
          "output_type": "stream",
          "name": "stdout",
          "text": [
            "Ronaldo \n"
          ]
        }
      ]
    },
    {
      "cell_type": "code",
      "source": [
        "'''🔧 Split \"AI_ML_DS\" using \"_\" and make a list of all your tech weapons — what's the\n",
        "method?'''\n",
        "\n",
        "\n",
        "string=\"AI_ML_DS\"\n",
        "print(string.split(\"_\"))"
      ],
      "metadata": {
        "colab": {
          "base_uri": "https://localhost:8080/"
        },
        "id": "cI9nqwF__hxM",
        "outputId": "4ee409db-c688-411e-b8ac-019205d97d95"
      },
      "execution_count": null,
      "outputs": [
        {
          "output_type": "stream",
          "name": "stdout",
          "text": [
            "['AI', 'ML', 'DS']\n"
          ]
        }
      ]
    },
    {
      "cell_type": "code",
      "source": [
        "def is_palindrome(s):\n",
        "  if s == s[::-1]:\n",
        "    return True\n",
        "  else:\n",
        "    return False\n",
        "\n",
        "\n",
        "# case1\n",
        "string = \"ABACDDCDXYBAGHGGHGABYXDCDDCABA\"\n",
        "s= list()\n",
        "for i in range(len(string)):\n",
        "  for j in range(i,len(string)):\n",
        "    if is_palindrome(string[i:j]):\n",
        "      if string[i:j] not in s:\n",
        "        s.append(string[i:j])\n",
        "\n",
        "\n",
        "# for i in s:print(i)\n",
        "print(len(s))"
      ],
      "metadata": {
        "colab": {
          "base_uri": "https://localhost:8080/"
        },
        "id": "hjsG29oYH0Qb",
        "outputId": "99caaa7c-429f-4c9e-a0c1-2c168662e0c0"
      },
      "execution_count": null,
      "outputs": [
        {
          "output_type": "stream",
          "name": "stdout",
          "text": [
            "28\n"
          ]
        }
      ]
    },
    {
      "cell_type": "code",
      "source": [
        "# case2\n",
        "string = \"ABACDDCDXYBAGHGGHGABYXDCDDCABA\"\n",
        "s= list()\n",
        "for i in range(len(string)):\n",
        "  for j in range(i,len(string)+1):\n",
        "    if is_palindrome(string[i:j]):\n",
        "      if string[i:j] not in s:\n",
        "        s.append(string[i:j])\n",
        "print(len(s))"
      ],
      "metadata": {
        "colab": {
          "base_uri": "https://localhost:8080/"
        },
        "id": "6BXrg4IIH0b9",
        "outputId": "bb7b9005-5bbb-4836-f671-062dc690db5c"
      },
      "execution_count": null,
      "outputs": [
        {
          "output_type": "stream",
          "name": "stdout",
          "text": [
            "29\n"
          ]
        }
      ]
    },
    {
      "cell_type": "code",
      "source": [
        "# case3\n",
        "string = \"ABACDDCDXYBAGHGGHGABYXDCDDCABA\"\n",
        "s= list()\n",
        "for i in range(len(string)):\n",
        "  for j in range(i,len(string)+1):\n",
        "    if is_palindrome(string[i:j+1]):\n",
        "      if string[i:j+1] not in s:\n",
        "        s.append(string[i:j+1])\n",
        "print(len(s))"
      ],
      "metadata": {
        "colab": {
          "base_uri": "https://localhost:8080/"
        },
        "id": "kXq4HmVzQB8O",
        "outputId": "631a066f-2074-43dd-8482-e2c1feb91189"
      },
      "execution_count": null,
      "outputs": [
        {
          "output_type": "stream",
          "name": "stdout",
          "text": [
            "28\n"
          ]
        }
      ]
    },
    {
      "cell_type": "code",
      "source": [
        "# case4\n",
        "string = \"ABACDDCDXYBAGHGGHGABYXDCDDCABA\"\n",
        "s= list()\n",
        "for i in range(len(string)):\n",
        "  for j in range(i,len(string)):\n",
        "    if is_palindrome(string[i:j+1]):\n",
        "      if string[i:j+1] not in s:\n",
        "        s.append(string[i:j+1])\n",
        "print(len(s))"
      ],
      "metadata": {
        "colab": {
          "base_uri": "https://localhost:8080/"
        },
        "id": "jnoqxy7tQCCI",
        "outputId": "e3464191-ab36-4778-fb2a-f8fa75018b4c"
      },
      "execution_count": null,
      "outputs": [
        {
          "output_type": "stream",
          "name": "stdout",
          "text": [
            "28\n"
          ]
        }
      ]
    },
    {
      "cell_type": "code",
      "source": [
        "+"
      ],
      "metadata": {
        "id": "CtLUD8JMQOW3"
      },
      "execution_count": null,
      "outputs": []
    }
  ]
}