{
  "nbformat": 4,
  "nbformat_minor": 0,
  "metadata": {
    "colab": {
      "provenance": []
    },
    "kernelspec": {
      "name": "python3",
      "display_name": "Python 3"
    },
    "language_info": {
      "name": "python"
    }
  },
  "cells": [
    {
      "cell_type": "code",
      "execution_count": null,
      "metadata": {
        "colab": {
          "base_uri": "https://localhost:8080/"
        },
        "id": "jsZHkab1yiyj",
        "outputId": "11877f8a-199b-4370-c1da-54487c694d84"
      },
      "outputs": [
        {
          "output_type": "stream",
          "name": "stdout",
          "text": [
            "3800\n"
          ]
        }
      ],
      "source": [
        "\"\"\"💸 CPU Hostel Mess Budget – Assignment Operator\n",
        "The mess budget for a student is ₹5000 per month. After ordering ₹1200 worth of Zomato food,\n",
        "update the budget using an assignment operator.\n",
        "➡️ What’s the remaining mess budget?\"\"\"\n",
        "\n",
        "mess= 5000\n",
        "zomato = 1200\n",
        "budget = mess - zomato\n",
        "print(budget)"
      ]
    },
    {
      "cell_type": "code",
      "source": [
        "\"\"\"CPU Lab Access Logic – Using and Operator\n",
        "To enter the premium coding lab, a student must:\n",
        "● Have a valid ID card\n",
        "● AND be enrolled in a minimum of 2 lab-based courses.\n",
        "\n",
        "✅ Write a condition to check if the student gets access.\"\"\"\n",
        "\n",
        "ID_card = True\n",
        "courses = 3\n",
        "if(ID_card == True and courses >= 2):\n",
        "  print(\"Access Granted\")\n",
        "else:\n",
        "  print(\"Access denied\")"
      ],
      "metadata": {
        "colab": {
          "base_uri": "https://localhost:8080/"
        },
        "id": "JRqGCMkGyyVG",
        "outputId": "be9badcb-2a2d-484c-ac54-f9542f70e6e1"
      },
      "execution_count": null,
      "outputs": [
        {
          "output_type": "stream",
          "name": "stdout",
          "text": [
            "Access Granted\n"
          ]
        }
      ]
    },
    {
      "cell_type": "code",
      "source": [
        "\"\"\"CPU Gaming Club Entry – Using or Operator\n",
        "The Gaming Club allows entry if:\n",
        "● The student has a GPU laptop\n",
        "● OR has scored above 80 in Data Structures.\n",
        "\n",
        "Write a condition that decides if the student can join the club.\"\"\"\n",
        "\n",
        "GPU = True\n",
        "SCore = 49\n",
        "if(GPU == True or SCore > 80):\n",
        "  print(\"Join!\")\n",
        "else:\n",
        "  print(\"Access denied\")"
      ],
      "metadata": {
        "colab": {
          "base_uri": "https://localhost:8080/"
        },
        "id": "HiPhMWvZyyXk",
        "outputId": "b30c9170-c74c-4e32-e156-a5ed3895a94e"
      },
      "execution_count": null,
      "outputs": [
        {
          "output_type": "stream",
          "name": "stdout",
          "text": [
            "Join!\n"
          ]
        }
      ]
    },
    {
      "cell_type": "code",
      "source": [
        "'''CPU Wellness Policy – Using not\n",
        "According to CPU wellness policy, a student must not exceed 8 hours of screen time to access the\n",
        "gym.\n",
        "📱 If a student has 9 hours of screen time, should they be allowed?\n",
        "Write a not-based condition to implement this policy.'''\n",
        "\n",
        "time = 5\n",
        "if(not(time > 8)):\n",
        "  print(\"Access Granted\")\n",
        "else:\n",
        "  print(\"Access Denied\")\n"
      ],
      "metadata": {
        "colab": {
          "base_uri": "https://localhost:8080/"
        },
        "id": "y0tqpLBczmzs",
        "outputId": "70b9ad0d-8efa-42fb-cc3d-b7993b63ef12"
      },
      "execution_count": null,
      "outputs": [
        {
          "output_type": "stream",
          "name": "stdout",
          "text": [
            "Access Granted\n"
          ]
        }
      ]
    },
    {
      "cell_type": "code",
      "source": [
        "'''CPU Coding Hackathon – Complex Logic\n",
        "A student qualifies for the final round if:\n",
        "\n",
        "● They have attendance >= 75%\n",
        "● AND they either completed the bonus assignment OR scored >90 in Python midterm.\n",
        "\n",
        "Write the condition to check if a student qualifies.'''\n",
        "\n",
        "attendance = 82\n",
        "assignment = False\n",
        "Python = 95\n",
        "\n",
        "if attendance >=75 and (assignment == True or Python > 90):\n",
        "    print(\"Qualified\")\n",
        "else:\n",
        "    print(\"Not Qualified\")"
      ],
      "metadata": {
        "colab": {
          "base_uri": "https://localhost:8080/"
        },
        "id": "-ta2Nvvez3dH",
        "outputId": "3a83fb82-2559-42bd-eb29-e2acda264753"
      },
      "execution_count": null,
      "outputs": [
        {
          "output_type": "stream",
          "name": "stdout",
          "text": [
            "Qualified\n"
          ]
        }
      ]
    },
    {
      "cell_type": "code",
      "source": [
        "string = \"LILY\"\n",
        "new_string = \"\"\n",
        "for i in string:\n",
        "  new_string= i+new_string\n",
        "\n",
        "print(new_string)\n",
        "print(string[0:-1])"
      ],
      "metadata": {
        "colab": {
          "base_uri": "https://localhost:8080/"
        },
        "id": "C5SMtI1Y5IdM",
        "outputId": "652323f5-e8d7-4d9a-8cd4-9bbfce639322"
      },
      "execution_count": null,
      "outputs": [
        {
          "output_type": "stream",
          "name": "stdout",
          "text": [
            "YLIL\n",
            "LIL\n"
          ]
        }
      ]
    },
    {
      "cell_type": "markdown",
      "source": [
        "find- -1 if not found\n",
        "indexx: error: if not found\n",
        "false: isalnum: space in string\n"
      ],
      "metadata": {
        "id": "tj_m9nqV8pTn"
      }
    },
    {
      "cell_type": "code",
      "source": [
        "num= '10.5'\n",
        "num.isdigit()\n",
        "\n",
        "num= '10'\n",
        "num.isdigit()"
      ],
      "metadata": {
        "colab": {
          "base_uri": "https://localhost:8080/"
        },
        "id": "ILtWzSly9Uc3",
        "outputId": "be8a4b6c-434e-4741-c124-b56eb9e544d7"
      },
      "execution_count": null,
      "outputs": [
        {
          "output_type": "execute_result",
          "data": {
            "text/plain": [
              "True"
            ]
          },
          "metadata": {},
          "execution_count": 15
        }
      ]
    }
  ]
}