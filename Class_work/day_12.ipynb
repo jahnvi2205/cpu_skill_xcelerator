{
  "nbformat": 4,
  "nbformat_minor": 0,
  "metadata": {
    "colab": {
      "provenance": []
    },
    "kernelspec": {
      "name": "python3",
      "display_name": "Python 3"
    },
    "language_info": {
      "name": "python"
    }
  },
  "cells": [
    {
      "cell_type": "code",
      "execution_count": 2,
      "metadata": {
        "id": "Y2s24ea6zaAL"
      },
      "outputs": [],
      "source": [
        "class Node:\n",
        "  def __init__(self,data):\n",
        "    self.data=data\n",
        "    self.next=None\n",
        "    self.prev=None"
      ]
    },
    {
      "cell_type": "code",
      "source": [
        "class DoublyList:\n",
        "  def __init__(self):\n",
        "    self.head=None\n",
        "\n",
        "\n",
        "  def insert(self,pos,data):\n",
        "    new=Node(data)\n",
        "    if (pos==1):\n",
        "      if not self.head:\n",
        "        self.head=new\n",
        "      else:\n",
        "        self.head.prev=new\n",
        "        new.next=self.head\n",
        "        self.head=new\n",
        "\n",
        "    else:\n",
        "      temp=self.head\n",
        "      count=1\n",
        "      while (temp.next!=None) and (count<pos-1):\n",
        "        temp=temp.next\n",
        "        count+=1\n",
        "\n",
        "      if temp.next==None:\n",
        "        temp.next=new\n",
        "        temp.next.prev=temp\n",
        "\n",
        "      else:\n",
        "        new.next=temp.next\n",
        "        new.prev=temp\n",
        "        temp.next.prev=new\n",
        "        temp.next=new\n",
        "    return\n",
        "\n",
        "\n",
        "  def remove(self,pos):\n",
        "    if not self.head:\n",
        "      return\n",
        "    if pos==1:\n",
        "      self.head=self.head.next\n",
        "      self.head.prev=None\n",
        "    else:\n",
        "      temp=self.head\n",
        "      count=pos-1\n",
        "      while count<pos-1:\n",
        "        temp=temp.next\n",
        "        count+=1\n",
        "\n",
        "      if temp.next.next== None:\n",
        "        temp.next=None\n",
        "\n",
        "      else:\n",
        "        temp.next=temp.next.next\n",
        "        temp.next.prev=temp\n",
        "\n",
        "    return\n",
        "\n",
        "\n",
        "  def print_dll(self):\n",
        "    temp=self.head\n",
        "    while temp:\n",
        "      print(temp.data,'--->',end='')\n",
        "      temp=temp.next"
      ],
      "metadata": {
        "id": "jmWcU0aLznND"
      },
      "execution_count": 3,
      "outputs": []
    },
    {
      "cell_type": "code",
      "source": [
        "dll= DoublyList()"
      ],
      "metadata": {
        "id": "fBWzptpNznXl"
      },
      "execution_count": 4,
      "outputs": []
    },
    {
      "cell_type": "code",
      "source": [
        "dll.insert(1,1)"
      ],
      "metadata": {
        "id": "3NkbxpZiIdp1"
      },
      "execution_count": 5,
      "outputs": []
    },
    {
      "cell_type": "code",
      "source": [
        "dll.print_dll()"
      ],
      "metadata": {
        "colab": {
          "base_uri": "https://localhost:8080/"
        },
        "id": "NrsY-rXOIk4v",
        "outputId": "9a813a91-dc2a-4e52-91df-b26404ac5a23"
      },
      "execution_count": 6,
      "outputs": [
        {
          "output_type": "stream",
          "name": "stdout",
          "text": [
            "1 --->"
          ]
        }
      ]
    },
    {
      "cell_type": "code",
      "source": [
        "dll.insert(2,2)\n",
        "dll.print_dll()"
      ],
      "metadata": {
        "colab": {
          "base_uri": "https://localhost:8080/"
        },
        "id": "FBTpF3x8JAnH",
        "outputId": "569e724e-1b92-424c-a91d-f7dcbf72d801"
      },
      "execution_count": 7,
      "outputs": [
        {
          "output_type": "stream",
          "name": "stdout",
          "text": [
            "1 --->2 --->"
          ]
        }
      ]
    },
    {
      "cell_type": "code",
      "source": [
        "dll.insert(1,10)\n",
        "dll.print_dll()"
      ],
      "metadata": {
        "colab": {
          "base_uri": "https://localhost:8080/"
        },
        "id": "LI84WEBQJOOf",
        "outputId": "e1397b90-26b6-4cdb-bc7d-f93d3e632ed2"
      },
      "execution_count": 8,
      "outputs": [
        {
          "output_type": "stream",
          "name": "stdout",
          "text": [
            "10 --->1 --->2 --->"
          ]
        }
      ]
    },
    {
      "cell_type": "code",
      "source": [
        "dll.insert(2,140)\n",
        "dll.print_dll()"
      ],
      "metadata": {
        "colab": {
          "base_uri": "https://localhost:8080/"
        },
        "id": "Wy_NK1M1JTjr",
        "outputId": "43484754-b8d4-4bbe-ec37-d41e20b802f0"
      },
      "execution_count": 9,
      "outputs": [
        {
          "output_type": "stream",
          "name": "stdout",
          "text": [
            "10 --->140 --->1 --->2 --->"
          ]
        }
      ]
    },
    {
      "cell_type": "code",
      "source": [
        "dll.insert(4,7)\n",
        "dll.print_dll()"
      ],
      "metadata": {
        "colab": {
          "base_uri": "https://localhost:8080/"
        },
        "id": "VdVsyzFyJXm3",
        "outputId": "7da74bc9-cf49-40c5-9922-0c060d535e71"
      },
      "execution_count": 10,
      "outputs": [
        {
          "output_type": "stream",
          "name": "stdout",
          "text": [
            "10 --->140 --->1 --->7 --->2 --->"
          ]
        }
      ]
    },
    {
      "cell_type": "code",
      "source": [
        "dll.remove(1)\n",
        "dll.print_dll()"
      ],
      "metadata": {
        "colab": {
          "base_uri": "https://localhost:8080/"
        },
        "id": "alugb-vWJdDK",
        "outputId": "42d5b623-e86c-4107-939f-f2bd00c81bb3"
      },
      "execution_count": 11,
      "outputs": [
        {
          "output_type": "stream",
          "name": "stdout",
          "text": [
            "140 --->1 --->7 --->2 --->"
          ]
        }
      ]
    },
    {
      "cell_type": "code",
      "source": [
        "dll.remove(2)\n",
        "dll.print_dll()"
      ],
      "metadata": {
        "colab": {
          "base_uri": "https://localhost:8080/"
        },
        "id": "pgAW9sX2LNIP",
        "outputId": "975c76a6-7672-4376-a891-164b9880e3b4"
      },
      "execution_count": 12,
      "outputs": [
        {
          "output_type": "stream",
          "name": "stdout",
          "text": [
            "140 --->7 --->2 --->"
          ]
        }
      ]
    },
    {
      "cell_type": "code",
      "source": [
        "dll.remove(3)\n",
        "dll.print_dll()"
      ],
      "metadata": {
        "id": "uQj_dXD1LNLS",
        "colab": {
          "base_uri": "https://localhost:8080/"
        },
        "outputId": "aa62d7b0-1387-4a1b-9747-14c240f3485e"
      },
      "execution_count": 13,
      "outputs": [
        {
          "output_type": "stream",
          "name": "stdout",
          "text": [
            "140 --->2 --->"
          ]
        }
      ]
    },
    {
      "cell_type": "code",
      "source": [
        "dll.print_dll()"
      ],
      "metadata": {
        "colab": {
          "base_uri": "https://localhost:8080/"
        },
        "id": "ujL7ZEQrLNOT",
        "outputId": "a7300276-c80e-40a3-ab97-c70aac26f280"
      },
      "execution_count": 14,
      "outputs": [
        {
          "output_type": "stream",
          "name": "stdout",
          "text": [
            "140 --->2 --->"
          ]
        }
      ]
    },
    {
      "cell_type": "code",
      "source": [
        "dll.remove(2)\n",
        "dll.print_dll()"
      ],
      "metadata": {
        "id": "9aZQCj1wLNRA",
        "colab": {
          "base_uri": "https://localhost:8080/"
        },
        "outputId": "a9e40417-18ba-4091-fa98-2a96b1c6a382"
      },
      "execution_count": 15,
      "outputs": [
        {
          "output_type": "stream",
          "name": "stdout",
          "text": [
            "140 --->"
          ]
        }
      ]
    },
    {
      "cell_type": "code",
      "source": [],
      "metadata": {
        "id": "bDGMpGWxLNUd"
      },
      "execution_count": null,
      "outputs": []
    }
  ]
}