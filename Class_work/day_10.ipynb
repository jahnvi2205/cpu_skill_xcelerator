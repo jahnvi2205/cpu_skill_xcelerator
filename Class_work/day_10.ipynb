{
  "nbformat": 4,
  "nbformat_minor": 0,
  "metadata": {
    "colab": {
      "provenance": []
    },
    "kernelspec": {
      "name": "python3",
      "display_name": "Python 3"
    },
    "language_info": {
      "name": "python"
    }
  },
  "cells": [
    {
      "cell_type": "code",
      "execution_count": null,
      "metadata": {
        "id": "dAo2ospB-OCG"
      },
      "outputs": [],
      "source": [
        "# linked List\n",
        "class Node:\n",
        "  def __init__(self,data):\n",
        "    self.data=data\n",
        "    self.next=None\n",
        "\n",
        "class Linkedlist():\n",
        "  def __init__(self):\n",
        "    self.head=None\n",
        "\n",
        "  def insert(self,pos,data):\n",
        "    new_node=Node(data)\n",
        "    temp=self.head\n",
        "    if pos==1:\n",
        "      new_node.next=self.head\n",
        "      self.head=new_node\n",
        "      return\n",
        "\n",
        "\n",
        "    curr=self.head\n",
        "    while curr.next and pos-1!=1:\n",
        "      pos-=1\n",
        "      curr=curr.next\n",
        "\n",
        "    new_node.next=curr.next\n",
        "    curr.next=new_node\n",
        "\n",
        "\n",
        "\n",
        "  def remove(self,data):\n",
        "    if not self.head:\n",
        "      return\n",
        "    if self.head.data==data:\n",
        "      self.head=self.head.next\n",
        "      return\n",
        "\n",
        "    curr=self.head\n",
        "    while curr.next and curr.next.data!=data:\n",
        "      curr= curr.next\n",
        "\n",
        "    if curr.next:\n",
        "      curr.next=curr.next.next\n",
        "\n",
        "\n",
        "  def update(self,prev_val,new_val):\n",
        "    curr=self.head\n",
        "    while curr and curr.data!=prev_val:\n",
        "      curr= curr.next\n",
        "    curr.data=new_val\n",
        "\n",
        "\n",
        "  def print_all(self):\n",
        "    curr=self.head\n",
        "    while curr:\n",
        "      print(curr.data,'--->',end='')\n",
        "      curr= curr.next\n",
        "    print('None\\n')\n",
        "\n",
        "\n",
        "  def lengthh(self):\n",
        "    count=0\n",
        "    curr=self.head\n",
        "    while curr:\n",
        "      count+=1\n",
        "      curr = curr.next\n",
        "    return count\n",
        "\n",
        "\n"
      ]
    },
    {
      "cell_type": "code",
      "source": [
        "ll = Linkedlist()\n",
        "ll.insert(1,10)\n",
        "ll.print_all()\n",
        "ll.insert(2,20)\n",
        "ll.print_all()\n",
        "ll.insert(3,30)\n",
        "ll.print_all()\n",
        "ll.insert(2,40)\n",
        "ll.print_all()\n",
        "ll.update(40,60)    #by position?\n",
        "ll.print_all()\n",
        "ll.remove(20)\n",
        "ll.print_all()\n",
        "ll.insert(1,10)\n",
        "ll.print_all()"
      ],
      "metadata": {
        "id": "Ml_MsVTmDTC3",
        "colab": {
          "base_uri": "https://localhost:8080/"
        },
        "outputId": "1792032e-5180-44a3-bec5-dacb68f0c1f1"
      },
      "execution_count": null,
      "outputs": [
        {
          "output_type": "stream",
          "name": "stdout",
          "text": [
            "10 --->None\n",
            "\n",
            "10 --->20 --->None\n",
            "\n",
            "10 --->20 --->30 --->None\n",
            "\n",
            "10 --->40 --->20 --->30 --->None\n",
            "\n",
            "10 --->60 --->20 --->30 --->None\n",
            "\n",
            "10 --->60 --->30 --->None\n",
            "\n",
            "10 --->10 --->60 --->30 --->None\n",
            "\n"
          ]
        }
      ]
    },
    {
      "cell_type": "code",
      "source": [
        "ll = Linkedlist()\n",
        "ll.insert(10)\n",
        "ll.insert(20)\n",
        "ll.insert(30)\n",
        "# insert(2,40)at pos 2\n",
        "# ll.update(40,60)\n",
        "ll.print_all()"
      ],
      "metadata": {
        "colab": {
          "base_uri": "https://localhost:8080/"
        },
        "id": "k4dv98r5AWd9",
        "outputId": "893b73a7-f698-4b03-f3b1-351b7dee138f"
      },
      "execution_count": null,
      "outputs": [
        {
          "output_type": "stream",
          "name": "stdout",
          "text": [
            "10\n",
            "20\n",
            "30\n"
          ]
        }
      ]
    },
    {
      "cell_type": "code",
      "source": [
        "ll.remove(20)"
      ],
      "metadata": {
        "id": "BIPdwn6bAXTr"
      },
      "execution_count": null,
      "outputs": []
    },
    {
      "cell_type": "code",
      "source": [
        "ll.print_all()"
      ],
      "metadata": {
        "colab": {
          "base_uri": "https://localhost:8080/"
        },
        "id": "o_geYoANAXWj",
        "outputId": "b0b07d5b-93a9-425c-e231-dc8a8ac55f01"
      },
      "execution_count": null,
      "outputs": [
        {
          "output_type": "stream",
          "name": "stdout",
          "text": [
            "10\n",
            "30\n"
          ]
        }
      ]
    },
    {
      "cell_type": "code",
      "source": [
        "ll.insert(40)"
      ],
      "metadata": {
        "id": "hcROEYHxAXZQ"
      },
      "execution_count": null,
      "outputs": []
    },
    {
      "cell_type": "code",
      "source": [
        "ll.remove(10)"
      ],
      "metadata": {
        "id": "M0xxFai8AXco"
      },
      "execution_count": null,
      "outputs": []
    },
    {
      "cell_type": "code",
      "source": [
        "ll.print_all()"
      ],
      "metadata": {
        "colab": {
          "base_uri": "https://localhost:8080/"
        },
        "id": "QswbaulPDCBn",
        "outputId": "e28c2e94-70bd-4b2e-f0c8-0d78e61a37ed"
      },
      "execution_count": null,
      "outputs": [
        {
          "output_type": "stream",
          "name": "stdout",
          "text": [
            "30\n",
            "40\n"
          ]
        }
      ]
    },
    {
      "cell_type": "code",
      "source": [
        "ll.update(20,60)"
      ],
      "metadata": {
        "id": "wq17rjs9DCEU"
      },
      "execution_count": null,
      "outputs": []
    },
    {
      "cell_type": "code",
      "source": [
        "ll.update(30,88)"
      ],
      "metadata": {
        "id": "mFcBsQMbDCHF"
      },
      "execution_count": null,
      "outputs": []
    },
    {
      "cell_type": "code",
      "source": [
        "ll.print_all()"
      ],
      "metadata": {
        "colab": {
          "base_uri": "https://localhost:8080/"
        },
        "id": "KKjl4mKyDCKd",
        "outputId": "42cc763d-91e3-4271-b8b1-47a916a07ec3"
      },
      "execution_count": null,
      "outputs": [
        {
          "output_type": "stream",
          "name": "stdout",
          "text": [
            "88\n",
            "40\n"
          ]
        }
      ]
    },
    {
      "cell_type": "code",
      "source": [
        "ll.lengthh()"
      ],
      "metadata": {
        "colab": {
          "base_uri": "https://localhost:8080/"
        },
        "id": "CWdsuqGNDOCj",
        "outputId": "f96b1cc0-e3bf-4a47-e7fb-f49f7cb8b1eb"
      },
      "execution_count": null,
      "outputs": [
        {
          "output_type": "execute_result",
          "data": {
            "text/plain": [
              "2"
            ]
          },
          "metadata": {},
          "execution_count": 47
        }
      ]
    }
  ]
}