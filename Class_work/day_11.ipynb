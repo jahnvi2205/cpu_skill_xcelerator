{
  "nbformat": 4,
  "nbformat_minor": 0,
  "metadata": {
    "colab": {
      "provenance": []
    },
    "kernelspec": {
      "name": "python3",
      "display_name": "Python 3"
    },
    "language_info": {
      "name": "python"
    }
  },
  "cells": [
    {
      "cell_type": "code",
      "source": [
        "# max subarray\n",
        "s1='ABCDEFI'\n",
        "s2='XYABCFI'\n",
        "n=len(s1)\n",
        "m=len(s2)\n",
        "dp=[[0]*(m+1) for i in range(n+1)]\n",
        "max_sum=0\n",
        "for i in range(n+1):   #start from 1?\n",
        "  for j in range(m+1):\n",
        "    if s1[i-1]==s2[j-1]:\n",
        "      dp[i][j]=dp[i-1][j-1]+1\n",
        "      max_sum=max(max_sum,dp[i][j])\n",
        "\n",
        "\n",
        "for row in dp:\n",
        "  print(row)\n",
        "print(max_sum)"
      ],
      "metadata": {
        "colab": {
          "base_uri": "https://localhost:8080/"
        },
        "id": "Dt05wPXT6BXN",
        "outputId": "035924b9-e430-4437-e7a7-de384a375583"
      },
      "execution_count": null,
      "outputs": [
        {
          "output_type": "stream",
          "name": "stdout",
          "text": [
            "[1, 0, 0, 0, 0, 0, 0, 1]\n",
            "[0, 0, 0, 1, 0, 0, 0, 0]\n",
            "[0, 0, 0, 0, 2, 0, 0, 0]\n",
            "[0, 0, 0, 0, 0, 3, 0, 0]\n",
            "[0, 0, 0, 0, 0, 0, 0, 0]\n",
            "[0, 0, 0, 0, 0, 0, 0, 0]\n",
            "[0, 0, 0, 0, 0, 0, 1, 0]\n",
            "[1, 0, 0, 0, 0, 0, 0, 2]\n",
            "3\n"
          ]
        }
      ]
    },
    {
      "cell_type": "code",
      "source": [
        "# max subsequence\n",
        "s1='ABCDEFI'\n",
        "s2='XYAEZF'\n",
        "n=len(s1)\n",
        "m=len(s2)\n",
        "dp=[[0]*(m+1) for i in range(n+1)]\n",
        "max_sum=0\n",
        "for i in range(1, n+1):\n",
        "  for j in range(1, m+1):\n",
        "    if s1[i-1]==s2[j-1]:\n",
        "      dp[i][j]=dp[i-1][j-1]+1\n",
        "    else:\n",
        "      dp[i][j]= max(dp[i-1][j],dp[i][j-1])\n",
        "\n",
        "for row in dp:\n",
        "  print(row)\n",
        "print(dp[n][m])"
      ],
      "metadata": {
        "colab": {
          "base_uri": "https://localhost:8080/"
        },
        "id": "R-_4tyL-CO8e",
        "outputId": "1377e11f-fea7-4f01-838b-a6a5f17d3492"
      },
      "execution_count": null,
      "outputs": [
        {
          "output_type": "stream",
          "name": "stdout",
          "text": [
            "[0, 0, 0, 0, 0, 0, 0]\n",
            "[0, 0, 0, 1, 1, 1, 1]\n",
            "[0, 0, 0, 1, 1, 1, 1]\n",
            "[0, 0, 0, 1, 1, 1, 1]\n",
            "[0, 0, 0, 1, 1, 1, 1]\n",
            "[0, 0, 0, 1, 2, 2, 2]\n",
            "[0, 0, 0, 1, 2, 2, 3]\n",
            "[0, 0, 0, 1, 2, 2, 3]\n",
            "3\n"
          ]
        }
      ]
    },
    {
      "cell_type": "code",
      "source": [
        "# knapsack\n",
        "value=[160,100,120,50]\n",
        "weight=[10,20,30,40]\n",
        "capacity= 50\n",
        "n = len(weight)\n",
        "dp=[[0]*(capacity+1) for i in range(n+1)]\n",
        "for i in range(1,n+1):\n",
        "  for w in range(1,capacity+1):\n",
        "    if(weight[i-1]<=w):\n",
        "      dp[i][w]= max(value[i - 1] + dp[i - 1][w - weight[i - 1]], dp[i - 1][w])\n",
        "    else:\n",
        "      dp[i][w] = dp[i - 1][w]\n",
        "print(\"Maximum value:\", dp[n][capacity])\n",
        "\n",
        "\n",
        "\n"
      ],
      "metadata": {
        "id": "9zCIFV9pHiY4",
        "colab": {
          "base_uri": "https://localhost:8080/"
        },
        "outputId": "9c58d96c-1fdb-4bea-fec7-fab2509fb27f"
      },
      "execution_count": 6,
      "outputs": [
        {
          "output_type": "stream",
          "name": "stdout",
          "text": [
            "Maximum value: 280\n"
          ]
        }
      ]
    }
  ]
}