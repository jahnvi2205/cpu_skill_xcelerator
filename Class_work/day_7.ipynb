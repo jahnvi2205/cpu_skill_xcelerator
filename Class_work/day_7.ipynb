{
  "nbformat": 4,
  "nbformat_minor": 0,
  "metadata": {
    "colab": {
      "provenance": []
    },
    "kernelspec": {
      "name": "python3",
      "display_name": "Python 3"
    },
    "language_info": {
      "name": "python"
    }
  },
  "cells": [
    {
      "cell_type": "code",
      "execution_count": 25,
      "metadata": {
        "id": "l-ALEPYywIM8"
      },
      "outputs": [],
      "source": [
        "# implementation of queue\n",
        "queue=[]\n",
        "head=-1\n",
        "tail=-1\n",
        "\n",
        "def insert(x):\n",
        "  global head\n",
        "  global tail\n",
        "  if head == tail and head ==-1:\n",
        "    queue.append(x)\n",
        "    head+=1\n",
        "    tail+=1\n",
        "  else:\n",
        "    queue.append(x)\n",
        "    tail+=1\n",
        "  return\n",
        "\n",
        "def pop():\n",
        "  global head\n",
        "  global tail\n",
        "  if (head == tail and head == -1) or (head>tail):\n",
        "    return -1\n",
        "  head+=1\n",
        "\n",
        "def print_queue():\n",
        "  global head\n",
        "  global tail\n",
        "  for i in range(head,tail+1):\n",
        "    print(queue[i])\n",
        ""
      ]
    },
    {
      "cell_type": "code",
      "source": [
        "insert(1)\n",
        "insert(2)\n",
        "insert(3)"
      ],
      "metadata": {
        "id": "SuzSrJX7xM96"
      },
      "execution_count": 26,
      "outputs": []
    },
    {
      "cell_type": "code",
      "source": [
        "print_queue()"
      ],
      "metadata": {
        "colab": {
          "base_uri": "https://localhost:8080/"
        },
        "id": "m6e4l1V30kJB",
        "outputId": "ecec1481-fc7a-40f7-fa79-dbe47a23429e"
      },
      "execution_count": 27,
      "outputs": [
        {
          "output_type": "stream",
          "name": "stdout",
          "text": [
            "1\n",
            "2\n",
            "3\n"
          ]
        }
      ]
    },
    {
      "cell_type": "code",
      "source": [
        "pop()\n",
        "pop()\n",
        "print_queue()"
      ],
      "metadata": {
        "colab": {
          "base_uri": "https://localhost:8080/"
        },
        "id": "UWipwdEv1Vqw",
        "outputId": "13f4c186-4c91-4e3d-8e6f-e9a2ce71211e"
      },
      "execution_count": 28,
      "outputs": [
        {
          "output_type": "stream",
          "name": "stdout",
          "text": [
            "3\n"
          ]
        }
      ]
    },
    {
      "cell_type": "code",
      "source": [
        "insert(4)\n",
        "insert(5)\n",
        "print_queue()"
      ],
      "metadata": {
        "colab": {
          "base_uri": "https://localhost:8080/"
        },
        "id": "-I4mfpiN1pIr",
        "outputId": "c50befba-ecc7-4a1a-c148-2452a4c8f76e"
      },
      "execution_count": 29,
      "outputs": [
        {
          "output_type": "stream",
          "name": "stdout",
          "text": [
            "3\n",
            "4\n",
            "5\n"
          ]
        }
      ]
    },
    {
      "cell_type": "code",
      "source": [
        "pop()\n",
        "pop()\n",
        "pop()\n",
        "print_queue()"
      ],
      "metadata": {
        "id": "YzDUGaIb1s6y"
      },
      "execution_count": 30,
      "outputs": []
    },
    {
      "cell_type": "code",
      "source": [
        "print(head,tail)"
      ],
      "metadata": {
        "colab": {
          "base_uri": "https://localhost:8080/"
        },
        "id": "cqK44fS614aV",
        "outputId": "43b3aeaa-4b70-4667-a088-edaa83e18085"
      },
      "execution_count": 31,
      "outputs": [
        {
          "output_type": "stream",
          "name": "stdout",
          "text": [
            "5 4\n"
          ]
        }
      ]
    },
    {
      "cell_type": "code",
      "source": [
        "insert(6)"
      ],
      "metadata": {
        "id": "23RInuVG2Oge"
      },
      "execution_count": 32,
      "outputs": []
    },
    {
      "cell_type": "code",
      "source": [
        "print_queue()"
      ],
      "metadata": {
        "colab": {
          "base_uri": "https://localhost:8080/"
        },
        "id": "kUZyIhFn2P8b",
        "outputId": "76462ba5-0e8e-4ca7-a730-50e7ee143885"
      },
      "execution_count": 33,
      "outputs": [
        {
          "output_type": "stream",
          "name": "stdout",
          "text": [
            "6\n"
          ]
        }
      ]
    },
    {
      "cell_type": "code",
      "source": [
        "print(head,tail)"
      ],
      "metadata": {
        "colab": {
          "base_uri": "https://localhost:8080/"
        },
        "id": "8wuG5k7c2ROq",
        "outputId": "fa6d3722-3160-4b0d-c2c5-eeed722945b7"
      },
      "execution_count": 34,
      "outputs": [
        {
          "output_type": "stream",
          "name": "stdout",
          "text": [
            "5 5\n"
          ]
        }
      ]
    },
    {
      "cell_type": "code",
      "source": [
        "insert(7)"
      ],
      "metadata": {
        "id": "EmwFg7U32UpK"
      },
      "execution_count": 35,
      "outputs": []
    },
    {
      "cell_type": "code",
      "source": [
        "print(head,tail)"
      ],
      "metadata": {
        "colab": {
          "base_uri": "https://localhost:8080/"
        },
        "id": "geekDotr2ZuD",
        "outputId": "59017d33-5603-4cc5-d3e7-f489aae75de4"
      },
      "execution_count": 36,
      "outputs": [
        {
          "output_type": "stream",
          "name": "stdout",
          "text": [
            "5 6\n"
          ]
        }
      ]
    },
    {
      "cell_type": "code",
      "source": [],
      "metadata": {
        "id": "fHVwFwpP2a8C"
      },
      "execution_count": null,
      "outputs": []
    },
    {
      "cell_type": "code",
      "source": [
        "#implementation of queue using 2 stacks\n",
        "# will do using classes in further lectures\n",
        "queue=[]\n",
        "stack1=[]\n",
        "stack2=[]\n",
        "top=-1\n",
        "\n",
        "def is_stack_empty(stack):\n",
        "  return top == -1\n",
        "\n",
        "def push_stack(x,stack):\n",
        "  stack.append(x)\n",
        "  top+=1\n",
        "  return\n",
        "\n",
        "def pop_stack(stack):\n",
        "  if not is_stack_empty(stack):\n",
        "    element= stack[top]\n",
        "    top -=1\n",
        "    return element\n",
        "\n",
        "def stack_seek(stack):\n",
        "  if not is_stack_empty\n"
      ],
      "metadata": {
        "id": "Y_w4GspO2btE"
      },
      "execution_count": null,
      "outputs": []
    },
    {
      "cell_type": "code",
      "source": [
        "stack=[]\n",
        "top=-1\n",
        "\n",
        "def is_empty():\n",
        "  global top\n",
        "  if top==-1:\n",
        "    return True\n",
        "  return False\n",
        "\n",
        "def push(x):\n",
        "  global top\n",
        "  stack.append(x)\n",
        "  top+=1\n",
        "  return\n",
        "\n",
        "def pop():\n",
        "  global top\n",
        "  if not is_empty():\n",
        "    top-=1\n",
        "    return\n",
        "\n",
        "def seek():\n",
        "  global top\n",
        "  if not is_empty():\n",
        "    return stack[top]\n",
        "  return -1"
      ],
      "metadata": {
        "id": "0h5tbCen9f4U"
      },
      "execution_count": 57,
      "outputs": []
    },
    {
      "cell_type": "code",
      "source": [
        "def palindrome(s):\n",
        "  i=0\n",
        "  while i<len(s)//2:\n",
        "    push(s[i])\n",
        "    i+=1\n",
        "\n",
        "  if len(s)%2 !=0:\n",
        "    i+=1\n",
        "\n",
        "  while i<len(s):\n",
        "    if seek()==s[i]:\n",
        "      i+=1\n",
        "      pop()\n",
        "    else:\n",
        "      return \"Not valid\"\n",
        "\n",
        "  return \"valid\"\n",
        "\n",
        "\n",
        "palindrome('maam')"
      ],
      "metadata": {
        "colab": {
          "base_uri": "https://localhost:8080/",
          "height": 36
        },
        "id": "gMtn4SW79ZSV",
        "outputId": "ff521e32-b4ed-4db5-af20-1c0ff0980edd"
      },
      "execution_count": 56,
      "outputs": [
        {
          "output_type": "execute_result",
          "data": {
            "text/plain": [
              "'valid'"
            ],
            "application/vnd.google.colaboratory.intrinsic+json": {
              "type": "string"
            }
          },
          "metadata": {},
          "execution_count": 56
        }
      ]
    },
    {
      "cell_type": "code",
      "source": [
        "s='madam'\n",
        "len(s)//2"
      ],
      "metadata": {
        "colab": {
          "base_uri": "https://localhost:8080/"
        },
        "id": "6oBO_NXr9Zgp",
        "outputId": "6bc188bb-2d97-47ed-91b3-6d47fa7d8e87"
      },
      "execution_count": 37,
      "outputs": [
        {
          "output_type": "execute_result",
          "data": {
            "text/plain": [
              "2"
            ]
          },
          "metadata": {},
          "execution_count": 37
        }
      ]
    },
    {
      "cell_type": "code",
      "source": [
        "s=\"maam\"\n",
        "len(s)//2"
      ],
      "metadata": {
        "colab": {
          "base_uri": "https://localhost:8080/"
        },
        "id": "F3D5OtbB9Zj1",
        "outputId": "e1ac4927-bc44-4d19-92a8-5bc570fe7c77"
      },
      "execution_count": 38,
      "outputs": [
        {
          "output_type": "execute_result",
          "data": {
            "text/plain": [
              "2"
            ]
          },
          "metadata": {},
          "execution_count": 38
        }
      ]
    },
    {
      "cell_type": "code",
      "source": [
        "stack=[]\n",
        "top=-1\n",
        "\n",
        "def is_empty():\n",
        "  global top\n",
        "  if top==-1:\n",
        "    return True\n",
        "  return False\n",
        "\n",
        "def push(x):\n",
        "  global top\n",
        "  stack.append(x)\n",
        "  top+=1\n",
        "  return\n",
        "\n",
        "def pop():\n",
        "  global top\n",
        "  if not is_empty():\n",
        "    element=stack[top]\n",
        "    stack.remove(stack[top])\n",
        "    top-=1\n",
        "    return element\n",
        "\n",
        "def seek():\n",
        "  global top\n",
        "  if not is_empty():\n",
        "    return stack[top]\n",
        "  return -1\n",
        "\n"
      ],
      "metadata": {
        "id": "833uDqUBB6Yu"
      },
      "execution_count": 81,
      "outputs": []
    },
    {
      "cell_type": "code",
      "source": [
        "string='yer a wizard Harry'.split()\n",
        "output=''\n",
        "\n",
        "for i in string:\n",
        "  for j in i:\n",
        "    push(j)\n",
        "\n",
        "  for k in range(len(stack)):\n",
        "    output+=pop()\n",
        "\n",
        "  output+=' '\n",
        "\n",
        "print(output)"
      ],
      "metadata": {
        "colab": {
          "base_uri": "https://localhost:8080/"
        },
        "id": "efO8fDx69Znm",
        "outputId": "c4253ab0-3641-42e0-b0db-1261a7f1a2da"
      },
      "execution_count": 82,
      "outputs": [
        {
          "output_type": "stream",
          "name": "stdout",
          "text": [
            "rey a draziw yrraH \n"
          ]
        }
      ]
    },
    {
      "cell_type": "code",
      "source": [
        "dct=dict()\n",
        "string='abbccdddefff'\n",
        "output=''\n",
        "\n",
        "for i in string:\n",
        "  if i not in dct:\n",
        "    dct[i]=1\n",
        "  else:\n",
        "    dct[i]+=1\n",
        "\n",
        "while dct:\n",
        "  value= max(dct.values())\n",
        "  for i in dct.keys():\n",
        "    if dct[i]==value:\n",
        "      output+= i*value\n",
        "\n",
        "  for j in set(output):\n",
        "    if j in dct:\n",
        "      del dct[j]\n",
        "\n",
        "print(output)"
      ],
      "metadata": {
        "colab": {
          "base_uri": "https://localhost:8080/"
        },
        "id": "3HCB1Xoi9ZqH",
        "outputId": "f300d6d8-5b0d-494c-d8fc-b9cc40317028"
      },
      "execution_count": 98,
      "outputs": [
        {
          "output_type": "stream",
          "name": "stdout",
          "text": [
            "dddfffbbccae\n"
          ]
        }
      ]
    },
    {
      "cell_type": "code",
      "source": [
        "from collections import Counter\n",
        "a =dict(Counter(\"abbdddeec\"))\n",
        "a"
      ],
      "metadata": {
        "colab": {
          "base_uri": "https://localhost:8080/"
        },
        "id": "BiLJNT_S9ZtF",
        "outputId": "c362231a-4071-4bbe-82bd-bfaaf59322b8"
      },
      "execution_count": 102,
      "outputs": [
        {
          "output_type": "execute_result",
          "data": {
            "text/plain": [
              "{'a': 1, 'b': 2, 'd': 3, 'e': 2, 'c': 1}"
            ]
          },
          "metadata": {},
          "execution_count": 102
        }
      ]
    },
    {
      "cell_type": "code",
      "source": [],
      "metadata": {
        "id": "GvzBi0ID9ZzR"
      },
      "execution_count": null,
      "outputs": []
    },
    {
      "cell_type": "code",
      "source": [],
      "metadata": {
        "id": "C_R_qM2-9Z2E"
      },
      "execution_count": null,
      "outputs": []
    },
    {
      "cell_type": "code",
      "source": [],
      "metadata": {
        "id": "ofLkzzak9Z5N"
      },
      "execution_count": null,
      "outputs": []
    },
    {
      "cell_type": "code",
      "source": [],
      "metadata": {
        "id": "L591eRug9Z8S"
      },
      "execution_count": null,
      "outputs": []
    },
    {
      "cell_type": "code",
      "source": [],
      "metadata": {
        "id": "9c_AHenA9Z_D"
      },
      "execution_count": null,
      "outputs": []
    },
    {
      "cell_type": "code",
      "source": [],
      "metadata": {
        "id": "eEuaC6c69aCQ"
      },
      "execution_count": null,
      "outputs": []
    },
    {
      "cell_type": "code",
      "source": [],
      "metadata": {
        "id": "M6NZIkts9aFI"
      },
      "execution_count": null,
      "outputs": []
    },
    {
      "cell_type": "code",
      "source": [],
      "metadata": {
        "id": "xozUCx0E9aIA"
      },
      "execution_count": null,
      "outputs": []
    },
    {
      "cell_type": "code",
      "source": [],
      "metadata": {
        "id": "N3O8QZ5c9aLG"
      },
      "execution_count": null,
      "outputs": []
    },
    {
      "cell_type": "code",
      "source": [],
      "metadata": {
        "id": "wL6Oj_Ee9aNr"
      },
      "execution_count": null,
      "outputs": []
    },
    {
      "cell_type": "code",
      "source": [],
      "metadata": {
        "id": "p5KMzEFa9aQb"
      },
      "execution_count": null,
      "outputs": []
    },
    {
      "cell_type": "code",
      "source": [],
      "metadata": {
        "id": "8pFZ7erv9aS6"
      },
      "execution_count": null,
      "outputs": []
    },
    {
      "cell_type": "code",
      "source": [],
      "metadata": {
        "id": "UaX59P409aVm"
      },
      "execution_count": null,
      "outputs": []
    },
    {
      "cell_type": "code",
      "source": [],
      "metadata": {
        "id": "6UNKcGaV9aYl"
      },
      "execution_count": null,
      "outputs": []
    },
    {
      "cell_type": "code",
      "source": [],
      "metadata": {
        "id": "Xa7x3-is9abo"
      },
      "execution_count": null,
      "outputs": []
    },
    {
      "cell_type": "code",
      "source": [],
      "metadata": {
        "id": "1xNBfVT09aev"
      },
      "execution_count": null,
      "outputs": []
    },
    {
      "cell_type": "code",
      "source": [],
      "metadata": {
        "id": "rrTJAcPv9aii"
      },
      "execution_count": null,
      "outputs": []
    }
  ]
}