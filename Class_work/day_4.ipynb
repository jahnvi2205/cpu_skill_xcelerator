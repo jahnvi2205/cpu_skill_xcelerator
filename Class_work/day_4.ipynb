{
  "nbformat": 4,
  "nbformat_minor": 0,
  "metadata": {
    "colab": {
      "provenance": []
    },
    "kernelspec": {
      "name": "python3",
      "display_name": "Python 3"
    },
    "language_info": {
      "name": "python"
    }
  },
  "cells": [
    {
      "cell_type": "code",
      "execution_count": null,
      "metadata": {
        "id": "TzZKs6e1uwyW"
      },
      "outputs": [],
      "source": [
        "1. 🆕 Declare an empty list ➡️ []\n",
        "2. 🛍 Declare a list with more than 5 items 🍎🍌🍇🍓🍍🍉\n",
        "3. 📏 Find the length of your list 🔢\n",
        "4. 🔍 Get the first, middle, and last item of the list 🎯\n",
        "5. 👥 Declare a list called mixed_data_types, put your (name, age,\n",
        "height, marital status, address) 🧑📅📏💍🏡\n",
        "6. 🏢 Declare a list variable named it_companies and assign initial values:\n",
        "\"Facebook, Google, Microsoft, Apple, IBM, Oracle,\n",
        "Amazon\"\n",
        "\n",
        "7. 🖨 Print the list using print() 🧾\n",
        "8. 🧮 Print the number of companies in the list 🔢\n",
        "9. 🥇 Print the first, 🎯 middle, and 🏁 last company\n",
        "10. ✏️ Print the list after modifying one of the companies 🛠\n",
        "11. ➕ Add an IT company to it_companies 🏗\n",
        "12. ➕ Insert an IT company in the middle of the list 🎯\n",
        "\n",
        "13. 🔠 Change one company name to uppercase (🚫 IBM!)\n",
        "14. 🔗 Join the it_companies with a string ' #; ' 🧵\n",
        "15. ❓ Check if a certain company exists in the it_companies list 🔍\n",
        "16. 🔃 Sort the list using the sort() method 🧹\n",
        "17. 🔁 Reverse the list in descending order using reverse() 🔄\n",
        "18. ✂️ Slice out the first 3 companies from the list 🎬\n",
        "19. ✂️ Slice out the last 3 companies from the list 🎬\n",
        "20. 🎯 Slice out the middle IT company or companies\n",
        "21. 🧽 Remove the first IT company from the list\n",
        "22. 🧽 Remove the middle IT company or companies\n",
        "23. 🧽 Remove the last IT company from the list\n",
        "24. 💣 Remove all IT companies from the list 🧼\n",
        "25. 🧨 Destroy the it_companies list completely 💥\n",
        "\n",
        "🧪 Bonus: Merge the Front & Back! 🚀\n",
        "26. 🧬 Join the following lists:\n",
        "\n",
        "front_end = ['HTML', 'CSS', 'JS', 'React', 'Redux']\n",
        "back_end = ['Node','Express', 'MongoDB']\n",
        "\n",
        "Career Point University, Kota - 324 009 | www.cpur.in | Page No : 2\n",
        "\n",
        "27. 🧠 After joining, copy the result and assign it to full_stack 💾\n",
        "28. 🐍 Insert Python and SQL after Redux in the full_stack list 🧩"
      ]
    },
    {
      "cell_type": "code",
      "source": [
        "li=list()\n"
      ],
      "metadata": {
        "id": "YGTEaCawuzg6"
      },
      "execution_count": null,
      "outputs": []
    },
    {
      "cell_type": "code",
      "source": [
        "li1=[1,2,3,4,5]\n",
        "print(len(li1))"
      ],
      "metadata": {
        "colab": {
          "base_uri": "https://localhost:8080/"
        },
        "id": "wF8rvSkpuzou",
        "outputId": "6ab4dc4f-eea2-425c-fb34-0dc0e14fb180"
      },
      "execution_count": null,
      "outputs": [
        {
          "output_type": "stream",
          "name": "stdout",
          "text": [
            "5\n"
          ]
        }
      ]
    },
    {
      "cell_type": "code",
      "source": [
        "print(li1[0])\n",
        "middle = len(li1)//2\n",
        "print(li1[middle])\n",
        "print(li1[-1])"
      ],
      "metadata": {
        "colab": {
          "base_uri": "https://localhost:8080/"
        },
        "id": "-UzFE0Wruzrb",
        "outputId": "af7e0046-e5b8-4ca5-9644-e8ab2a4258b6"
      },
      "execution_count": null,
      "outputs": [
        {
          "output_type": "stream",
          "name": "stdout",
          "text": [
            "1\n",
            "3\n",
            "5\n"
          ]
        }
      ]
    },
    {
      "cell_type": "code",
      "source": [
        "mixed_data_types=['Jahnvi', 19,170, 'single', 'NewYork')"
      ],
      "metadata": {
        "id": "CdvSID5Juzu1"
      },
      "execution_count": null,
      "outputs": []
    },
    {
      "cell_type": "code",
      "source": [
        "it_companies =\"Facebook,Google,Microsoft,Apple,IBM,Oracle,Amazon\".split(',')\n",
        "output= list()\n",
        "for i in it_companies:\n",
        "    output.append(i[0])\n",
        "\n",
        "output"
      ],
      "metadata": {
        "colab": {
          "base_uri": "https://localhost:8080/"
        },
        "id": "L2MF_-MXvs_P",
        "outputId": "d76d9162-9b80-433a-86de-db0c3adfcf20"
      },
      "execution_count": null,
      "outputs": [
        {
          "output_type": "execute_result",
          "data": {
            "text/plain": [
              "['F', 'G', 'M', 'A', 'I', 'O', 'A']"
            ]
          },
          "metadata": {},
          "execution_count": 21
        }
      ]
    },
    {
      "cell_type": "code",
      "source": [
        "print(output)"
      ],
      "metadata": {
        "colab": {
          "base_uri": "https://localhost:8080/"
        },
        "id": "CmiSTnf9vtCE",
        "outputId": "7dfa9579-76a0-468c-92f2-f93447a303d6"
      },
      "execution_count": null,
      "outputs": [
        {
          "output_type": "stream",
          "name": "stdout",
          "text": [
            "['F', 'G', 'M', 'A', 'I', 'O', 'A']\n"
          ]
        }
      ]
    },
    {
      "cell_type": "code",
      "source": [
        "print(len(it_companies))"
      ],
      "metadata": {
        "colab": {
          "base_uri": "https://localhost:8080/"
        },
        "id": "kYaASe1xvtEx",
        "outputId": "ff0ad2c7-f9f4-472a-d19d-69f1b0fabee6"
      },
      "execution_count": null,
      "outputs": [
        {
          "output_type": "stream",
          "name": "stdout",
          "text": [
            "7\n"
          ]
        }
      ]
    },
    {
      "cell_type": "code",
      "source": [
        "middle = len(it_companies)//2\n",
        "print(it_companies[0])\n",
        "print(it_companies[middle])\n",
        "print(it_companies[-1])"
      ],
      "metadata": {
        "colab": {
          "base_uri": "https://localhost:8080/"
        },
        "id": "a9U6at3avtHk",
        "outputId": "d43a6d12-1551-4051-d8d2-cc8bcafff9a9"
      },
      "execution_count": null,
      "outputs": [
        {
          "output_type": "stream",
          "name": "stdout",
          "text": [
            "Facebook\n",
            "Apple\n",
            "Amazon\n"
          ]
        }
      ]
    },
    {
      "cell_type": "code",
      "source": [
        "it_companies[5]='Meta'\n",
        "print(it_companies)"
      ],
      "metadata": {
        "colab": {
          "base_uri": "https://localhost:8080/"
        },
        "id": "4wG4n73xvtKV",
        "outputId": "d1c9f59c-7e89-4daa-9abb-8693ebf42b90"
      },
      "execution_count": null,
      "outputs": [
        {
          "output_type": "stream",
          "name": "stdout",
          "text": [
            "['Facebook', 'Google', 'Microsoft', 'Apple', 'IBM', 'Meta', 'Amazon']\n"
          ]
        }
      ]
    },
    {
      "cell_type": "code",
      "source": [
        "it_companies.insert(middle,'Infosys')\n",
        "print(it_companies)\n",
        "print(middle)"
      ],
      "metadata": {
        "colab": {
          "base_uri": "https://localhost:8080/"
        },
        "id": "KVmvNy1mvtM6",
        "outputId": "e1e47a04-f704-4ba8-d6e7-1f0804c86fed"
      },
      "execution_count": null,
      "outputs": [
        {
          "output_type": "stream",
          "name": "stdout",
          "text": [
            "['Facebook', 'Google', 'Microsoft', 'Infosys', 'Apple', 'IBM', 'Meta', 'Amazon']\n",
            "3\n"
          ]
        }
      ]
    },
    {
      "cell_type": "code",
      "source": [
        "print(it_companies[0].upper())"
      ],
      "metadata": {
        "colab": {
          "base_uri": "https://localhost:8080/"
        },
        "id": "3vAS3ziqvtPr",
        "outputId": "24d44aa4-8419-416e-f1d0-d74aad59c8fe"
      },
      "execution_count": null,
      "outputs": [
        {
          "output_type": "stream",
          "name": "stdout",
          "text": [
            "FACEBOOK\n"
          ]
        }
      ]
    },
    {
      "cell_type": "code",
      "source": [
        "print('#;'.join(it_companies))"
      ],
      "metadata": {
        "colab": {
          "base_uri": "https://localhost:8080/"
        },
        "id": "z9otUCRHvtSb",
        "outputId": "11bbfd03-8284-4c4d-d0a3-f43ecd7ad68b"
      },
      "execution_count": null,
      "outputs": [
        {
          "output_type": "stream",
          "name": "stdout",
          "text": [
            "Facebook#;Google#;Microsoft#;Infosys#;Apple#;IBM#;Meta#;Amazon\n"
          ]
        }
      ]
    },
    {
      "cell_type": "code",
      "source": [
        "it_companies.sort()\n",
        "print(it_companies)"
      ],
      "metadata": {
        "id": "IFjQkIYCvtVO"
      },
      "execution_count": null,
      "outputs": []
    },
    {
      "cell_type": "code",
      "source": [
        "it_companies.sort(reverse=True)\n",
        "print(it_companies)"
      ],
      "metadata": {
        "colab": {
          "base_uri": "https://localhost:8080/"
        },
        "id": "fOaZ5PA_vtX4",
        "outputId": "7059b61b-2ac7-4faa-db87-20b650be04a2"
      },
      "execution_count": null,
      "outputs": [
        {
          "output_type": "stream",
          "name": "stdout",
          "text": [
            "['Microsoft', 'Meta', 'Infosys', 'IBM', 'Google', 'Facebook', 'Apple', 'Amazon']\n"
          ]
        }
      ]
    },
    {
      "cell_type": "code",
      "source": [
        "it_companies[:3]\n"
      ],
      "metadata": {
        "colab": {
          "base_uri": "https://localhost:8080/"
        },
        "id": "0_2vX5mCvtba",
        "outputId": "f5180852-8f0b-40eb-bc58-d6d599b3e0ef"
      },
      "execution_count": null,
      "outputs": [
        {
          "output_type": "execute_result",
          "data": {
            "text/plain": [
              "['Microsoft', 'Meta', 'Infosys']"
            ]
          },
          "metadata": {},
          "execution_count": 33
        }
      ]
    },
    {
      "cell_type": "code",
      "source": [
        "it_companies[-3:]"
      ],
      "metadata": {
        "colab": {
          "base_uri": "https://localhost:8080/"
        },
        "id": "k9jRSNtLyBxE",
        "outputId": "d9f56551-3d5a-4920-dcc3-8e50d55807e4"
      },
      "execution_count": null,
      "outputs": [
        {
          "output_type": "execute_result",
          "data": {
            "text/plain": [
              "['Facebook', 'Apple', 'Amazon']"
            ]
          },
          "metadata": {},
          "execution_count": 34
        }
      ]
    },
    {
      "cell_type": "code",
      "source": [
        "it_companies[middle]"
      ],
      "metadata": {
        "colab": {
          "base_uri": "https://localhost:8080/",
          "height": 36
        },
        "id": "psB_oYZTyBz5",
        "outputId": "bd89e23c-7ec3-4e39-f5c6-51d71c9cb9a2"
      },
      "execution_count": null,
      "outputs": [
        {
          "output_type": "execute_result",
          "data": {
            "text/plain": [
              "'IBM'"
            ],
            "application/vnd.google.colaboratory.intrinsic+json": {
              "type": "string"
            }
          },
          "metadata": {},
          "execution_count": 35
        }
      ]
    },
    {
      "cell_type": "code",
      "source": [
        "it_companies.remove(it_companies[0])\n",
        "it_companies.remove(it_companies[middle])\n",
        "it_companies.remove(it_companies[-1])"
      ],
      "metadata": {
        "id": "gdrfUQqUyB2U"
      },
      "execution_count": null,
      "outputs": []
    },
    {
      "cell_type": "code",
      "source": [
        "it_companies.clear()\n"
      ],
      "metadata": {
        "id": "juY9M1EIyB45"
      },
      "execution_count": null,
      "outputs": []
    },
    {
      "cell_type": "code",
      "source": [
        "front_end = ['HTML', 'CSS', 'JS', 'React', 'Redux']\n",
        "back_end = ['Node','Express', 'MongoDB']\n",
        "front_end.extend(back_end)\n",
        "print(front_end)"
      ],
      "metadata": {
        "colab": {
          "base_uri": "https://localhost:8080/"
        },
        "id": "hBxP9_rAyB7d",
        "outputId": "44b21a22-3683-4b41-85c0-14456f8f87a4"
      },
      "execution_count": null,
      "outputs": [
        {
          "output_type": "stream",
          "name": "stdout",
          "text": [
            "['HTML', 'CSS', 'JS', 'React', 'Redux', 'Node', 'Express', 'MongoDB']\n"
          ]
        }
      ]
    },
    {
      "cell_type": "code",
      "source": [
        "full_stack=front_end.copy()\n",
        "print(full_stack)"
      ],
      "metadata": {
        "colab": {
          "base_uri": "https://localhost:8080/"
        },
        "id": "NnKEAhZ-yvHn",
        "outputId": "93093f17-19d5-4c2e-bceb-c5aea29e31fb"
      },
      "execution_count": null,
      "outputs": [
        {
          "output_type": "stream",
          "name": "stdout",
          "text": [
            "['HTML', 'CSS', 'JS', 'React', 'Redux', 'Node', 'Express', 'MongoDB']\n"
          ]
        }
      ]
    },
    {
      "cell_type": "code",
      "source": [
        "i=0\n",
        "while i<len(full_stack):\n",
        "    if full_stack[i]=='Redux':\n",
        "        full_stack.insert(i+1,'Python')\n",
        "        full_stack.insert(i+2,'SQL')\n",
        "        break\n",
        "    i+=1\n",
        "print(full_stack)"
      ],
      "metadata": {
        "colab": {
          "base_uri": "https://localhost:8080/"
        },
        "id": "XGS94hKIyvKX",
        "outputId": "abb733af-2ef8-4c23-a4be-7380d0ca36bd"
      },
      "execution_count": null,
      "outputs": [
        {
          "output_type": "stream",
          "name": "stdout",
          "text": [
            "['HTML', 'CSS', 'JS', 'React', 'Redux', 'Python', 'SQL', 'Node', 'Express', 'MongoDB']\n"
          ]
        }
      ]
    },
    {
      "cell_type": "code",
      "source": [
        "# if len(list) is even\n",
        "li=[1,2,3,4]\n",
        "middle=len(li)//2\n",
        "print(li[middle])\n",
        "# if len(list) is odd\n",
        "li=[1,2,3,4,5]\n",
        "middle=len(li)//2\n",
        "print(li[middle])"
      ],
      "metadata": {
        "colab": {
          "base_uri": "https://localhost:8080/"
        },
        "id": "_IigREvzyvNi",
        "outputId": "746e4b6b-6cbb-4a8b-b0ee-d2e0d40c8346"
      },
      "execution_count": null,
      "outputs": [
        {
          "output_type": "stream",
          "name": "stdout",
          "text": [
            "3\n",
            "3\n"
          ]
        }
      ]
    },
    {
      "cell_type": "code",
      "source": [
        "Input=[2,-1,3,4,5,8,9]\n",
        "given_sum=7\n",
        "\n",
        "for i in range(len(Input)):\n",
        "    for j in range(i+1,len(Input)):\n",
        "        if Input[i]+Input[j]==given_sum:\n",
        "            print(i,j)\n",
        "\n",
        "\n"
      ],
      "metadata": {
        "colab": {
          "base_uri": "https://localhost:8080/"
        },
        "id": "47-ZalBhzgrp",
        "outputId": "05bf7112-7580-4b4c-e99c-3b7d942615ab"
      },
      "execution_count": null,
      "outputs": [
        {
          "output_type": "stream",
          "name": "stdout",
          "text": [
            "0 4\n",
            "1 5\n",
            "2 3\n"
          ]
        }
      ]
    },
    {
      "cell_type": "code",
      "source": [
        "Input.sort()\n",
        "print(Input)\n",
        "first=0\n",
        "last=len(Input)-1\n",
        "\n",
        "while first<last:\n",
        "  if Input[first]+Input[last] == given_sum:\n",
        "    print(first,last)\n",
        "    first+=1\n",
        "    last-=1\n",
        "\n",
        "  elif Input[first]+Input[last] > given_sum:\n",
        "    last-=1\n",
        "\n",
        "  else:\n",
        "    first+=1"
      ],
      "metadata": {
        "colab": {
          "base_uri": "https://localhost:8080/"
        },
        "id": "HvyzRmXF1XeM",
        "outputId": "9eb93670-2f35-4412-eaaa-eecef74f28fd"
      },
      "execution_count": null,
      "outputs": [
        {
          "output_type": "stream",
          "name": "stdout",
          "text": [
            "[-1, 2, 3, 4, 5, 8, 9]\n",
            "0 5\n",
            "1 4\n",
            "2 3\n"
          ]
        }
      ]
    },
    {
      "cell_type": "code",
      "source": [
        "def binary_search(n):\n",
        "  first=2\n",
        "  last= 100\n",
        "\n",
        "  while first <= last:\n",
        "    mid= (first+last)//2\n",
        "    if mid*mid ==Input:\n",
        "       return mid\n",
        "\n",
        "    elif mid*mid >Input:\n",
        "      last=mid-1\n",
        "    else:\n",
        "      first=mid+1\n",
        "\n",
        "  return mid\n",
        "\n",
        "\n",
        "# find sqrt in O(n)\n",
        "Input = 144\n",
        "binary_search(Input)"
      ],
      "metadata": {
        "colab": {
          "base_uri": "https://localhost:8080/"
        },
        "id": "LLOiNjUlzguc",
        "outputId": "a082b803-7e88-4bf1-88fd-0faf36ae2562"
      },
      "execution_count": null,
      "outputs": [
        {
          "output_type": "execute_result",
          "data": {
            "text/plain": [
              "12"
            ]
          },
          "metadata": {},
          "execution_count": 76
        }
      ]
    },
    {
      "cell_type": "code",
      "source": [],
      "metadata": {
        "id": "yKTwdC54zgxJ"
      },
      "execution_count": null,
      "outputs": []
    },
    {
      "cell_type": "code",
      "source": [],
      "metadata": {
        "id": "e4IjUXKazg0p"
      },
      "execution_count": null,
      "outputs": []
    }
  ]
}