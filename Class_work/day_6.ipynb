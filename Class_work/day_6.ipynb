{
  "nbformat": 4,
  "nbformat_minor": 0,
  "metadata": {
    "colab": {
      "provenance": []
    },
    "kernelspec": {
      "name": "python3",
      "display_name": "Python 3"
    },
    "language_info": {
      "name": "python"
    }
  },
  "cells": [
    {
      "cell_type": "code",
      "execution_count": null,
      "metadata": {
        "colab": {
          "base_uri": "https://localhost:8080/"
        },
        "id": "bFCQn9dkg4Ru",
        "outputId": "fad499dd-cd98-4fe8-b0b2-925a2d9bbb6e"
      },
      "outputs": [
        {
          "output_type": "stream",
          "name": "stdout",
          "text": [
            "Cheese\n",
            "Tomato\n",
            "Pepperoni\n",
            "Mushroom\n"
          ]
        }
      ],
      "source": [
        "'''Write a for loop to print each pizza topping from the list.\n",
        "toppings = [\"Cheese\", \"Tomato\", \"Pepperoni\", \"Mushroom\"]\n",
        "'''\n",
        "\n",
        "toppings = [\"Cheese\", \"Tomato\", \"Pepperoni\", \"Mushroom\"]\n",
        "for i in toppings:\n",
        "  print(i)"
      ]
    },
    {
      "cell_type": "code",
      "source": [
        "'''Use a for loop to calculate the sum of numbers from 1 to 10.'''\n",
        "output=0\n",
        "for i in range(1,11):\n",
        "  output+=i\n",
        "print(output)"
      ],
      "metadata": {
        "colab": {
          "base_uri": "https://localhost:8080/"
        },
        "id": "95-CgqEDhCa8",
        "outputId": "c086ade1-f46f-45e1-96d7-7bcbc3f71da8"
      },
      "execution_count": null,
      "outputs": [
        {
          "output_type": "stream",
          "name": "stdout",
          "text": [
            "55\n"
          ]
        }
      ]
    },
    {
      "cell_type": "code",
      "source": [
        "'''Print the multiplication table of a number entered by the user.'''\n",
        "\n",
        "num=int(input(\">\"))\n",
        "for i in range(1,11):\n",
        "  print(i*num)"
      ],
      "metadata": {
        "colab": {
          "base_uri": "https://localhost:8080/"
        },
        "id": "Knm-kqHehKpm",
        "outputId": "d08f1710-aed3-4f7d-a210-878d03a955e6"
      },
      "execution_count": null,
      "outputs": [
        {
          "output_type": "stream",
          "name": "stdout",
          "text": [
            ">5\n",
            "5\n",
            "10\n",
            "15\n",
            "20\n",
            "25\n",
            "30\n",
            "35\n",
            "40\n",
            "45\n",
            "50\n"
          ]
        }
      ]
    },
    {
      "cell_type": "code",
      "source": [
        "'''Guess the Number\n",
        "Keep asking the user to guess the number until they get it right.'''\n",
        "num=10\n",
        "while(True):\n",
        "  ans=int(input(\">\"))\n",
        "  if ans == num:\n",
        "    print(\"correct!\")\n",
        "    break\n",
        "  elif ans>num:\n",
        "    print(\"Too large\")\n",
        "\n",
        "  elif ans<num:\n",
        "    print(\"Too small\")"
      ],
      "metadata": {
        "colab": {
          "base_uri": "https://localhost:8080/"
        },
        "id": "1Pl6dLcvhVbk",
        "outputId": "bfbfd893-71e0-4c0e-a809-de5b4755dba2"
      },
      "execution_count": null,
      "outputs": [
        {
          "output_type": "stream",
          "name": "stdout",
          "text": [
            ">5\n",
            "Too small\n",
            ">15\n",
            "Too large\n",
            ">23\n",
            "Too large\n",
            ">13\n",
            "Too large\n",
            ">12\n",
            "Too large\n",
            ">8\n",
            "Too small\n",
            ">9\n",
            "Too small\n",
            ">10\n",
            "correct!\n"
          ]
        }
      ]
    },
    {
      "cell_type": "code",
      "source": [
        "'''Keep withdrawing ₹100 until balance is zero.\n",
        "Input: 500\n",
        "Output:\n",
        "Withdrew ₹100, Balance: ₹400\n",
        "...\n",
        "Balance is zero!'''\n",
        "\n",
        "Input= int(input(\">\"))\n",
        "while(Input!=0):\n",
        "  print(\"Withdrew ₹100, Balance: ₹\",Input)\n",
        "  Input-=100\n",
        "\n",
        "print(\"Balance is zero!\")"
      ],
      "metadata": {
        "colab": {
          "base_uri": "https://localhost:8080/"
        },
        "id": "svhoSLkKhyO2",
        "outputId": "1bb92209-d95b-4b60-f1c9-fd7d29368b2f"
      },
      "execution_count": null,
      "outputs": [
        {
          "output_type": "stream",
          "name": "stdout",
          "text": [
            ">900\n",
            "Withdrew ₹100, Balance: ₹ 900\n",
            "Withdrew ₹100, Balance: ₹ 800\n",
            "Withdrew ₹100, Balance: ₹ 700\n",
            "Withdrew ₹100, Balance: ₹ 600\n",
            "Withdrew ₹100, Balance: ₹ 500\n",
            "Withdrew ₹100, Balance: ₹ 400\n",
            "Withdrew ₹100, Balance: ₹ 300\n",
            "Withdrew ₹100, Balance: ₹ 200\n",
            "Withdrew ₹100, Balance: ₹ 100\n",
            "Balance is zero!\n"
          ]
        }
      ]
    },
    {
      "cell_type": "code",
      "source": [
        "'''Print numbers in reverse from 10 to 1 using a while loop.'''\n",
        "i=10\n",
        "while (i>0):\n",
        "  print(i)\n",
        "  i-=1"
      ],
      "metadata": {
        "colab": {
          "base_uri": "https://localhost:8080/"
        },
        "id": "QVKJ0G74iTis",
        "outputId": "cec8d1a2-fc8d-411d-de92-a8f38e06d618"
      },
      "execution_count": null,
      "outputs": [
        {
          "output_type": "stream",
          "name": "stdout",
          "text": [
            "10\n",
            "9\n",
            "8\n",
            "7\n",
            "6\n",
            "5\n",
            "4\n",
            "3\n",
            "2\n",
            "1\n"
          ]
        }
      ]
    },
    {
      "cell_type": "code",
      "source": [
        "'''Pack List with Index\n",
        "Print each item in a backpack with its position using enumerate.\n",
        "backpack = [\"Water\", \"Map\", \"Snacks\"]'''\n",
        "\n",
        "backpack = [\"Water\", \"Map\", \"Snacks\"]\n",
        "for index,i in enumerate(backpack):\n",
        "  print(i)"
      ],
      "metadata": {
        "colab": {
          "base_uri": "https://localhost:8080/"
        },
        "id": "O8bhLLx-i-Mv",
        "outputId": "e4fd828c-0dbf-4ff5-fa1f-41638932d935"
      },
      "execution_count": null,
      "outputs": [
        {
          "output_type": "stream",
          "name": "stdout",
          "text": [
            "Water\n",
            "Map\n",
            "Snacks\n"
          ]
        }
      ]
    },
    {
      "cell_type": "code",
      "source": [
        "'''Print all songs in a playlist and their play position.\n",
        "Input: [\"Song A\", \"Song B\", \"Song C\"]'''\n",
        "\n",
        "Input= [\"Song A\", \"Song B\", \"Song C\"]\n",
        "for index,i in enumerate(Input):\n",
        "  print(index,i)"
      ],
      "metadata": {
        "colab": {
          "base_uri": "https://localhost:8080/"
        },
        "id": "d-otreW3jIVd",
        "outputId": "4263c4bd-79aa-440a-e1b8-1dff80da91a0"
      },
      "execution_count": null,
      "outputs": [
        {
          "output_type": "stream",
          "name": "stdout",
          "text": [
            "0 Song A\n",
            "1 Song B\n",
            "2 Song C\n"
          ]
        }
      ]
    },
    {
      "cell_type": "code",
      "source": [
        "'''Loop through signals. Break when \"Red\" is found.\n",
        "Input: [\"Green\", \"Yellow\", \"Red\", \"Green\"]'''\n",
        "\n",
        "Input= [\"Green\", \"Yellow\", \"Red\", \"Green\"]\n",
        "for i in Input:\n",
        "  if i =='Red':\n",
        "    print(\"Red Light! Stop!\")\n",
        "    break\n",
        "  print(i)"
      ],
      "metadata": {
        "colab": {
          "base_uri": "https://localhost:8080/"
        },
        "id": "kAvBJW9hjTct",
        "outputId": "4a5cdc8c-a441-4458-c2e0-ce0c93e62f98"
      },
      "execution_count": null,
      "outputs": [
        {
          "output_type": "stream",
          "name": "stdout",
          "text": [
            "Green\n",
            "Yellow\n",
            "Red Light! Stop!\n"
          ]
        }
      ]
    },
    {
      "cell_type": "code",
      "source": [
        "'''Skip \"Candy\" while listing food items using continue.'''\n",
        "foods = [\"Apple\", \"Candy\", \"Banana\"]\n",
        "for i in foods:\n",
        "  if i =='Candy':\n",
        "    continue\n",
        "  print(i)"
      ],
      "metadata": {
        "colab": {
          "base_uri": "https://localhost:8080/"
        },
        "id": "vpksRSZDjnLN",
        "outputId": "3977e9b9-9a00-45a7-ff07-0619526d8a71"
      },
      "execution_count": null,
      "outputs": [
        {
          "output_type": "stream",
          "name": "stdout",
          "text": [
            "Apple\n",
            "Banana\n"
          ]
        }
      ]
    },
    {
      "cell_type": "code",
      "source": [
        "# Simulate rolling dice. Stop when 6 appears.\n",
        "Input= [2, 5, 4, 6, 3]\n",
        "for i in Input:\n",
        "  if i==6:\n",
        "    print('Rolled: 6 \\nGame Over!')\n",
        "    break\n",
        "  print('Rolled:',i)\n"
      ],
      "metadata": {
        "colab": {
          "base_uri": "https://localhost:8080/"
        },
        "id": "10zQSzCNjyUS",
        "outputId": "ab4501fd-074e-4476-c1a2-9c4e0a769d2e"
      },
      "execution_count": null,
      "outputs": [
        {
          "output_type": "stream",
          "name": "stdout",
          "text": [
            "Rolled: 2\n",
            "Rolled: 5\n",
            "Rolled: 4\n",
            "Rolled: 6 \n",
            "Game Over!\n"
          ]
        }
      ]
    },
    {
      "cell_type": "code",
      "source": [
        "# Create a loop with pass to act as a placeholder.\n",
        "\n",
        "for i in range(3):\n",
        "  pass"
      ],
      "metadata": {
        "id": "uPX2malqkE_V"
      },
      "execution_count": null,
      "outputs": []
    },
    {
      "cell_type": "code",
      "source": [
        "# Write a function todo() that uses pass inside it.\n",
        "def todo():\n",
        "  pass"
      ],
      "metadata": {
        "id": "N5z0KrfgkLKf"
      },
      "execution_count": null,
      "outputs": []
    },
    {
      "cell_type": "code",
      "source": [
        "# Write a function add(a, b) to return the sum.\n",
        "def add(a,b):\n",
        "  return a+b\n",
        "add(10,9)"
      ],
      "metadata": {
        "colab": {
          "base_uri": "https://localhost:8080/"
        },
        "id": "Dg0qwr1hkQFm",
        "outputId": "8ccb5699-5c60-45e3-e82b-3cca01a4fd2e"
      },
      "execution_count": null,
      "outputs": [
        {
          "output_type": "execute_result",
          "data": {
            "text/plain": [
              "19"
            ]
          },
          "metadata": {},
          "execution_count": 12
        }
      ]
    },
    {
      "cell_type": "code",
      "source": [
        "# Create a function print_ingredients() that prints three ingredients.\n",
        "def print_ingredients():\n",
        "  print('Salt')\n",
        "  print('Oil')\n",
        "  print('Onion')\n",
        "\n",
        "print_ingredients()"
      ],
      "metadata": {
        "colab": {
          "base_uri": "https://localhost:8080/"
        },
        "id": "HFeY3vOfkXMy",
        "outputId": "46be3910-ba20-4df0-cb7f-47b7567850ba"
      },
      "execution_count": null,
      "outputs": [
        {
          "output_type": "stream",
          "name": "stdout",
          "text": [
            "Salt\n",
            "Oil\n",
            "Onion\n"
          ]
        }
      ]
    },
    {
      "cell_type": "code",
      "source": [
        "'''Write a function to return the factorial of a number.'''\n",
        "def factorial(n):\n",
        "  if n==1:\n",
        "    return 1\n",
        "  else:\n",
        "    return n*factorial(n-1)\n",
        "\n",
        "factorial(6)"
      ],
      "metadata": {
        "colab": {
          "base_uri": "https://localhost:8080/"
        },
        "id": "TbWn1Op3kkGw",
        "outputId": "09a6b431-f76e-46c6-f242-a54d1471992e"
      },
      "execution_count": null,
      "outputs": [
        {
          "output_type": "execute_result",
          "data": {
            "text/plain": [
              "720"
            ]
          },
          "metadata": {},
          "execution_count": 17
        }
      ]
    },
    {
      "cell_type": "code",
      "source": [
        "'''Write is_even(n) that returns True if even.'''\n",
        "def even(n):\n",
        "  if n%2==0:\n",
        "    return True\n",
        "  else:return False\n",
        "\n",
        "even(7)"
      ],
      "metadata": {
        "colab": {
          "base_uri": "https://localhost:8080/"
        },
        "id": "9cX2wNoDkv4W",
        "outputId": "9066c237-1a0f-4516-db9a-4715c66dc122"
      },
      "execution_count": null,
      "outputs": [
        {
          "output_type": "execute_result",
          "data": {
            "text/plain": [
              "False"
            ]
          },
          "metadata": {},
          "execution_count": 18
        }
      ]
    },
    {
      "cell_type": "code",
      "source": [
        "'''Write reverse_string(s) to return reversed string.'''\n",
        "\n",
        "def reverse_string(s):\n",
        "  return s[::-1]\n",
        "\n",
        "reverse_string('python')"
      ],
      "metadata": {
        "colab": {
          "base_uri": "https://localhost:8080/",
          "height": 36
        },
        "id": "L9JVX07XlA92",
        "outputId": "d45270dd-538f-44a6-d941-f5069b04f905"
      },
      "execution_count": null,
      "outputs": [
        {
          "output_type": "execute_result",
          "data": {
            "text/plain": [
              "'nohtyp'"
            ],
            "application/vnd.google.colaboratory.intrinsic+json": {
              "type": "string"
            }
          },
          "metadata": {},
          "execution_count": 19
        }
      ]
    },
    {
      "cell_type": "code",
      "source": [
        "# Create a function that sums all even numbers from a list.\n",
        "def all_even(l):\n",
        "  ans=0\n",
        "  for i in l:\n",
        "    if i%2==0:\n",
        "      ans+=i\n",
        "  return ans\n",
        "\n",
        "l=[1,2,3,4,5,6]\n",
        "all_even(l)"
      ],
      "metadata": {
        "colab": {
          "base_uri": "https://localhost:8080/"
        },
        "id": "WcH70lealINt",
        "outputId": "21228b88-14c7-43b1-a5fa-56c8c0c3b06d"
      },
      "execution_count": null,
      "outputs": [
        {
          "output_type": "execute_result",
          "data": {
            "text/plain": [
              "12"
            ]
          },
          "metadata": {},
          "execution_count": 20
        }
      ]
    },
    {
      "cell_type": "code",
      "source": [
        "# Define a function make_icecream(flavor, scoops) that prints:\n",
        "def make_icecream(flavor, scoops):\n",
        "  print(f'Making {scoops} scoops of {flavor} ice cream')\n",
        "\n",
        "make_icecream(2, 'Chocolate')"
      ],
      "metadata": {
        "colab": {
          "base_uri": "https://localhost:8080/"
        },
        "id": "lOny_c-8lZFo",
        "outputId": "49f8fb23-31f3-4387-b0fd-dd76cb60c118"
      },
      "execution_count": null,
      "outputs": [
        {
          "output_type": "stream",
          "name": "stdout",
          "text": [
            "Making Chocolate scoops of 2 ice cream\n"
          ]
        }
      ]
    },
    {
      "cell_type": "code",
      "source": [
        "# stack\n",
        "stack=[]\n",
        "max_capacity=20\n",
        "\n",
        "def is_full():\n",
        "  return len(stack)==max_capacity\n",
        "\n",
        "def is_empty():\n",
        "  return len(stack)==0\n",
        "\n",
        "def add(a):\n",
        "  if not is_full():\n",
        "    stack.append(a)\n",
        "    return\n",
        "  return -1\n",
        "\n",
        "def popp():\n",
        "  if not is_empty():\n",
        "    del stack[-1]\n",
        "    return\n",
        "  return -1\n",
        "\n",
        "def seek():\n",
        "  if not is_empty():\n",
        "    return stack[-1]\n",
        "  return -1"
      ],
      "metadata": {
        "id": "u6zGO---ltQV"
      },
      "execution_count": null,
      "outputs": []
    },
    {
      "cell_type": "code",
      "source": [
        "print(stack)"
      ],
      "metadata": {
        "colab": {
          "base_uri": "https://localhost:8080/"
        },
        "id": "1E3bHCyw0MqY",
        "outputId": "8a01186d-42d4-4061-ecda-9496d89f011b"
      },
      "execution_count": null,
      "outputs": [
        {
          "output_type": "stream",
          "name": "stdout",
          "text": [
            "[]\n"
          ]
        }
      ]
    },
    {
      "cell_type": "code",
      "source": [
        "string = 'aabcddeeccaa'\n",
        "add(string[0])\n",
        "for i in string:\n",
        "  if seek()!=i:\n",
        "    add(i)\n",
        "\n",
        "print(stack)"
      ],
      "metadata": {
        "colab": {
          "base_uri": "https://localhost:8080/"
        },
        "id": "OPdWYN9tzCYC",
        "outputId": "d3c87c37-ec86-4a8e-e056-ff35d1bc0c43"
      },
      "execution_count": null,
      "outputs": [
        {
          "output_type": "stream",
          "name": "stdout",
          "text": [
            "a\n",
            "a\n",
            "b\n",
            "c\n",
            "d\n",
            "d\n",
            "e\n",
            "e\n",
            "c\n",
            "c\n",
            "a\n",
            "['a', 'b', 'c', 'd', 'e', 'c', 'a']\n"
          ]
        }
      ]
    },
    {
      "cell_type": "code",
      "source": [
        "stack=[]"
      ],
      "metadata": {
        "id": "DpG1Wtr90mgl"
      },
      "execution_count": null,
      "outputs": []
    },
    {
      "cell_type": "code",
      "source": [
        "string='[({})}(([]))'\n",
        "brackets={'{':'}','(':')','[':']'}\n",
        "gcount=0\n",
        "lcount=0\n",
        "for i in string:\n",
        "  if i in brackets.keys():\n",
        "    add(i)\n",
        "  elif i in brackets.values():\n",
        "    if not is_empty():\n",
        "      if brackets[seek()]==i:\n",
        "        popp()\n",
        "        lcount+=2\n",
        "\n",
        "      else:\n",
        "        gcount= max(lcount,gcount)\n",
        "        lcount=0\n",
        "\n",
        "gcount= max(lcount,gcount)\n",
        "print(gcount)"
      ],
      "metadata": {
        "colab": {
          "base_uri": "https://localhost:8080/"
        },
        "id": "wznKEu15zxRU",
        "outputId": "ffe1b647-4b7e-4dee-aef1-89c0da2cd5eb"
      },
      "execution_count": null,
      "outputs": [
        {
          "output_type": "stream",
          "name": "stdout",
          "text": [
            "6\n"
          ]
        }
      ]
    },
    {
      "cell_type": "code",
      "source": [],
      "metadata": {
        "id": "hAuxpRtn2Cbo"
      },
      "execution_count": null,
      "outputs": []
    }
  ]
}