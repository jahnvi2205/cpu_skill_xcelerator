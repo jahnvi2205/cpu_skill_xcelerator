{
  "nbformat": 4,
  "nbformat_minor": 0,
  "metadata": {
    "colab": {
      "provenance": []
    },
    "kernelspec": {
      "name": "python3",
      "display_name": "Python 3"
    },
    "language_info": {
      "name": "python"
    }
  },
  "cells": [
    {
      "cell_type": "markdown",
      "source": [
        "Declare a variable named school_name and assign the name of your school or college.\n",
        "2. Declare two integer variables x and y, assign values, and print their sum.\n",
        "3. Declare a float variable height and assign your height in meters.\n",
        "4. Create a variable is_student and assign it a Boolean value.\n",
        "5. Declare three variables a, b, c in one line with values 1, 2, and 3..."
      ],
      "metadata": {
        "id": "hry0j6kldR1V"
      }
    },
    {
      "cell_type": "code",
      "execution_count": null,
      "metadata": {
        "colab": {
          "base_uri": "https://localhost:8080/"
        },
        "id": "5bQg5Nj6dN3x",
        "outputId": "fa0aaa13-25c8-445d-eda7-175628951729"
      },
      "outputs": [
        {
          "output_type": "stream",
          "name": "stdout",
          "text": [
            "3\n",
            "163.56 meters\n",
            "True\n",
            "1 2 3\n"
          ]
        }
      ],
      "source": [
        "school_name=\"career point university\"\n",
        "\n",
        "x,y= 1,2\n",
        "print(x+y)\n",
        "\n",
        "height = 163.56\n",
        "print(height,\"meters\")\n",
        "\n",
        "is_student = True\n",
        "print(is_student)\n",
        "\n",
        "a,b,c = 1,2,3\n",
        "print(a,b,c)"
      ]
    },
    {
      "cell_type": "markdown",
      "source": [
        "Convert the string '123' to an integer and assign it to a variable num.\n",
        "7. Convert the float 9.81 to an integer and print the result.\n",
        "8. Use the type() function to print the data types of: \"Hello\", 42, True, 3.14.\n",
        "9. Declare a variable message with the value \"Python is fun!\". Use the len() function to\n",
        "print the number of characters in it.\n",
        "10. Concatenate your first name and last name with a space in between and store it in\n",
        "full_name. Then print a greeting: \"Hello, <full_name>!\""
      ],
      "metadata": {
        "id": "iaOLAeYTeJLO"
      }
    },
    {
      "cell_type": "code",
      "source": [
        "string = int('123')\n",
        "print(string)\n",
        "\n",
        "fl= int(9.81)\n",
        "print(fl)\n",
        "\n",
        "print(type(\"Hello\"),type(42),type(True),type(3.14))\n",
        "\n",
        "var=\"Python is fun!\"\n",
        "print(var)\n",
        "print(\"No of chars: \",len(var))\n",
        "\n",
        "first_name= \"Pee\"\n",
        "last_name= \"Cee\"\n",
        "full_name = first_name + \" \" + last_name\n",
        "print(\"Hello,\",full_name)"
      ],
      "metadata": {
        "colab": {
          "base_uri": "https://localhost:8080/"
        },
        "id": "NptzdGX4dUli",
        "outputId": "7060591f-ce18-458c-8f1c-929a00b6b1d3"
      },
      "execution_count": null,
      "outputs": [
        {
          "output_type": "stream",
          "name": "stdout",
          "text": [
            "123\n",
            "9\n",
            "<class 'str'> <class 'int'> <class 'bool'> <class 'float'>\n",
            "Python is fun!\n",
            "No of chars:  14\n",
            "Hello, Pee Cee\n"
          ]
        }
      ]
    },
    {
      "cell_type": "markdown",
      "source": [
        "11. Take two inputs from the user — first_name and last_name, and print \"Welcome,\n",
        "<first_name last_name>!\".\n",
        "12. Create a variable radius with value 7. Calculate the area of a circle using the formula area\n",
        "= π * radius^2 and print it.\n",
        "13. Ask the user to enter their birth year, calculate their age in 2025, and print: \"You will be\n",
        "<age> years old in 2025.\"\n",
        "14. Create a sentence that says: \"John is 25 years old, lives in New York, and is\n",
        "not married.\" using variables.\n",
        "15. Print the ASCII value of the character 'A' using ord()."
      ],
      "metadata": {
        "id": "S-kFS0T6e7t_"
      }
    },
    {
      "cell_type": "code",
      "source": [
        "first_name=input(\"Enter first name: \")\n",
        "last_name=input(\"Enter last name: \")\n",
        "print(\"Welcome\",first_name,last_name,\"!\")\n",
        "\n",
        "radius=7\n",
        "area=3.14*radius**2\n",
        "print(area)\n",
        "\n",
        "birth_year= int(input(\"Enter birth year: \"))\n",
        "age = 2025- birth_year\n",
        "print(\"You will be\",age,\"years old in 2025.\")\n",
        "\n",
        "name=\"John\"\n",
        "age= 25\n",
        "place=\"New York\"\n",
        "is_married = False\n",
        "sentence = f\"{name} is {age} years old,lives in {place},and {'is married' if is_married else 'is not married'}.\"\n",
        "print(sentence)\n",
        "\n",
        "print(ord('A'))\n",
        "\n",
        "\n",
        "num=5\n",
        "for i in range(num+1):\n",
        "  print(num)"
      ],
      "metadata": {
        "id": "lgEMGYEJe8-A"
      },
      "execution_count": null,
      "outputs": []
    },
    {
      "cell_type": "markdown",
      "source": [
        "Swap values of two variables without using a third variable.\n",
        "17. Use input() to get user's name and city. Print: \"Nice to meet you, <name> from\n",
        "<city>!\" in uppercase.\n",
        "18. Write a program that takes the side of a square from the user and prints its area and perimeter.\n",
        "19. Create a variable sentence = \"Python is powerful\" and reverse it using slicing.\n",
        "20. Use a built-in function to count how many times the letter 'a' appears in \"I am a data\n",
        "analyst\"."
      ],
      "metadata": {
        "id": "1JglNrmNgnSy"
      }
    },
    {
      "cell_type": "code",
      "source": [
        "x,y=5,10\n",
        "x,y=y,x\n",
        "print(x,y)\n",
        "\n",
        "user_name= input(\"Enter your name: \")\n",
        "city=input(\"Enter your city: \")\n",
        "print(f\"Nice to meet you{user_name.upper()} from {city.upper()} !\")\n",
        "\n",
        "side= int(input(\"Enter side: \"))\n",
        "area = side*side\n",
        "perimeter= 4*side\n",
        "print(\"Area: \",area)\n",
        "print(\"Perimeter\", perimeter)\n",
        "\n",
        "sentence = \"Python is powerful\"\n",
        "print(sentence[::-1])\n",
        "\n",
        "string = \"I am a data analyst\"\n",
        "print(string.count('a'))\n",
        "\n"
      ],
      "metadata": {
        "colab": {
          "base_uri": "https://localhost:8080/"
        },
        "id": "aKkG9BI1gpk3",
        "outputId": "115f532e-b960-44c0-a559-edd2f58143bd"
      },
      "execution_count": null,
      "outputs": [
        {
          "output_type": "stream",
          "name": "stdout",
          "text": [
            "10 5\n",
            "Enter your name: pee\n",
            "Enter your city: New york\n",
            "Nice to meet youPEE from NEW YORK !\n",
            "Enter side: 20\n",
            "Area:  400\n",
            "Perimeter 80\n",
            "lufrewop si nohtyP\n",
            "6\n"
          ]
        }
      ]
    },
    {
      "cell_type": "code",
      "source": [
        "s= \"ABCdJ23938Dd92C81\"\n",
        "num= 0\n",
        "ans= 0\n",
        "for i in range(len(s)):\n",
        "  if s[i] in \"1234567890\":\n",
        "    num= (num*10)+ int(s[i])\n",
        "  else:\n",
        "    ans+=num\n",
        "    num=0\n",
        "\n",
        "ans+=num\n",
        "\n",
        "\n",
        "print(ans)"
      ],
      "metadata": {
        "colab": {
          "base_uri": "https://localhost:8080/"
        },
        "id": "nihHTdjKiTHR",
        "outputId": "bc636fe6-c5a6-4066-c11b-6fb41766b995"
      },
      "execution_count": null,
      "outputs": [
        {
          "output_type": "stream",
          "name": "stdout",
          "text": [
            "24111\n"
          ]
        }
      ]
    },
    {
      "cell_type": "code",
      "source": [
        "li = [28,\"AC\",\"g\",\"h\",\"KM\",\"IPL\",\"RCB\"]\n",
        "add=0\n",
        "\n",
        "for i in li:\n",
        "  if isinstance(i, int):\n",
        "    add += i\n",
        "  elif i.isupper():\n",
        "    local_add = 0\n",
        "    for j in i:\n",
        "      local_add += ord(j) - 64\n",
        "    add += local_add\n",
        "\n",
        "print(add)\n"
      ],
      "metadata": {
        "colab": {
          "base_uri": "https://localhost:8080/"
        },
        "id": "8ktNtz8Ulylz",
        "outputId": "0298cf34-0b34-458b-f731-fcc2fb582b8e"
      },
      "execution_count": null,
      "outputs": [
        {
          "output_type": "stream",
          "name": "stdout",
          "text": [
            "116\n"
          ]
        }
      ]
    },
    {
      "cell_type": "code",
      "source": [
        "ord('R')-64\n",
        "coord(\"R\")"
      ],
      "metadata": {
        "colab": {
          "base_uri": "https://localhost:8080/"
        },
        "id": "U0El4VOZn498",
        "outputId": "7802149a-7282-455c-ef34-e61797af1b4a"
      },
      "execution_count": null,
      "outputs": [
        {
          "output_type": "execute_result",
          "data": {
            "text/plain": [
              "18"
            ]
          },
          "metadata": {},
          "execution_count": 44
        }
      ]
    },
    {
      "cell_type": "code",
      "source": [
        "LI=[15,9,3,5,10,12,6,7]\n",
        "# NO NEW LIST/ O(n)/ NO nested loops/ NO sorting\n",
        "max1, max2, max3= 0,0,0\n",
        "\n",
        "for i in LI:\n",
        "  if i> max1:\n",
        "    max3= max2\n",
        "    max2= max1\n",
        "    max1= i\n",
        "\n",
        "  elif i> max2:\n",
        "    max3= max2\n",
        "    max2= i\n",
        "\n",
        "  elif i> max3:\n",
        "    max3= i\n",
        "\n",
        "print(max1, max2, max3)"
      ],
      "metadata": {
        "colab": {
          "base_uri": "https://localhost:8080/"
        },
        "id": "ILr2F1nSohjx",
        "outputId": "890608a1-a919-4249-e2dd-400e982a6be3"
      },
      "execution_count": null,
      "outputs": [
        {
          "output_type": "stream",
          "name": "stdout",
          "text": [
            "15 12 10\n"
          ]
        }
      ]
    },
    {
      "cell_type": "code",
      "source": [
        "string = \"madam\"\n",
        "string1= \"racecar\"\n",
        "string2= \"Amaan\"\n",
        "\n",
        "if string2 == string2[::-1]:\n",
        "  print(\"Palindrome!\")\n",
        "else:\n",
        "  print(\"Not palindrome\")"
      ],
      "metadata": {
        "colab": {
          "base_uri": "https://localhost:8080/"
        },
        "id": "smUBimqeuRPx",
        "outputId": "f3020b1c-6a02-4e0a-9c67-a4b6dea31d67"
      },
      "execution_count": null,
      "outputs": [
        {
          "output_type": "stream",
          "name": "stdout",
          "text": [
            "Not palindrome\n"
          ]
        }
      ]
    },
    {
      "cell_type": "code",
      "source": [
        "# if consecutive\n",
        "li=[1,2,4,3,5]\n",
        "li2=[18,20,19,21,22,28]\n",
        "start= min(li2)\n",
        "\n",
        "for i in li2:\n",
        "  if i != start:\n",
        "    print(i)\n",
        "  start +=1"
      ],
      "metadata": {
        "colab": {
          "base_uri": "https://localhost:8080/"
        },
        "id": "-gwHD84NvBj8",
        "outputId": "efe9b1e4-0ab6-48c6-d126-eb084daa1cfe"
      },
      "execution_count": null,
      "outputs": [
        {
          "output_type": "stream",
          "name": "stdout",
          "text": [
            "20\n",
            "19\n",
            "28\n"
          ]
        }
      ]
    },
    {
      "cell_type": "code",
      "source": [
        "li= [5,1,2,2,4,10]\n",
        "n= 10\n",
        "for i in range(1,n+1):\n",
        "  if i not in li:\n",
        "    print(i)"
      ],
      "metadata": {
        "colab": {
          "base_uri": "https://localhost:8080/"
        },
        "id": "3UrUZXuXyIX3",
        "outputId": "e86fb18c-bf1f-49f6-8ef8-16389d8fff08"
      },
      "execution_count": null,
      "outputs": [
        {
          "output_type": "stream",
          "name": "stdout",
          "text": [
            "3\n",
            "6\n",
            "7\n",
            "8\n",
            "9\n"
          ]
        }
      ]
    },
    {
      "cell_type": "code",
      "source": [
        "# sqrt\n",
        "num= 1211\n",
        "# print(int(num**(0.5)))\n",
        "for i in range(2,num//2):\n",
        "  if i*i >num:\n",
        "    print(i-1)\n",
        "    break\n",
        "  elif i*i == num:\n",
        "    print(i)\n",
        "    break"
      ],
      "metadata": {
        "colab": {
          "base_uri": "https://localhost:8080/"
        },
        "id": "DkyrSUqWvBpU",
        "outputId": "1f92f57a-ef59-480c-e2cb-0e519ceab136"
      },
      "execution_count": null,
      "outputs": [
        {
          "output_type": "stream",
          "name": "stdout",
          "text": [
            "34\n"
          ]
        }
      ]
    },
    {
      "cell_type": "code",
      "source": [
        "# count output:mismatch\n",
        "s=\"1334324454\"\n",
        "for i in s:\n",
        "  if s.count(i) != int(i):\n",
        "    print(i)"
      ],
      "metadata": {
        "colab": {
          "base_uri": "https://localhost:8080/"
        },
        "id": "xUnoXwqVvkb3",
        "outputId": "1cd48e89-61c1-45b3-fcd8-2eabbfedff1d"
      },
      "execution_count": null,
      "outputs": [
        {
          "output_type": "stream",
          "name": "stdout",
          "text": [
            "2\n",
            "5\n"
          ]
        }
      ]
    },
    {
      "cell_type": "code",
      "source": [],
      "metadata": {
        "id": "QbWG-eimvkfA"
      },
      "execution_count": null,
      "outputs": []
    },
    {
      "cell_type": "code",
      "source": [],
      "metadata": {
        "id": "TlI3pWPHvkiJ"
      },
      "execution_count": null,
      "outputs": []
    },
    {
      "cell_type": "code",
      "source": [],
      "metadata": {
        "id": "sSfKlb1Nvklc"
      },
      "execution_count": null,
      "outputs": []
    }
  ]
}