{
  "nbformat": 4,
  "nbformat_minor": 0,
  "metadata": {
    "colab": {
      "provenance": []
    },
    "kernelspec": {
      "name": "python3",
      "display_name": "Python 3"
    },
    "language_info": {
      "name": "python"
    }
  },
  "cells": [
    {
      "cell_type": "code",
      "execution_count": null,
      "metadata": {
        "colab": {
          "base_uri": "https://localhost:8080/",
          "height": 36
        },
        "id": "2iv-A5_G09XD",
        "outputId": "eeba6b2d-5c8d-4be8-8c67-6cb988b8d82b"
      },
      "outputs": [
        {
          "output_type": "execute_result",
          "data": {
            "text/plain": [
              "'nythop'"
            ],
            "application/vnd.google.colaboratory.intrinsic+json": {
              "type": "string"
            }
          },
          "metadata": {},
          "execution_count": 1
        }
      ],
      "source": [
        "'''Swap First and Last Characters\n",
        "Write a function to swap the first and last characters of a string. If length < 2, return the string\n",
        "as is.\n",
        "🌀 Input: \"python\" → Output: \"nythop\"'''\n",
        "\n",
        "def swap_first_last(string):\n",
        "    if len(string) < 2:\n",
        "        return string\n",
        "    else:\n",
        "        return string[-1]+string[1:-1]+string[0]\n",
        "\n",
        "\n",
        "\n",
        "Input= \"python\"\n",
        "swap_first_last(Input)"
      ]
    },
    {
      "cell_type": "code",
      "source": [
        "'''Count Frequency of Each Vowel\n",
        "Return a dictionary with counts of each vowel in the string.\n",
        "🔡 Input: \"education\" → Output: {'a': 1, 'e': 1, 'i': 1, 'o': 1, 'u': 1}'''\n",
        "\n",
        "Input= \"education\"\n",
        "output= dict()\n",
        "li= ['a','e','i','o','u']\n",
        "for i in li:\n",
        "  output[i]=Input.count(i)\n",
        "\n",
        "print(output)"
      ],
      "metadata": {
        "colab": {
          "base_uri": "https://localhost:8080/"
        },
        "id": "iczvEAFM1ZQV",
        "outputId": "c7dc4f94-b5d4-40cf-dcef-3307442cd0cd"
      },
      "execution_count": null,
      "outputs": [
        {
          "output_type": "stream",
          "name": "stdout",
          "text": [
            "{'a': 1, 'e': 1, 'i': 1, 'o': 1, 'u': 1}\n"
          ]
        }
      ]
    },
    {
      "cell_type": "code",
      "source": [
        "'''Replace Digits with # in a String\n",
        "Replace all digits in the string with the # character.\n",
        "🔢 Input: \"Room 101 is on floor 2\" → Output: \"Room ### is on floor #\"'''\n",
        "\n",
        "\n",
        "Input= \"Room 101 is on floor 2\"\n",
        "for i in Input:\n",
        "  if i.isdigit():\n",
        "    Input = Input.replace(i,'#')\n",
        "\n",
        "print(Input)\n"
      ],
      "metadata": {
        "colab": {
          "base_uri": "https://localhost:8080/"
        },
        "id": "Ug4nUhuc1enE",
        "outputId": "f56cf788-8c1e-45f9-f9a8-6cbe21421098"
      },
      "execution_count": null,
      "outputs": [
        {
          "output_type": "stream",
          "name": "stdout",
          "text": [
            "Room ### is on floor #\n"
          ]
        }
      ]
    },
    {
      "cell_type": "code",
      "source": [
        "'''Compress the String (Run-Length Encoding)\n",
        "Implement a basic RLE compression. Replace consecutive characters with <char><count>\n",
        "if count > 1.\n",
        "📦 Input: \"aaabbcddd\" → Output: \"a3b2cd3\"'''\n",
        "\n",
        "Input= \"aaabbcddd\"\n",
        "Output= \"\"\n",
        "pointer = 0\n",
        "while pointer < len(Input):\n",
        "  char = Input[pointer]\n",
        "  count= 0\n",
        "  while pointer+1< len(Input) and Input[pointer] == Input[pointer+1]:\n",
        "    pointer += 1\n",
        "    count +=1\n",
        "\n",
        "  if count == 0:\n",
        "    Output+= char\n",
        "    pointer +=1\n",
        "  else:\n",
        "    Output+= char+ str(count+1)\n",
        "    pointer +=1\n",
        "\n",
        "print(Output)"
      ],
      "metadata": {
        "id": "gNWwDwjs1gEZ",
        "colab": {
          "base_uri": "https://localhost:8080/"
        },
        "outputId": "f9fe9866-be3a-402e-ee32-bf42992e2cd9"
      },
      "execution_count": null,
      "outputs": [
        {
          "output_type": "stream",
          "name": "stdout",
          "text": [
            "a3b2cd3\n"
          ]
        }
      ]
    },
    {
      "cell_type": "code",
      "source": [
        "'''Check for Substring Rotation\n",
        "Given two strings, check if one is a rotation of the other.\n",
        "Input: \"waterbottle\", \"erbottlewat\" → Output: True'''\n",
        "\n",
        "\n",
        "def is_rotate(s1,s2):\n",
        "  if len(s1) != len(s2):\n",
        "    return False\n",
        "  else:\n",
        "    return s2 in s1+s1\n",
        "\n",
        "S1= \"waterbottle\"\n",
        "S2= \"erbottlewat\"\n",
        "is_rotate(S1,S2)\n"
      ],
      "metadata": {
        "id": "l9vm5tKZ1gte",
        "colab": {
          "base_uri": "https://localhost:8080/"
        },
        "outputId": "d6b7e4eb-a600-4d59-ff8f-ea16aa340572"
      },
      "execution_count": null,
      "outputs": [
        {
          "output_type": "execute_result",
          "data": {
            "text/plain": [
              "True"
            ]
          },
          "metadata": {},
          "execution_count": 3
        }
      ]
    },
    {
      "cell_type": "code",
      "source": [
        "'''Find Most Frequent Word in a Sentence\n",
        "Return the most frequently occurring word in a sentence. Ignore punctuation and case.\n",
        "📊 Input: \"The fox jumped over the lazy dog. The dog barked.\" →\n",
        "Output: \"the\"'''\n",
        "\n",
        "Input= \"The fox jumped over the lazy dog. The dog barked.\"\n",
        "li= Input.lower().split()\n",
        "count_max = 0\n",
        "max_string=\"\"\n",
        "for i in li:\n",
        "  if li.count(i)>count_max:\n",
        "    max_string=i\n",
        "    count_max= li.count(i)\n",
        "\n",
        "print(max_string)"
      ],
      "metadata": {
        "colab": {
          "base_uri": "https://localhost:8080/"
        },
        "id": "Z5AsJ8601hch",
        "outputId": "885e60ea-6b79-4f43-de00-5a2b6429e0bd"
      },
      "execution_count": null,
      "outputs": [
        {
          "output_type": "stream",
          "name": "stdout",
          "text": [
            "the\n"
          ]
        }
      ]
    },
    {
      "cell_type": "code",
      "source": [
        "'''Longest Palindromic Substring\n",
        "Find the longest palindromic substring in a given string.\n",
        "🪞 Input: \"babad\" → Output: \"bab\" or \"aba\"'''\n",
        "\n",
        "def palindrome(s):\n",
        "  if s == s[::-1]:\n",
        "    return True\n",
        "  else:\n",
        "    return False\n",
        "\n",
        "Input=\"babad\"\n",
        "count = 0\n",
        "for i in range(len(Input)):\n",
        "  for j in range(len(Input)):\n",
        "    if palindrome(Input[i:j+1]) and len(Input[i:j+1])>count:\n",
        "      count= len(Input[i:j+1])\n",
        "      output= Input[i:j+1]\n",
        "\n",
        "print(output)"
      ],
      "metadata": {
        "colab": {
          "base_uri": "https://localhost:8080/"
        },
        "id": "YOxwewWa1h7U",
        "outputId": "0049f1c6-f14c-4175-832b-d3fda7172615"
      },
      "execution_count": null,
      "outputs": [
        {
          "output_type": "stream",
          "name": "stdout",
          "text": [
            "bab\n"
          ]
        }
      ]
    },
    {
      "cell_type": "code",
      "source": [
        "'''Find All Words That Appear Exactly Once\n",
        "Given a string of words separated by spaces, return a list of words that occur exactly once.\n",
        "🧠 Input: \"apple orange banana apple mango\" → Output: [\"orange\", \"banana\",\n",
        "\"mango\"]'''\n",
        "\n",
        "Input= \"apple orange banana apple mango\"\n",
        "temp_li= Input.split()\n",
        "final_li = list()\n",
        "for i in temp_li:\n",
        "  if temp_li.count(i)==1:\n",
        "    final_li.append(i)\n",
        "\n",
        "print(final_li)\n"
      ],
      "metadata": {
        "colab": {
          "base_uri": "https://localhost:8080/"
        },
        "id": "bEYTpKgr1iVM",
        "outputId": "a4be373d-7e3c-4a90-eb07-06fd3af6ef8c"
      },
      "execution_count": null,
      "outputs": [
        {
          "output_type": "stream",
          "name": "stdout",
          "text": [
            "['orange', 'banana', 'mango']\n"
          ]
        }
      ]
    },
    {
      "cell_type": "code",
      "source": [
        "'''Longest Substring Without Repeating Characters\n",
        "Find the length of the longest substring without repeating characters.\n",
        "💡 Input: \"abcabcbb\" → Output: 3 (substring: \"abc\")'''\n",
        "\n",
        "def unique(s):\n",
        "  s_list = list(s)\n",
        "  s_set = set(s)\n",
        "  if len(s_set) == len(s_list):\n",
        "    return True\n",
        "  else:\n",
        "    return False\n",
        "\n",
        "Input= \"abcabcbb\"\n",
        "Output= 0\n",
        "\n",
        "for i in range(len(Input)):\n",
        "  for j in range(len(Input)):\n",
        "    if unique(Input[i:j+1]) and len(Input[i:j+1])>Output:\n",
        "      Output= len(Input[i:j+1])\n",
        "\n",
        "print(Output)"
      ],
      "metadata": {
        "colab": {
          "base_uri": "https://localhost:8080/"
        },
        "id": "0nZA0MP91irZ",
        "outputId": "45c55c98-5990-42d1-d96f-bbbb0a9fbdfb"
      },
      "execution_count": null,
      "outputs": [
        {
          "output_type": "stream",
          "name": "stdout",
          "text": [
            "3\n"
          ]
        }
      ]
    },
    {
      "cell_type": "code",
      "source": [
        "'''Generate All Valid Parentheses Strings of Length 2n\n",
        "Given n, generate all valid combinations of n pairs of parentheses using recursion.\n",
        "⚙️ Input: n = 3 → Output: [\"((()))\", \"(()())\", \"(())()\", \"()(())\",\n",
        "\"()()()\"]'''\n",
        "\n",
        "def parentheses(n):\n",
        "  output= []\n",
        "\n",
        "  def recursion(current,open,close):\n",
        "      if len(current) == 2*n:\n",
        "        output.append(current)\n",
        "        return\n",
        "      if open<n:\n",
        "        recursion(current+'(',open+1,close)\n",
        "      if close<open:\n",
        "        recursion(current+')',open,close+1)\n",
        "\n",
        "  recursion('',0,0)\n",
        "  return output\n",
        "\n",
        "n= 3\n",
        "print(parentheses(n))\n"
      ],
      "metadata": {
        "id": "ZgSbM0aq1jBx",
        "colab": {
          "base_uri": "https://localhost:8080/"
        },
        "outputId": "9acffae7-54f3-4a38-fd46-68df9898c61d"
      },
      "execution_count": null,
      "outputs": [
        {
          "output_type": "stream",
          "name": "stdout",
          "text": [
            "['((()))', '(()())', '(())()', '()(())', '()()()']\n"
          ]
        }
      ]
    }
  ]
}