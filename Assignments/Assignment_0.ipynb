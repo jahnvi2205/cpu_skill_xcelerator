{
  "nbformat": 4,
  "nbformat_minor": 0,
  "metadata": {
    "colab": {
      "provenance": []
    },
    "kernelspec": {
      "name": "python3",
      "display_name": "Python 3"
    },
    "language_info": {
      "name": "python"
    }
  },
  "cells": [
    {
      "cell_type": "markdown",
      "source": [
        "1. Move all 0’s in an array to the end while maintaining the order of other elements.\n",
        "\n",
        "  Input: [0, 1, 0, 3, 12]\n",
        "Output: [1, 3, 12, 0, 0]"
      ],
      "metadata": {
        "id": "QkA_gmobDKRK"
      }
    },
    {
      "cell_type": "code",
      "source": [
        "Input= [0, 1, 0, 3, 12]\n",
        "zero_p = 0\n",
        "int_p = 0\n",
        "while(zero_p < len(Input) and int_p < len(Input)):\n",
        "  if Input[zero_p] != 0:\n",
        "    zero_p+=1\n",
        "  elif Input[int_p] == 0:\n",
        "    int_p+=1\n",
        "  else:\n",
        "    Input[zero_p],Input[int_p] = Input[int_p],Input[zero_p]\n",
        "    zero_p+=1\n",
        "    int_p+=1\n",
        "\n",
        "print(Input)\n"
      ],
      "metadata": {
        "colab": {
          "base_uri": "https://localhost:8080/"
        },
        "id": "7KVP-O26QFjG",
        "outputId": "ee4caf02-3ec7-482b-f2f3-cfa45f21bf41"
      },
      "execution_count": null,
      "outputs": [
        {
          "output_type": "stream",
          "name": "stdout",
          "text": [
            "[1, 3, 12, 0, 0]\n"
          ]
        }
      ]
    },
    {
      "cell_type": "markdown",
      "source": [
        "2. Check if the given array is sorted in non-decreasing order.\n",
        "\n",
        "Input: [1, 2, 2, 4]\n",
        "\n",
        "Output: True"
      ],
      "metadata": {
        "id": "Suxb7q6HRJrk"
      }
    },
    {
      "cell_type": "code",
      "source": [
        "def is_sorted(input):\n",
        "  for i in range(len(input)-1):\n",
        "    if input[i] > input[i+1]:\n",
        "      return False\n",
        "  return True\n",
        "\n",
        "Input= [1, 2, 2, 4]\n",
        "is_sorted(Input)"
      ],
      "metadata": {
        "colab": {
          "base_uri": "https://localhost:8080/"
        },
        "id": "9ghM4dRIRJGB",
        "outputId": "2efcd8c6-19c8-42ab-a6de-2caa575cc165"
      },
      "execution_count": 1,
      "outputs": [
        {
          "output_type": "execute_result",
          "data": {
            "text/plain": [
              "True"
            ]
          },
          "metadata": {},
          "execution_count": 1
        }
      ]
    },
    {
      "cell_type": "markdown",
      "source": [
        "3. Count the frequency of each character in a string and print its frequency.\n",
        "\n",
        "Input: \"apple\"\n",
        "\n",
        "Output: {'a': 1, 'p': 2, 'l': 1, 'e': 1}"
      ],
      "metadata": {
        "id": "x4Bkl8BGR4FD"
      }
    },
    {
      "cell_type": "code",
      "source": [
        "Input= \"apple\"\n",
        "freq= {}\n",
        "for i in Input:\n",
        "  if i in freq:\n",
        "    freq[i]+=1\n",
        "  else:\n",
        "    freq[i]=1\n",
        "print(freq)"
      ],
      "metadata": {
        "colab": {
          "base_uri": "https://localhost:8080/"
        },
        "id": "mzRD7wvwR475",
        "outputId": "344bc481-1f03-4419-98a9-7ca14e064bb9"
      },
      "execution_count": null,
      "outputs": [
        {
          "output_type": "stream",
          "name": "stdout",
          "text": [
            "{'a': 1, 'p': 2, 'l': 1, 'e': 1}\n"
          ]
        }
      ]
    },
    {
      "cell_type": "markdown",
      "source": [
        "4. Given a number n, print all prime numbers less than or equal to n.\n",
        "\n",
        "Input: 10\n",
        "\n",
        "Output: [2, 3, 5, 7]"
      ],
      "metadata": {
        "id": "Ko1e_RD9SRJQ"
      }
    },
    {
      "cell_type": "code",
      "source": [
        "def is_prime(x):\n",
        "  if x<2:\n",
        "    return False\n",
        "  for i in range(2, int(x**0.5)+1):\n",
        "    if x%i == 0:\n",
        "      return False\n",
        "  return True\n",
        "\n",
        "\n",
        "\n",
        "Input = 10\n",
        "primes=[]\n",
        "for i in range(Input):\n",
        "  if is_prime(i):\n",
        "    primes.append(i)\n",
        "print(primes)"
      ],
      "metadata": {
        "colab": {
          "base_uri": "https://localhost:8080/"
        },
        "id": "W0xoA76vnsck",
        "outputId": "43a8f15b-d730-4b3f-f050-26e240fce875"
      },
      "execution_count": null,
      "outputs": [
        {
          "output_type": "stream",
          "name": "stdout",
          "text": [
            "[2, 3, 5, 7]\n"
          ]
        }
      ]
    },
    {
      "cell_type": "markdown",
      "source": [
        "5. Given an array arr , find all unique pairs of elements whose sum equals the target.\n",
        "\n",
        "Input: arr = [1, 2, 3, 4, 5, 6, 7], target = 8\n",
        "\n",
        "Output: [(1, 7), (2, 6), (3, 5)]"
      ],
      "metadata": {
        "id": "IT4lt1TLSV7M"
      }
    },
    {
      "cell_type": "code",
      "source": [
        "Input= [1, 2, 3, 4, 5, 6, 7]\n",
        "Output=[]\n",
        "target = 8\n",
        "for i in range(len(Input)):\n",
        "  for j in range(i+1,len(Input)):\n",
        "    if Input[i]+Input[j]==target:\n",
        "      Output.append((Input[i],Input[j]))\n",
        "print(Output)"
      ],
      "metadata": {
        "colab": {
          "base_uri": "https://localhost:8080/"
        },
        "id": "BlTfjNOZSYMg",
        "outputId": "b7804d42-af8a-47e9-db73-10ad73cfb3b7"
      },
      "execution_count": null,
      "outputs": [
        {
          "output_type": "stream",
          "name": "stdout",
          "text": [
            "[(1, 7), (2, 6), (3, 5)]\n"
          ]
        }
      ]
    },
    {
      "cell_type": "markdown",
      "source": [
        "6. Given an array of integers and a number K, find the length of the longest subarray whose sum is divisible by K.\n",
        "\n",
        "Input: arr = [2, 7, 6, 1, 4, 5], K = 3\n",
        "\n",
        "Output: 4\n",
        "\n",
        "Explanation: Subarray [7, 6, 1, 4] has a sum of 18, which is divisible by 3."
      ],
      "metadata": {
        "id": "oVpmBSRIS8Sg"
      }
    },
    {
      "cell_type": "code",
      "source": [
        "Input = [2, 7, 6, 1, 4, 5]\n",
        "K = 3\n",
        "Output = 0\n",
        "for i in range(len(Input)):\n",
        "  curr_sum = Input[i]\n",
        "  for j in range(i+1,len(Input)):\n",
        "    curr_sum += Input[j]\n",
        "    if curr_sum % K == 0:\n",
        "      Output = max(Output,j-i+1)\n",
        "print(Output)"
      ],
      "metadata": {
        "colab": {
          "base_uri": "https://localhost:8080/"
        },
        "id": "13v1NQGtnsZI",
        "outputId": "f6aa12bb-bee3-4546-abda-690b5f085a33"
      },
      "execution_count": null,
      "outputs": [
        {
          "output_type": "stream",
          "name": "stdout",
          "text": [
            "4\n"
          ]
        }
      ]
    },
    {
      "cell_type": "markdown",
      "source": [
        "\n",
        "7.  Given an array of positive integers and a value K, find the number of contiguous subarrays where the product of all elements is less than K\n",
        "\n",
        "\n",
        "Input: arr = [10, 5, 2, 6], K = 100\n",
        "\n",
        "Output: 8\n",
        "Subarrays are: [10], [5], [2], [6], [10, 5], [5, 2], [2, 6], [5, 2, 6]"
      ],
      "metadata": {
        "id": "DX1XJ7oQTzAN"
      }
    },
    {
      "cell_type": "code",
      "source": [
        "Input = [10, 5, 2, 6]\n",
        "K = 100\n",
        "Output = 0\n",
        "\n",
        "for i in range(len(Input)):\n",
        "    curr_mul = 1\n",
        "    for j in range(i, len(Input)):\n",
        "        curr_mul *= Input[j]\n",
        "        if curr_mul < K:\n",
        "            Output += 1\n",
        "        else:\n",
        "            break\n",
        "\n",
        "print(Output)\n"
      ],
      "metadata": {
        "id": "pKHo9BZ2tWh9",
        "colab": {
          "base_uri": "https://localhost:8080/"
        },
        "outputId": "eb7f79fb-8a3e-425a-b2bf-5583074e2f68"
      },
      "execution_count": null,
      "outputs": [
        {
          "output_type": "stream",
          "name": "stdout",
          "text": [
            "8\n"
          ]
        }
      ]
    },
    {
      "cell_type": "markdown",
      "source": [
        "8. Given an array and a ratio r, count the number of triplets (i, j, k) such that arr[j] = arr[i]*r and arr[k] = arr[j]*r and i < j < k.\n",
        "\n",
        "Input: arr = [1, 4, 16, 64], r = 4\n",
        "\n",
        "Output: 2\n",
        "\n",
        "Explanation: Valid triplets are (1,4,16) and (4,16,64)"
      ],
      "metadata": {
        "id": "7KxG4E3aVN1F"
      }
    },
    {
      "cell_type": "code",
      "source": [
        "Arr = [1, 4, 16, 64]\n",
        "R = 4\n",
        "Output=0\n",
        "for i in range(len(Arr)):\n",
        "  for j in range(i+1,len(Arr)):\n",
        "    for k in range(j+1,len(Arr)):\n",
        "      if Arr[j] == Arr[i]*R and Arr[k] == Arr[j]*R:\n",
        "        Output+=1\n",
        "\n",
        "print(Output)\n",
        "\n"
      ],
      "metadata": {
        "id": "qb9VE5rjtWqp",
        "colab": {
          "base_uri": "https://localhost:8080/"
        },
        "outputId": "da7f45a2-dc5c-4535-d382-5d1947d4cfd0"
      },
      "execution_count": 4,
      "outputs": [
        {
          "output_type": "stream",
          "name": "stdout",
          "text": [
            "2\n"
          ]
        }
      ]
    },
    {
      "cell_type": "markdown",
      "source": [
        "9. Given a binary string, count the number of substrings with an equal number of 0s and 1s,   where all zeroes and ones are grouped (i.e., all 0s appear first, then 1s, or vice versa).  \n",
        "\n",
        "Input: \"00110011\"\n",
        "\n",
        "Output: 6\n",
        "\n",
        "Explanation: \"0011\",\"01\",\"1100\",\"10\",\"0011\",\"01\""
      ],
      "metadata": {
        "id": "7CIGYIZ_VRhw"
      }
    },
    {
      "cell_type": "code",
      "source": [
        "def Count(input):\n",
        "  count = 0\n",
        "\n",
        "  for i in range(len(input)):\n",
        "    zero= one= 0\n",
        "    for j in range(i, len(input)):\n",
        "      if input[j]== '0':\n",
        "        zero+= 1\n",
        "      else:\n",
        "        one+= 1\n",
        "      if j>i and input[j]!= input[j-1] and input[j]==input[i]:break\n",
        "      if zero == one:\n",
        "        count+= 1\n",
        "  return count\n",
        "\n",
        "Input= \"00110011\"\n",
        "print(Count(Input))\n",
        "\n"
      ],
      "metadata": {
        "id": "f4RhVjrutWwx",
        "colab": {
          "base_uri": "https://localhost:8080/"
        },
        "outputId": "116aa2e3-7692-4bf2-9c54-4b8d780fdcf7"
      },
      "execution_count": null,
      "outputs": [
        {
          "output_type": "stream",
          "name": "stdout",
          "text": [
            "7\n"
          ]
        }
      ]
    },
    {
      "cell_type": "markdown",
      "source": [
        "\n",
        "10. Given a number, return the sum of its digits.\n",
        "\n",
        "Input: 1234\n",
        "\n",
        "Output: 10"
      ],
      "metadata": {
        "id": "2ZfSeArfVZ0E"
      }
    },
    {
      "cell_type": "code",
      "source": [
        "Input= 1234\n",
        "Output=0\n",
        "while Input>0:\n",
        "  Output+=Input%10\n",
        "  Input//=10\n",
        "print(Output)"
      ],
      "metadata": {
        "colab": {
          "base_uri": "https://localhost:8080/"
        },
        "id": "f9HO87N0Vb9V",
        "outputId": "2ca75108-5ecd-4f1f-c76d-bd927d27b4c3"
      },
      "execution_count": null,
      "outputs": [
        {
          "output_type": "stream",
          "name": "stdout",
          "text": [
            "10\n"
          ]
        }
      ]
    }
  ]
}