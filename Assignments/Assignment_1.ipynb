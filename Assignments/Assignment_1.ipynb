{
  "nbformat": 4,
  "nbformat_minor": 0,
  "metadata": {
    "colab": {
      "provenance": []
    },
    "kernelspec": {
      "name": "python3",
      "display_name": "Python 3"
    },
    "language_info": {
      "name": "python"
    }
  },
  "cells": [
    {
      "cell_type": "markdown",
      "source": [
        "Create a variable team_name and assign your favorite IPL team name. Then create a\n",
        "variable wins and assign how many matches they won. Print a sentence like:\n",
        "\n",
        "\"Chennai Super Kings have won 10 matches this season!\""
      ],
      "metadata": {
        "id": "yheNZTms8WLu"
      }
    },
    {
      "cell_type": "code",
      "source": [
        "team_name = \"Punjab Kings\"\n",
        "wins = 9\n",
        "print(f'{team_name} have won {wins} matches this season!')"
      ],
      "metadata": {
        "colab": {
          "base_uri": "https://localhost:8080/"
        },
        "id": "9a75UZhq8XS8",
        "outputId": "fd0edaee-139c-462c-d423-f829534bf121"
      },
      "execution_count": null,
      "outputs": [
        {
          "output_type": "stream",
          "name": "stdout",
          "text": [
            "Punjab Kings have won 9 matches this season!\n"
          ]
        }
      ]
    },
    {
      "cell_type": "markdown",
      "source": [
        "Create variables for runs scored in 3 matches by a player: match1, match2, match3.\n",
        "Calculate total and average runs and print:\n",
        "\n",
        "\"Virat Kohli scored a total of 210 runs with an average of 70.0\"."
      ],
      "metadata": {
        "id": "FwU65hUcEORE"
      }
    },
    {
      "cell_type": "code",
      "execution_count": null,
      "metadata": {
        "colab": {
          "base_uri": "https://localhost:8080/"
        },
        "id": "sQJQxmjN8QfK",
        "outputId": "628cab7e-fff7-465b-fccd-700e5ece43e8"
      },
      "outputs": [
        {
          "output_type": "stream",
          "name": "stdout",
          "text": [
            "Shreyas Iyer scored a total of 213 runs with an average of 71.0.\n"
          ]
        }
      ],
      "source": [
        "match1= 50\n",
        "match2= 87\n",
        "match3= 76\n",
        "total= match1+match2+match3\n",
        "average= total/3\n",
        "print(f'Shreyas Iyer scored a total of {total} runs with an average of {average}.')"
      ]
    },
    {
      "cell_type": "markdown",
      "source": [
        "📊 Declare a string variable top_scorer = 'Shubman Gill' and print the number of\n",
        "characters in his name using len()."
      ],
      "metadata": {
        "id": "esBmMw34FnrE"
      }
    },
    {
      "cell_type": "code",
      "source": [
        "top_scorer = 'Shubman Gill'\n",
        "print(\"No. of characters:\", len(top_scorer))\n"
      ],
      "metadata": {
        "colab": {
          "base_uri": "https://localhost:8080/"
        },
        "id": "76kUiGUqFoZ-",
        "outputId": "1a7ec475-9f62-41cb-ad2b-118a4ded8fa4"
      },
      "execution_count": null,
      "outputs": [
        {
          "output_type": "stream",
          "name": "stdout",
          "text": [
            "No. of characters: 12\n"
          ]
        }
      ]
    },
    {
      "cell_type": "markdown",
      "source": [
        "Use format() or f-strings to display this line:\n",
        "\n",
        "\"In today's match, {player} hit {fours} fours and {sixes} sixes!\""
      ],
      "metadata": {
        "id": "ty6eG5-4F0Gp"
      }
    },
    {
      "cell_type": "code",
      "source": [
        "player = 'Virat Kohli'\n",
        "fours = 7\n",
        "sixes = 3\n",
        "print(f\"In today's match, {player} hit {fours} fours and {sixes} sixes!\")\n"
      ],
      "metadata": {
        "colab": {
          "base_uri": "https://localhost:8080/"
        },
        "id": "5j-PEZeRF3iB",
        "outputId": "2affbccc-e12e-4199-a483-91b806e47d05"
      },
      "execution_count": null,
      "outputs": [
        {
          "output_type": "stream",
          "name": "stdout",
          "text": [
            "In today's match, Virat Kohli hit 7 fours and 3 sixes!\n"
          ]
        }
      ]
    },
    {
      "cell_type": "markdown",
      "source": [
        "Ask user to input the name of two IPL teams and swap them without using a third\n",
        "variable. Print swapped values."
      ],
      "metadata": {
        "id": "tk_jNVoaF2ac"
      }
    },
    {
      "cell_type": "code",
      "source": [
        "Ipl_1 = input(\"First IPL team:\")\n",
        "Ipl_2 = input(\"Second IPL team:\")\n",
        "Ipl_1, Ipl_2 = Ipl_2, Ipl_1\n",
        "print(\"First team:\", Ipl_1)\n",
        "print(\"Second team:\", Ipl_2)"
      ],
      "metadata": {
        "colab": {
          "base_uri": "https://localhost:8080/"
        },
        "id": "-FIXI6A1GEk5",
        "outputId": "8d25e689-943a-46a7-c7b7-fb4914bd1bf4"
      },
      "execution_count": null,
      "outputs": [
        {
          "output_type": "stream",
          "name": "stdout",
          "text": [
            "First IPL team:rcb\n",
            "Second IPL team:pbks\n",
            "First team: pbks\n",
            "Second team: rcb\n"
          ]
        }
      ]
    },
    {
      "cell_type": "markdown",
      "source": [
        "Create a variable speed_of_light = 299792458 (in m/s) and calculate how far light\n",
        "travels in 5 seconds. Print the distance."
      ],
      "metadata": {
        "id": "mSiloaJNGXta"
      }
    },
    {
      "cell_type": "code",
      "source": [
        "speed_of_light = 299792458\n",
        "time = 5\n",
        "distance= speed_of_light * time\n",
        "print(\"Distance:\",distance)\n"
      ],
      "metadata": {
        "colab": {
          "base_uri": "https://localhost:8080/"
        },
        "id": "LTpuYSI-GYYc",
        "outputId": "1dcc9d8f-6843-4e51-a3d3-2dfde928c32a"
      },
      "execution_count": null,
      "outputs": [
        {
          "output_type": "stream",
          "name": "stdout",
          "text": [
            "distance: 1498962290\n"
          ]
        }
      ]
    },
    {
      "cell_type": "markdown",
      "source": [
        "Create a variable charge = -1.6e-19 and use type() to print its data type. Then\n",
        "convert it to a string and print its type again."
      ],
      "metadata": {
        "id": "4lS6HqA9Gxqz"
      }
    },
    {
      "cell_type": "code",
      "source": [
        "variable_charge = -1.6e-19\n",
        "print(type(variable_charge))\n",
        "variable_charge = str(variable_charge)\n",
        "print(type(variable_charge))"
      ],
      "metadata": {
        "colab": {
          "base_uri": "https://localhost:8080/"
        },
        "id": "O8ckWtwgG01j",
        "outputId": "91d067d4-1f3d-4a13-f365-134488075db8"
      },
      "execution_count": null,
      "outputs": [
        {
          "output_type": "stream",
          "name": "stdout",
          "text": [
            "<class 'float'>\n",
            "<class 'str'>\n"
          ]
        }
      ]
    },
    {
      "cell_type": "markdown",
      "source": [
        "Let atom_name = \"Oxygen\" and atomic_number = 8. Create a sentence like:\n",
        "\n",
        "\"Oxygen has atomic number 8 and is essential for life.\""
      ],
      "metadata": {
        "id": "3zVRRwlDP7Vm"
      }
    },
    {
      "cell_type": "code",
      "source": [
        "atom_name = \"Oxygen\"\n",
        "atomic_number = 8\n",
        "print(f'{atom_name} has atomic number {atomic_number} and is essential for life.')"
      ],
      "metadata": {
        "colab": {
          "base_uri": "https://localhost:8080/"
        },
        "id": "UIcN8QePQBxM",
        "outputId": "62bf0836-b9eb-4b15-fdfa-097572357f79"
      },
      "execution_count": null,
      "outputs": [
        {
          "output_type": "stream",
          "name": "stdout",
          "text": [
            "Oxygen has atomic number 8 and is essential for life.\n"
          ]
        }
      ]
    },
    {
      "cell_type": "markdown",
      "source": [
        "🤖 Assign your favorite tech company to a variable company and use upper() to print it\n",
        "in uppercase."
      ],
      "metadata": {
        "id": "-UFgC396P-Xv"
      }
    },
    {
      "cell_type": "code",
      "source": [
        "company='google'\n",
        "print(company.upper())"
      ],
      "metadata": {
        "colab": {
          "base_uri": "https://localhost:8080/"
        },
        "id": "8OsIJA5PQQJc",
        "outputId": "3ff53453-477f-4638-aa79-93b963341a4f"
      },
      "execution_count": null,
      "outputs": [
        {
          "output_type": "stream",
          "name": "stdout",
          "text": [
            "GOOGLE\n"
          ]
        }
      ]
    },
    {
      "cell_type": "markdown",
      "source": [
        "10. 📱 Ask user to input the name of a gadget (like 'iPhone 15'), use len() to count\n",
        "characters and print the result."
      ],
      "metadata": {
        "id": "a_jae3kYQATe"
      }
    },
    {
      "cell_type": "code",
      "source": [
        "gadget = 'Macbook'\n",
        "result = len(gadget)\n",
        "print(result)"
      ],
      "metadata": {
        "colab": {
          "base_uri": "https://localhost:8080/"
        },
        "id": "DTBbDH3sQYNN",
        "outputId": "77ce3de9-e79b-4f7b-a075-331c18e03bf5"
      },
      "execution_count": null,
      "outputs": [
        {
          "output_type": "stream",
          "name": "stdout",
          "text": [
            "7\n"
          ]
        }
      ]
    },
    {
      "cell_type": "markdown",
      "source": [
        "Create a variable side = 6 and compute the area and perimeter of a square. Print\n",
        "the result."
      ],
      "metadata": {
        "id": "mBAYrgarQorL"
      }
    },
    {
      "cell_type": "code",
      "source": [
        "side = 6\n",
        "area = side*side\n",
        "perimeter= 4*side\n",
        "print(\"Area:\",area)\n",
        "print(\"Perimeter:\",perimeter)"
      ],
      "metadata": {
        "colab": {
          "base_uri": "https://localhost:8080/"
        },
        "id": "Ju0YQS4xQpp8",
        "outputId": "0e67077f-70be-45bd-9d57-d6945f121283"
      },
      "execution_count": null,
      "outputs": [
        {
          "output_type": "stream",
          "name": "stdout",
          "text": [
            "Area: 36\n",
            "Perimeter: 24\n"
          ]
        }
      ]
    },
    {
      "cell_type": "markdown",
      "source": [
        "Create a variable base = 10, height = 5 and calculate the area of a triangle."
      ],
      "metadata": {
        "id": "0ORvB4CbQ0UV"
      }
    },
    {
      "cell_type": "code",
      "source": [
        "base = 10\n",
        "height = 5\n",
        "area = 0.5*base*height\n",
        "print(\"Area:\",area)"
      ],
      "metadata": {
        "colab": {
          "base_uri": "https://localhost:8080/"
        },
        "id": "Ku-U-R7lQ4hR",
        "outputId": "208e5594-88ed-4b6e-9e71-e5b831939182"
      },
      "execution_count": null,
      "outputs": [
        {
          "output_type": "stream",
          "name": "stdout",
          "text": [
            "Area: 25.0\n"
          ]
        }
      ]
    },
    {
      "cell_type": "markdown",
      "source": [
        "Create a variable mass = 60 and gravity = 9.8. Compute the weight (mass ×\n",
        "gravity) and print in Newtons."
      ],
      "metadata": {
        "id": "WnJeP_EWQ3dJ"
      }
    },
    {
      "cell_type": "code",
      "source": [
        "mass = 60\n",
        "gravity = 9.8\n",
        "weight = mass * gravity\n",
        "print(\"Weight:\",weight,\"newtons\")"
      ],
      "metadata": {
        "colab": {
          "base_uri": "https://localhost:8080/"
        },
        "id": "-vBWfl8BQ_qI",
        "outputId": "dfffdfc8-0726-4e3f-bdfa-2f1e6ddfd26c"
      },
      "execution_count": null,
      "outputs": [
        {
          "output_type": "stream",
          "name": "stdout",
          "text": [
            "Weight: 588.0 newtons\n"
          ]
        }
      ]
    },
    {
      "cell_type": "markdown",
      "source": [
        "Use round() to round π = 3.14159 to 2 decimal places and print it."
      ],
      "metadata": {
        "id": "O4LEqPXxRc04"
      }
    },
    {
      "cell_type": "code",
      "source": [
        "pie = 3.14159\n",
        "print(\"Pie:\",round(pie,2))"
      ],
      "metadata": {
        "colab": {
          "base_uri": "https://localhost:8080/"
        },
        "id": "6mrniy7JRf5Q",
        "outputId": "6329c9fd-feee-4560-9ce3-38ee344a9d08"
      },
      "execution_count": null,
      "outputs": [
        {
          "output_type": "stream",
          "name": "stdout",
          "text": [
            "Pie: 3.14\n"
          ]
        }
      ]
    },
    {
      "cell_type": "markdown",
      "source": [
        "Use pow(base, exponent) to calculate 2^8 and print:\n",
        "\n",
        "\"2 raised to the power 8 is 256\""
      ],
      "metadata": {
        "id": "6Cq4CnFcR10Y"
      }
    },
    {
      "cell_type": "code",
      "source": [
        "base = 2\n",
        "exponent = 8\n",
        "result = pow(base,exponent)\n",
        "print(f\"{base} raised to the power {exponent} is {result}\")"
      ],
      "metadata": {
        "colab": {
          "base_uri": "https://localhost:8080/"
        },
        "id": "tk-z4E9PR4Qw",
        "outputId": "2f45d9eb-88f2-4841-ec9c-42d67a827d26"
      },
      "execution_count": null,
      "outputs": [
        {
          "output_type": "stream",
          "name": "stdout",
          "text": [
            "2 raised to the power 8 is 256\n"
          ]
        }
      ]
    },
    {
      "cell_type": "markdown",
      "source": [
        "Ask the user for their internet speed in Mbps. Convert it to MBps (Megabytes per\n",
        "second) by dividing by 8 and print the result."
      ],
      "metadata": {
        "id": "gtZXCoEESMRB"
      }
    },
    {
      "cell_type": "code",
      "source": [
        "speed=int(input(\"Enter your internet speed in Mbps: \"))\n",
        "MBps= speed/8\n",
        "print(\"Result:\",MBps)"
      ],
      "metadata": {
        "colab": {
          "base_uri": "https://localhost:8080/"
        },
        "id": "QZbzC36PSNCq",
        "outputId": "a2c97d97-9092-4e21-b700-5c3231525940"
      },
      "execution_count": null,
      "outputs": [
        {
          "output_type": "stream",
          "name": "stdout",
          "text": [
            "Enter your internet speed in Mbps: 64\n",
            "Result: 8.0\n"
          ]
        }
      ]
    },
    {
      "cell_type": "markdown",
      "source": [
        "Ask the user for their password input and print the number of characters using\n",
        "len(), but hide the actual password in the output."
      ],
      "metadata": {
        "id": "Y_FyWShXSdg6"
      }
    },
    {
      "cell_type": "code",
      "source": [
        "password = input(\"Enter your password: \")\n",
        "print(\"Number of characters:\",len(password))\n",
        "print(\"*\" * len(password))"
      ],
      "metadata": {
        "colab": {
          "base_uri": "https://localhost:8080/"
        },
        "id": "0RFiliPgSf7-",
        "outputId": "9fb4bf03-39d6-4c3f-98d1-2872a196c8d8"
      },
      "execution_count": null,
      "outputs": [
        {
          "output_type": "stream",
          "name": "stdout",
          "text": [
            "Enter your password: 2345\n",
            "Number of characters: 4\n",
            "****\n"
          ]
        }
      ]
    },
    {
      "cell_type": "markdown",
      "source": [
        "Declare a variable game_name = \"Minecraft\", and use slicing to print only the first\n",
        "4 letters."
      ],
      "metadata": {
        "id": "NrvCAjaRS0D7"
      }
    },
    {
      "cell_type": "code",
      "source": [
        "game_name = \"Minecraft\"\n",
        "print(game_name[:4])"
      ],
      "metadata": {
        "colab": {
          "base_uri": "https://localhost:8080/"
        },
        "id": "fDRb2XPDS04b",
        "outputId": "bffcabd0-dd91-4527-e842-144e8b2cbf08"
      },
      "execution_count": null,
      "outputs": [
        {
          "output_type": "stream",
          "name": "stdout",
          "text": [
            "Mine\n"
          ]
        }
      ]
    },
    {
      "cell_type": "markdown",
      "source": [
        "Create 3 variables: math = 92, science = 85, english = 88. Calculate total and\n",
        "average marks and print the percentage."
      ],
      "metadata": {
        "id": "jI1eY0VLS_1r"
      }
    },
    {
      "cell_type": "code",
      "source": [
        "math = 92\n",
        "science = 85\n",
        "english = 88\n",
        "total = math + science + english\n",
        "avg = total/3\n",
        "percentage = (total/300)*100\n",
        "print(\"percentage:\",percentage)"
      ],
      "metadata": {
        "colab": {
          "base_uri": "https://localhost:8080/"
        },
        "id": "DIN1bIiPTCOI",
        "outputId": "8ff30c5a-ad8a-4cd2-adb0-4f4abacfbb17"
      },
      "execution_count": null,
      "outputs": [
        {
          "output_type": "stream",
          "name": "stdout",
          "text": [
            "percentage: 88.33333333333333\n"
          ]
        }
      ]
    },
    {
      "cell_type": "markdown",
      "source": [
        "Ask the user to enter their name and favorite subject. Use .capitalize() to neatly\n",
        "format and print:\n",
        "\n",
        "\"Hi Rahul! It's great to know you love Physics.\""
      ],
      "metadata": {
        "id": "nCanas3vTfed"
      }
    },
    {
      "cell_type": "code",
      "source": [
        "name= input(\"Enter your name: \")\n",
        "subject= input(\"Enter your favorite subject: \")\n",
        "print(f\"Hi {name.capitalize()}! It's great to know you love {subject.capitalize()}\")"
      ],
      "metadata": {
        "colab": {
          "base_uri": "https://localhost:8080/"
        },
        "id": "2cGPSeBsThWb",
        "outputId": "c699c4a0-a56d-4011-d723-8145e45f785b"
      },
      "execution_count": null,
      "outputs": [
        {
          "output_type": "stream",
          "name": "stdout",
          "text": [
            "Enter your name: georgia\n",
            "Enter your favorite subject: literature\n",
            "Hi Georgia! It's great to know you love Literature\n"
          ]
        }
      ]
    }
  ]
}