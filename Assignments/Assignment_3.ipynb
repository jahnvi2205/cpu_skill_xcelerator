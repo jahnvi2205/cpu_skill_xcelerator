{
  "nbformat": 4,
  "nbformat_minor": 0,
  "metadata": {
    "colab": {
      "provenance": []
    },
    "kernelspec": {
      "name": "python3",
      "display_name": "Python 3"
    },
    "language_info": {
      "name": "python"
    }
  },
  "cells": [
    {
      "cell_type": "code",
      "execution_count": null,
      "metadata": {
        "colab": {
          "base_uri": "https://localhost:8080/"
        },
        "id": "qjZGjhiSyAS0",
        "outputId": "5ca472ba-afb7-4199-9c1b-299986a1867f"
      },
      "outputs": [
        {
          "output_type": "stream",
          "name": "stdout",
          "text": [
            "['Kohli', 'Rohit']\n"
          ]
        }
      ],
      "source": [
        "'''Cricketer's Jersey Filter\n",
        "Input: players = [('Kohli', 18), ('Dhoni', 7), ('Rohit', 45), ('Pant', 17)]\n",
        "Task: Print the names of players whose jersey numbers are multiples of 3.\n",
        "Expected Output: ['Kohli']'''\n",
        "\n",
        "players = [('Kohli', 18), ('Dhoni', 7), ('Rohit', 45), ('Pant', 17)]\n",
        "lst=[]\n",
        "for i in players:\n",
        "  if i[1]%3 == 0:\n",
        "    lst.append(i[0])\n",
        "\n",
        "print(lst)"
      ]
    },
    {
      "cell_type": "code",
      "source": [
        "'''Football Match Winner\n",
        "Input: match_scores = {'TeamA': 3, 'TeamB': 2}\n",
        "Task: Print which team won or print \"Draw\".\n",
        "Expected Output: \"TeamA wins\"'''\n",
        "\n",
        "match_scores = {'TeamA': 3, 'TeamB': 2}\n",
        "if match_scores['TeamA'] > match_scores['TeamB']:\n",
        "  print('TeamA wins')\n",
        "elif match_scores['TeamA'] < match_scores['TeamB']:\n",
        "  print('TeamB wins')\n",
        "else:\n",
        "  print('Draw')"
      ],
      "metadata": {
        "colab": {
          "base_uri": "https://localhost:8080/"
        },
        "id": "OnIE3IO_zAb7",
        "outputId": "3c38475f-40aa-4191-80ed-c101016b35f1"
      },
      "execution_count": null,
      "outputs": [
        {
          "output_type": "stream",
          "name": "stdout",
          "text": [
            "TeamA wins\n"
          ]
        }
      ]
    },
    {
      "cell_type": "code",
      "source": [
        "'''Scientific Term Extraction\n",
        "Input: text = \"The mitochondria is the powerhouse of the cell\"\n",
        "Task: Extract and print the word that comes after \"is\".\n",
        "Expected Output: \"the\"'''\n",
        "\n",
        "text = \"The mitochondria is the powerhouse of the cell\"\n",
        "lst=text.split()\n",
        "index = lst.index('is')\n",
        "print(lst[index+1])"
      ],
      "metadata": {
        "colab": {
          "base_uri": "https://localhost:8080/"
        },
        "id": "7D5ZcvqKzAe4",
        "outputId": "c1269a0a-eb7f-4f05-c018-4c6e757bde76"
      },
      "execution_count": null,
      "outputs": [
        {
          "output_type": "stream",
          "name": "stdout",
          "text": [
            "the\n"
          ]
        }
      ]
    },
    {
      "cell_type": "code",
      "source": [
        "'''Patient Fever Detection\n",
        "Input: patients = {'John': 98.6, 'Priya': 101.4, 'Ali': 99.0, 'Neha': 103.5}\n",
        "Task: Print names of patients who have a temperature above 100.\n",
        "Expected Output: ['Priya', 'Neha']'''\n",
        "\n",
        "patients = {'John': 98.6, 'Priya': 101.4, 'Ali': 99.0, 'Neha': 103.5}\n",
        "lst=[]\n",
        "for i in patients:\n",
        "  if patients[i] > 100:\n",
        "    lst.append(i)\n",
        "\n",
        "print(lst)"
      ],
      "metadata": {
        "colab": {
          "base_uri": "https://localhost:8080/"
        },
        "id": "mK6iqekIzAhl",
        "outputId": "113d71cf-ecde-46bf-d051-b84426198dcf"
      },
      "execution_count": null,
      "outputs": [
        {
          "output_type": "stream",
          "name": "stdout",
          "text": [
            "['Priya', 'Neha']\n"
          ]
        }
      ]
    },
    {
      "cell_type": "code",
      "source": [
        "'''Player Name Validator\n",
        "Input: player_names = ['Messi', 'Neymar', 'Mbappe', 'Suarez']\n",
        "Task: Print all names with length greater than 5.\n",
        "Expected Output: ['Neymar', 'Mbappe', 'Suarez']'''\n",
        "\n",
        "player_names = ['Messi', 'Neymar', 'Mbappe', 'Suarez']\n",
        "lst=[]\n",
        "for i in player_names:\n",
        "  if len(i) > 5:\n",
        "    lst.append(i)\n",
        "\n",
        "print(lst)\n"
      ],
      "metadata": {
        "colab": {
          "base_uri": "https://localhost:8080/"
        },
        "id": "BowvWkJdzAkI",
        "outputId": "7152bfc1-7076-421f-a254-6168aa5ef938"
      },
      "execution_count": null,
      "outputs": [
        {
          "output_type": "stream",
          "name": "stdout",
          "text": [
            "['Neymar', 'Mbappe', 'Suarez']\n"
          ]
        }
      ]
    },
    {
      "cell_type": "code",
      "source": [
        "'''Strike Rate Calculator\n",
        "Input: runs = 45, balls = 30\n",
        "Task: Calculate strike rate as (runs / balls) * 100 and round to 2 decimals.\n",
        "Expected Output: 150.0'''\n",
        "\n",
        "runs = 45\n",
        "balls = 30\n",
        "strike_rate = (runs / balls) * 100\n",
        "print(round(strike_rate, 2))"
      ],
      "metadata": {
        "colab": {
          "base_uri": "https://localhost:8080/"
        },
        "id": "tFORTsgMz6Uu",
        "outputId": "ff9ef1f0-6a8d-41ae-bd76-680a525a8cdb"
      },
      "execution_count": null,
      "outputs": [
        {
          "output_type": "stream",
          "name": "stdout",
          "text": [
            "150.0\n"
          ]
        }
      ]
    },
    {
      "cell_type": "code",
      "source": [
        "'''Even-Length Words\n",
        "Input: sentence = \"Science needs logic and curiosity\"\n",
        "Task: Print only the words with even number of letters.'''\n",
        "\n",
        "sentence = \"Magic need a wand and believer\".split()\n",
        "lst=[]\n",
        "for i in sentence:\n",
        "  if len(i)%2 == 0:\n",
        "    lst.append(i)\n",
        "\n",
        "print(lst)\n"
      ],
      "metadata": {
        "colab": {
          "base_uri": "https://localhost:8080/"
        },
        "id": "8YipK6Dp0Hh8",
        "outputId": "ced46218-0b76-4768-968f-61f4bb95490d"
      },
      "execution_count": null,
      "outputs": [
        {
          "output_type": "stream",
          "name": "stdout",
          "text": [
            "['need', 'wand', 'believer']\n"
          ]
        }
      ]
    },
    {
      "cell_type": "code",
      "source": [
        "'''Filter Stable Patients\n",
        "Input:\n",
        "patients = [\n",
        "{'name': 'Amit', 'bp': 120},\n",
        "{'name': 'Sara', 'bp': 140},\n",
        "{'name': 'Mike', 'bp': 130}\n",
        "]\n",
        "\n",
        "Task: Print patients with bp < 130.\n",
        "Expected Output: ['Amit']'''\n",
        "\n",
        "patients = [\n",
        "{'name': 'Amit', 'bp': 120},\n",
        "{'name': 'Sara', 'bp': 140},\n",
        "{'name': 'Mike', 'bp': 130}\n",
        "]\n",
        "\n",
        "for i in patients:\n",
        "  if i['bp']<130:\n",
        "    print(i['name'])"
      ],
      "metadata": {
        "colab": {
          "base_uri": "https://localhost:8080/"
        },
        "id": "xZIwUlVX0r1h",
        "outputId": "32dd92f5-964b-4cf4-ca8c-49d0a90c0b77"
      },
      "execution_count": null,
      "outputs": [
        {
          "output_type": "stream",
          "name": "stdout",
          "text": [
            "Amit\n"
          ]
        }
      ]
    },
    {
      "cell_type": "code",
      "source": [
        "'''Goal Difference Detector\n",
        "Input: match = {'TeamA': 2, 'TeamB': 2}\n",
        "Task: If it's a draw, print \"Extra Time\". Else print goal difference.\n",
        "Expected Output: \"Extra Time\"'''\n",
        "\n",
        "match = {'TeamA': 2, 'TeamB': 2}\n",
        "if match['TeamA']==match['TeamB']:\n",
        "  print('Extra Time')\n",
        "else:\n",
        "  print(abs(match['TeamA']-match['TeamB']))"
      ],
      "metadata": {
        "colab": {
          "base_uri": "https://localhost:8080/"
        },
        "id": "MBYfewUf1Wew",
        "outputId": "72749048-0f79-44da-d211-6ef5b8284a98"
      },
      "execution_count": null,
      "outputs": [
        {
          "output_type": "stream",
          "name": "stdout",
          "text": [
            "Extra Time\n"
          ]
        }
      ]
    },
    {
      "cell_type": "code",
      "source": [
        "'''Last Name Initials\n",
        "Input: players = ['Virat Kohli', 'MS Dhoni', 'Rohit Sharma']\n",
        "Task: Print initials of last names.\n",
        "Expected Output: ['K', 'D', 'S']'''\n",
        "\n",
        "\n",
        "players = ['Virat Kohli', 'MS Dhoni', 'Rohit Sharma']\n",
        "lst=[]\n",
        "for i in players:\n",
        "  index= i.find(' ')\n",
        "  lst.append(i[index+1])\n",
        "\n",
        "print(lst)"
      ],
      "metadata": {
        "colab": {
          "base_uri": "https://localhost:8080/"
        },
        "id": "IntTfArA1iUM",
        "outputId": "b308c7f5-213a-4b13-9260-307acf368a76"
      },
      "execution_count": null,
      "outputs": [
        {
          "output_type": "stream",
          "name": "stdout",
          "text": [
            "['K', 'D', 'S']\n"
          ]
        }
      ]
    },
    {
      "cell_type": "code",
      "source": [
        "'''Reverse All Words\n",
        "Input: \"experiment successful theory failed\"\n",
        "Task: Reverse each word but maintain order.\n",
        "Expected Output: \"tnemirepxe lufsseccus yroeht deliaf\"'''\n",
        "\n",
        "Input= \"experiment successful theory failed\".split()\n",
        "lst=[]\n",
        "for i in Input:\n",
        "  lst.append(i[::-1])\n",
        "print(' '.join(lst))"
      ],
      "metadata": {
        "colab": {
          "base_uri": "https://localhost:8080/"
        },
        "id": "ajxpN7fx1iW4",
        "outputId": "f679e632-82d2-4dbe-eaf8-54825ea63979"
      },
      "execution_count": null,
      "outputs": [
        {
          "output_type": "stream",
          "name": "stdout",
          "text": [
            "tnemirepxe lufsseccus yroeht deliaf\n"
          ]
        }
      ]
    },
    {
      "cell_type": "code",
      "source": [
        "'''Patients with Odd Age\n",
        "Input:\n",
        "patients = [\n",
        "{'name': 'John', 'age': 28},\n",
        "{'name': 'Anita', 'age': 35},\n",
        "{'name': 'Karan', 'age': 30}\n",
        "]\n",
        "\n",
        "Task: Print names of patients with odd ages.\n",
        "Expected Output: ['Anita']'''\n",
        "\n",
        "patients = [\n",
        "{'name': 'John', 'age': 28},\n",
        "{'name': 'Anita', 'age': 35},\n",
        "{'name': 'Karan', 'age': 30}\n",
        "]\n",
        "\n",
        "for i in patients:\n",
        "  if i['age']%2==1:\n",
        "    print(i['name'])"
      ],
      "metadata": {
        "colab": {
          "base_uri": "https://localhost:8080/"
        },
        "id": "kkD05u941iZk",
        "outputId": "a38ad8a6-5f62-4fec-b4d8-99f2b5097738"
      },
      "execution_count": null,
      "outputs": [
        {
          "output_type": "stream",
          "name": "stdout",
          "text": [
            "Anita\n"
          ]
        }
      ]
    },
    {
      "cell_type": "code",
      "source": [
        "'''Goals from Top 3 Players\n",
        "Input:\n",
        "goals = {'Ronaldo': 9,'Messi': 13,'Neymar': 7,'Mbappe': 11}\n",
        "\n",
        "Task: Print top 3 players by goals scored.\n",
        "Expected Output: ['Messi', 'Mbappe', 'Ronaldo']'''\n",
        "\n",
        "goals = {'Ronaldo': 9, 'Messi': 13, 'Neymar': 7, 'Mbappe': 11}\n",
        "lst=[]\n",
        "top1= 'Ronaldo'\n",
        "top2= 'Messi'\n",
        "top3= 'Neymar'\n",
        "for i in goals.keys():\n",
        "  if goals[i]>goals[top1]:\n",
        "    top3=top2\n",
        "    top2=top1\n",
        "    top1=i\n",
        "\n",
        "  elif goals[i]>goals[top2]:\n",
        "    top3=top2\n",
        "    top2=i\n",
        "\n",
        "  elif goals[i]>goals[top3]:\n",
        "    top3=i\n",
        "\n",
        "lst.extend([top1,top2,top3])\n",
        "print(lst)"
      ],
      "metadata": {
        "id": "FhBv6_OD1icc",
        "colab": {
          "base_uri": "https://localhost:8080/"
        },
        "outputId": "4da48041-3dbe-4d6a-d5cb-33a5c99b3ef1"
      },
      "execution_count": null,
      "outputs": [
        {
          "output_type": "stream",
          "name": "stdout",
          "text": [
            "['Messi', 'Mbappe', 'Ronaldo']\n"
          ]
        }
      ]
    },
    {
      "cell_type": "code",
      "source": [
        "'''Player Score Filter\n",
        "Input:\n",
        "\n",
        "scores = {\n",
        "'Gill': 52,\n",
        "'Kohli': 90,\n",
        "'Dhawan': 38,\n",
        "'Pant': 64\n",
        "}\n",
        "\n",
        "Task: Print player names who scored above 50.\n",
        "Expected Output: ['Gill', 'Kohli', 'Pant']'''\n",
        "scores = {\n",
        "'Gill': 52,\n",
        "'Kohli': 90,\n",
        "'Dhawan': 38,\n",
        "'Pant': 64\n",
        "}\n",
        "lst=[]\n",
        "for i in scores.keys():\n",
        "  if scores[i]>50:\n",
        "    lst.append(i)\n",
        "print(lst)"
      ],
      "metadata": {
        "id": "NNMzwZn_1ifK",
        "colab": {
          "base_uri": "https://localhost:8080/"
        },
        "outputId": "f6cb97c2-7d16-4c22-9a73-a7f3273d7676"
      },
      "execution_count": null,
      "outputs": [
        {
          "output_type": "stream",
          "name": "stdout",
          "text": [
            "['Gill', 'Kohli', 'Pant']\n"
          ]
        }
      ]
    },
    {
      "cell_type": "code",
      "source": [
        "'''🧪 Letters with Even ASCII\n",
        "Input: \"biology\"\n",
        "Task: Print characters from the string whose ASCII value is even.\n",
        "Expected Output: ['b', 'l','g']'''\n",
        "\n",
        "Input= \"biology\"\n",
        "lst=[]\n",
        "for i in Input:\n",
        "  if ord(i)%2 == 0:\n",
        "    lst.append(i)\n",
        "\n",
        "print(lst)\n"
      ],
      "metadata": {
        "id": "GfSg0gVn1ih7",
        "colab": {
          "base_uri": "https://localhost:8080/"
        },
        "outputId": "e6eae479-2f57-476a-8e86-e42c200aa6ec"
      },
      "execution_count": null,
      "outputs": [
        {
          "output_type": "stream",
          "name": "stdout",
          "text": [
            "['b', 'l']\n"
          ]
        }
      ]
    },
    {
      "cell_type": "code",
      "source": [
        "'''🏥 Patient BMI Checker\n",
        "Input:\n",
        "patients = [\n",
        "{'name': 'Ankit', 'height': 1.7, 'weight': 70},\n",
        "{'name': 'Neha', 'height': 1.6, 'weight': 55}\n",
        "]\n",
        "\n",
        "Task: Calculate BMI = weight / (height ** 2) and print name if BMI > 24.\n",
        "Expected Output: ['Ankit']'''\n",
        "patients = [\n",
        "{'name': 'Ankit', 'height': 1.7, 'weight': 70},\n",
        "{'name': 'Neha', 'height': 1.6, 'weight': 55}\n",
        "]\n",
        "for i in patients:\n",
        "  BMI = i['weight'] / (i['height'] ** 2)\n",
        "  if BMI>24:\n",
        "    print(i['name'])"
      ],
      "metadata": {
        "id": "3MnC6Fuy1ilB",
        "colab": {
          "base_uri": "https://localhost:8080/"
        },
        "outputId": "6b7221ce-8a45-4c64-b94c-f1e84bc8ccef"
      },
      "execution_count": null,
      "outputs": [
        {
          "output_type": "stream",
          "name": "stdout",
          "text": [
            "Ankit\n"
          ]
        }
      ]
    },
    {
      "cell_type": "code",
      "source": [
        "'''Players with Goals in Even Matches\n",
        "Input: goals = [0, 1, 2, 0, 3, 2] (each index = match number)\n",
        "Task: Print total goals scored in even-numbered matches (0-based indexing).\n",
        "Expected Output: 0 + 2 + 3 = 5'''\n",
        "\n",
        "goals = [0, 1, 2, 0, 3, 2]\n",
        "ans=0\n",
        "for i in range(len(goals)):\n",
        "  if i%2==0:\n",
        "    ans+=goals[i]\n",
        "print(ans)"
      ],
      "metadata": {
        "id": "LzI_iAAv1ioQ",
        "colab": {
          "base_uri": "https://localhost:8080/"
        },
        "outputId": "9491761a-18d1-4dba-f599-93bb6ee39baa"
      },
      "execution_count": null,
      "outputs": [
        {
          "output_type": "stream",
          "name": "stdout",
          "text": [
            "5\n"
          ]
        }
      ]
    },
    {
      "cell_type": "code",
      "source": [
        "'''Century Maker Filter\n",
        "\n",
        "Input: players = {'Rahul': 75, 'Kohli': 102, 'Rohit': 120}\n",
        "Task: Print players who scored 100 or more.\n",
        "Expected Output: ['Kohli', 'Rohit']'''\n",
        "\n",
        "players = {'Rahul': 75, 'Kohli': 102, 'Rohit': 120}\n",
        "for i in players.keys():\n",
        "  if players[i]>100:\n",
        "    print(i)"
      ],
      "metadata": {
        "id": "0mGbOt3B1iq3",
        "colab": {
          "base_uri": "https://localhost:8080/"
        },
        "outputId": "1f82302c-9813-45f7-a682-d0223eb723a1"
      },
      "execution_count": null,
      "outputs": [
        {
          "output_type": "stream",
          "name": "stdout",
          "text": [
            "Kohli\n",
            "Rohit\n"
          ]
        }
      ]
    },
    {
      "cell_type": "code",
      "source": [
        "'''Count Vowels in Sentence\n",
        "Input: \"Einstein had a creative mind\"\n",
        "Task: Count and print the total number of vowels.\n",
        "Expected Output: 11'''\n",
        "\n",
        "Input= \"Einstein had a creative mind\".lower()\n",
        "count=0\n",
        "for i in Input:\n",
        "  if i in 'aeiou':\n",
        "    count+=1\n",
        "print(count)"
      ],
      "metadata": {
        "id": "3LOq5xPI1itv",
        "colab": {
          "base_uri": "https://localhost:8080/"
        },
        "outputId": "5ce634c8-7ee1-49d7-eff4-815a4ff8bbb5"
      },
      "execution_count": null,
      "outputs": [
        {
          "output_type": "stream",
          "name": "stdout",
          "text": [
            "11\n"
          ]
        }
      ]
    },
    {
      "cell_type": "code",
      "source": [
        "'''Hospital Room Assignment\n",
        "Input: patients = ['Amit', 'Neha', 'John', 'Sara']\n",
        "Task: Assign rooms in format: Room-1: Amit, Room-2: Neha...\n",
        "Expected Output: ['Room-1: Amit', 'Room-2: Neha', 'Room-3: John', 'Room-4:\n",
        "Sara']'''\n",
        "\n",
        "patients = ['Amit', 'Neha', 'John', 'Sara']\n",
        "output=[]\n",
        "for i in range(len(patients)):\n",
        "  output.append(f'Room-{i+1}: {patients[i]}')\n",
        "\n",
        "print(output)"
      ],
      "metadata": {
        "id": "Q8aKgqDs1ixM",
        "colab": {
          "base_uri": "https://localhost:8080/"
        },
        "outputId": "90ea196a-016b-4266-d001-84361e53a590"
      },
      "execution_count": null,
      "outputs": [
        {
          "output_type": "stream",
          "name": "stdout",
          "text": [
            "['Room-1: Amit', 'Room-2: Neha', 'Room-3: John', 'Room-4: Sara']\n"
          ]
        }
      ]
    },
    {
      "cell_type": "code",
      "source": [
        "'''Sort Players by Name Length\n",
        "Input: ['Messi', 'Cristiano', 'Pele', 'Maradona']\n",
        "Task: Sort and print names in increasing order of their length.\n",
        "Expected Output: ['Pele', 'Messi', 'Maradona', 'Cristiano']'''\n",
        "\n",
        "Input= ['Messi', 'Cristiano', 'Pele', 'Maradona']\n",
        "output=sorted_players = sorted(Input, key=len)\n",
        "\n",
        "print(output)"
      ],
      "metadata": {
        "colab": {
          "base_uri": "https://localhost:8080/"
        },
        "id": "jUvBKVlkqHep",
        "outputId": "04a0a5a1-3f28-4ca1-fd3e-a7b10175f154"
      },
      "execution_count": null,
      "outputs": [
        {
          "output_type": "stream",
          "name": "stdout",
          "text": [
            "['Pele', 'Messi', 'Maradona', 'Cristiano']\n"
          ]
        }
      ]
    },
    {
      "cell_type": "code",
      "source": [
        "'''🏏 Find Duplicates in Team List\n",
        "Input: ['Kohli', 'Dhoni', 'Rohit', 'Kohli', 'Pant']\n",
        "Task: Identify and print duplicate names.\n",
        "Expected Output: ['Kohli']'''\n",
        "\n",
        "Input= ['Kohli', 'Dhoni', 'Rohit', 'Kohli', 'Pant']\n",
        "temp_s=set(Input)\n",
        "for i in temp_s:\n",
        "  if Input.count(i)>1:\n",
        "    print(i)"
      ],
      "metadata": {
        "colab": {
          "base_uri": "https://localhost:8080/"
        },
        "id": "IN1QEytLqORP",
        "outputId": "ff18a382-48b4-455d-9ee1-911abd1970fc"
      },
      "execution_count": null,
      "outputs": [
        {
          "output_type": "stream",
          "name": "stdout",
          "text": [
            "Kohli\n"
          ]
        }
      ]
    },
    {
      "cell_type": "code",
      "source": [
        "'''Word Count Dictionary\n",
        "Input: \"gravity is force and force is mass times acceleration\"\n",
        "Task: Count frequency of each word.\n",
        "Expected Output:\n",
        "{'gravity': 1, 'is': 2, 'force': 2, 'and': 1, 'mass': 1, 'times': 1, 'acceleration': 1}'''\n",
        "\n",
        "Input= \"gravity is force and force is mass times acceleration\".split()\n",
        "output=dict()\n",
        "for i in Input:\n",
        "  output[i]= Input.count(i)\n",
        "\n",
        "output"
      ],
      "metadata": {
        "colab": {
          "base_uri": "https://localhost:8080/"
        },
        "id": "ok9ollnJrOyl",
        "outputId": "03d94a2b-a466-47f6-9c4c-ea42a8511c65"
      },
      "execution_count": null,
      "outputs": [
        {
          "output_type": "execute_result",
          "data": {
            "text/plain": [
              "{'gravity': 1,\n",
              " 'is': 2,\n",
              " 'force': 2,\n",
              " 'and': 1,\n",
              " 'mass': 1,\n",
              " 'times': 1,\n",
              " 'acceleration': 1}"
            ]
          },
          "metadata": {},
          "execution_count": 36
        }
      ]
    },
    {
      "cell_type": "code",
      "source": [
        "'''🏥 Risk Category Based on Age\n",
        "Input: patients = [25, 60, 45, 72, 15]\n",
        "Task: Print \"High\" for age ≥ 60, \"Medium\" for 40–59, \"Low\" otherwise.\n",
        "Expected Output: ['Low', 'High', 'Medium', 'High', 'Low']'''\n",
        "\n",
        "patients = [25, 60, 45, 72, 15]\n",
        "Output=[]\n",
        "for i in patients:\n",
        "  if i>=60:\n",
        "    Output.append('High')\n",
        "  elif i<=59 and i>=40:\n",
        "    Output.append('Medium')\n",
        "  else:\n",
        "    Output.append('Low')\n",
        "\n",
        "print(Output)"
      ],
      "metadata": {
        "colab": {
          "base_uri": "https://localhost:8080/"
        },
        "id": "RK1RsQPBru9T",
        "outputId": "bf14c608-deac-4b35-c423-17199d496cd5"
      },
      "execution_count": null,
      "outputs": [
        {
          "output_type": "stream",
          "name": "stdout",
          "text": [
            "['Low', 'High', 'Medium', 'High', 'Low']\n"
          ]
        }
      ]
    },
    {
      "cell_type": "code",
      "source": [
        "'''Total Goals Per Match Day\n",
        "Input:\n",
        "matches = [\n",
        "{'day': 'Mon', 'goals': [1, 2]},\n",
        "{'day': 'Tue', 'goals': [0, 3]},\n",
        "{'day': 'Wed', 'goals': [2, 2]}\n",
        "]\n",
        "\n",
        "Task: Calculate and print total goals for each day.\n",
        "Expected Output:\n",
        "{'Mon': 3, 'Tue': 3, 'Wed': 4}'''\n",
        "\n",
        "matches = [\n",
        "{'day': 'Mon', 'goals': [1, 2]},\n",
        "{'day': 'Tue', 'goals': [0, 3]},\n",
        "{'day': 'Wed', 'goals': [2, 2]}\n",
        "]\n",
        "output=dict()\n",
        "\n",
        "for i in matches:\n",
        "  key= i['day']\n",
        "  value= sum(i['goals'])\n",
        "  output[key]=value\n",
        "\n",
        "output"
      ],
      "metadata": {
        "colab": {
          "base_uri": "https://localhost:8080/"
        },
        "id": "05BdJ-E-sfCP",
        "outputId": "1d3c4454-bd7d-4ee3-f681-195195187aed"
      },
      "execution_count": null,
      "outputs": [
        {
          "output_type": "execute_result",
          "data": {
            "text/plain": [
              "{'Mon': 3, 'Tue': 3, 'Wed': 4}"
            ]
          },
          "metadata": {},
          "execution_count": 39
        }
      ]
    },
    {
      "cell_type": "code",
      "source": [],
      "metadata": {
        "id": "YkKHcmgDs--4"
      },
      "execution_count": null,
      "outputs": []
    }
  ]
}