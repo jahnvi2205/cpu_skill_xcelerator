{
  "nbformat": 4,
  "nbformat_minor": 0,
  "metadata": {
    "colab": {
      "provenance": []
    },
    "kernelspec": {
      "name": "python3",
      "display_name": "Python 3"
    },
    "language_info": {
      "name": "python"
    }
  },
  "cells": [
    {
      "cell_type": "code",
      "execution_count": null,
      "metadata": {
        "colab": {
          "base_uri": "https://localhost:8080/"
        },
        "id": "YoPpfePSVS0M",
        "outputId": "3db74087-a1cf-43fc-f217-84edf8d7c4df"
      },
      "outputs": [
        {
          "output_type": "stream",
          "name": "stdout",
          "text": [
            "{'Kohli': 80.5, 'Rohit': 58.25, 'Gill': 86.75}\n"
          ]
        }
      ],
      "source": [
        "'''1. 🏏 Cricket Player Performance Summary\n",
        "Input:\n",
        "players = [\n",
        "{\"name\": \"Kohli\", \"scores\": [54, 76, 102, 90]},\n",
        "{\"name\": \"Rohit\", \"scores\": [45, 88, 60, 40]},\n",
        "{\"name\": \"Gill\", \"scores\": [70, 80, 77, 120]}\n",
        "]\n",
        "\n",
        "Task: Create a new dictionary where keys are player names and values are their average scores.\n",
        "Expected Output:\n",
        "{'Kohli': 80.5, 'Rohit': 58.25, 'Gill': 86.75}'''\n",
        "\n",
        "\n",
        "players = [\n",
        "{\"name\": \"Kohli\", \"scores\": [54, 76, 102, 90]},\n",
        "{\"name\": \"Rohit\", \"scores\": [45, 88, 60, 40]},\n",
        "{\"name\": \"Gill\", \"scores\": [70, 80, 77, 120]}\n",
        "]\n",
        "Output=dict()\n",
        "for i in players:\n",
        "  name=i['name']\n",
        "  avg_score= sum(i['scores'])/len(i['scores'])\n",
        "  Output[name]=avg_score\n",
        "\n",
        "print(Output)"
      ]
    },
    {
      "cell_type": "code",
      "source": [
        "'''2. ⚽ Longest Football Team Name (With Vowels Count)\n",
        "Input:\n",
        "teams = [\"Barcelona\", \"Juventus\", \"ParisSaintGermain\", \"Chelsea\"]\n",
        "\n",
        "Task: Print the team with the longest name and the number of vowels in it.\n",
        "Expected Output:\n",
        "Team: ParisSaintGermain, Vowels: 7'''\n",
        "teams = [\"Barcelona\", \"Juventus\", \"ParisSaintGermain\", \"Chelsea\"]\n",
        "req= max(teams)\n",
        "count=0\n",
        "for i in req:\n",
        "  if i in 'aeiou':\n",
        "    count+=1\n",
        "\n",
        "print(f'Teams: {req}, Vowels: {count}')"
      ],
      "metadata": {
        "colab": {
          "base_uri": "https://localhost:8080/"
        },
        "id": "LS-q4yfkVjLs",
        "outputId": "bc13de13-c0c9-4f26-e8d5-bfa2bf810ebe"
      },
      "execution_count": null,
      "outputs": [
        {
          "output_type": "stream",
          "name": "stdout",
          "text": [
            "Teams: ParisSaintGermain, Vowels: 7\n"
          ]
        }
      ]
    },
    {
      "cell_type": "code",
      "source": [
        "'''3. 🧪 Extract Most Frequent Character (Excluding Digits)\n",
        "Input:\n",
        "data = \"covid19spread2023\"\n",
        "\n",
        "Task: Count and return the most frequent letter (a–z only).\n",
        "Expected Output:\n",
        "\n",
        "Most Frequent Character: d'''\n",
        "data = \"covid19spread2023\"\n",
        "req=''\n",
        "for i in data:\n",
        "  if i.isalpha():\n",
        "    req+=i\n",
        "\n",
        "from collections import Counter\n",
        "c=Counter(req)\n",
        "print(c.most_common(1)[0][0])"
      ],
      "metadata": {
        "colab": {
          "base_uri": "https://localhost:8080/"
        },
        "id": "tu6TQTnAW1-d",
        "outputId": "a2e19967-2155-496e-f197-677c02a37a5a"
      },
      "execution_count": 33,
      "outputs": [
        {
          "output_type": "stream",
          "name": "stdout",
          "text": [
            "d\n"
          ]
        }
      ]
    },
    {
      "cell_type": "code",
      "source": [
        "'''4. 🏥 Filter Critical Patients from Records\n",
        "Input:\n",
        "patients = [\n",
        "{\"name\": \"Alice\", \"bp\": 140, \"sugar\": 200},\n",
        "{\"name\": \"Bob\", \"bp\": 120, \"sugar\": 150},\n",
        "{\"name\": \"Cara\", \"bp\": 160, \"sugar\": 220}\n",
        "]\n",
        "\n",
        "Condition: BP > 130 and Sugar > 180 is critical.\n",
        "Expected Output:\n",
        "['Alice', 'Cara']'''\n",
        "\n",
        "patients = [\n",
        "{\"name\": \"Alice\", \"bp\": 140, \"sugar\": 200},\n",
        "{\"name\": \"Bob\", \"bp\": 120, \"sugar\": 150},\n",
        "{\"name\": \"Cara\", \"bp\": 160, \"sugar\": 220}\n",
        "]\n",
        "output=[]\n",
        "for i in patients:\n",
        "  if i['bp']>130 and i['sugar']>180:\n",
        "    output.append(i['name'])\n",
        "\n",
        "print(output)"
      ],
      "metadata": {
        "id": "Go_kotvJXMh-",
        "colab": {
          "base_uri": "https://localhost:8080/"
        },
        "outputId": "1d5e8aa2-f2b5-4345-862e-88161f91b70c"
      },
      "execution_count": 34,
      "outputs": [
        {
          "output_type": "stream",
          "name": "stdout",
          "text": [
            "['Alice', 'Cara']\n"
          ]
        }
      ]
    },
    {
      "cell_type": "code",
      "source": [
        "'''5. ⚽ Footballer Goal Sorting Using Binary Search\n",
        "Input:\n",
        "goals = [2, 5, 8, 10, 13, 18, 20]\n",
        "search_goal = 10\n",
        "\n",
        "Task: Use binary search to find the index of the goal scored.\n",
        "Expected Output:\n",
        "Goal found at index: 3'''\n",
        "\n",
        "goals = [2, 5, 8, 10, 13, 18, 20]\n",
        "search_goal = 10\n",
        "s=0\n",
        "e= len(goals)-1\n",
        "while(s<=e):\n",
        "  mid=s+(e-s)//2\n",
        "  if goals[mid]== search_goal or s==e:\n",
        "    print('goals found at:',mid)\n",
        "    break\n",
        "  elif search_goal > goals[mid]:\n",
        "    s=mid+1\n",
        "  else:\n",
        "    e=mid-1"
      ],
      "metadata": {
        "colab": {
          "base_uri": "https://localhost:8080/"
        },
        "id": "bw0lwjT4ZWr-",
        "outputId": "f3380b7e-c7ee-4ba9-86f4-d15280a9542d"
      },
      "execution_count": 60,
      "outputs": [
        {
          "output_type": "stream",
          "name": "stdout",
          "text": [
            "goals found at: 3\n"
          ]
        }
      ]
    },
    {
      "cell_type": "code",
      "source": [
        "'''6. 🧪 Find Scientific Words with Max Unique Letters\n",
        "Input:\n",
        "words = [\"photosynthesis\", \"respiration\", \"chlorophyll\", \"transpiration\"]\n",
        "\n",
        "Task: Return the word with the highest number of unique letters.\n",
        "Expected Output:\n",
        "'photosynthesis' with 11 unique characters'''\n",
        "\n",
        "words = [\"photosynthesis\", \"respiration\", \"chlorophyll\", \"transpiration\"]\n",
        "result=''\n",
        "for i in words:\n",
        "  if len(set(i))>len(result):\n",
        "    result=i\n",
        "\n",
        "print(f\"'{result} with {len(set(result))} unique characters'\")"
      ],
      "metadata": {
        "colab": {
          "base_uri": "https://localhost:8080/"
        },
        "id": "5nLGcttaZfS5",
        "outputId": "f4ca4bba-8930-4abc-f405-55877444925e"
      },
      "execution_count": 38,
      "outputs": [
        {
          "output_type": "stream",
          "name": "stdout",
          "text": [
            "'photosynthesis with 9 unique characters'\n"
          ]
        }
      ]
    },
    {
      "cell_type": "code",
      "source": [
        "print(set('photosynthesis'))"
      ],
      "metadata": {
        "colab": {
          "base_uri": "https://localhost:8080/"
        },
        "id": "T-nzwn_zatQe",
        "outputId": "0d9a9104-2f4a-4d36-a94a-51cf820cb9ef"
      },
      "execution_count": 39,
      "outputs": [
        {
          "output_type": "stream",
          "name": "stdout",
          "text": [
            "{'s', 'o', 'p', 'n', 'e', 'y', 't', 'i', 'h'}\n"
          ]
        }
      ]
    },
    {
      "cell_type": "code",
      "source": [
        "'''7. 🏏 Find Cricketers with Consistent Form (Avg > 60)\n",
        "Input:\n",
        "data = {\n",
        "\"Dhoni\": [50, 60, 55],\n",
        "\"Kohli\": [100, 90, 80],\n",
        "\"Hardik\": [30, 40, 50]\n",
        "}\n",
        "\n",
        "Output:\n",
        "['Kohli']'''\n",
        "data = {\n",
        "\"Dhoni\": [50, 60, 55],\n",
        "\"Kohli\": [100, 90, 80],\n",
        "\"Hardik\": [30, 40, 50]\n",
        "}\n",
        "\n",
        "for i in data:\n",
        "  avg=sum(data[i])/len(data[i])\n",
        "  if avg>60:\n",
        "    print(i)"
      ],
      "metadata": {
        "colab": {
          "base_uri": "https://localhost:8080/"
        },
        "id": "kAFo8Kf9ay5D",
        "outputId": "6f793ccf-cc02-4078-c459-c2ed238f689c"
      },
      "execution_count": 42,
      "outputs": [
        {
          "output_type": "stream",
          "name": "stdout",
          "text": [
            "Kohli\n"
          ]
        }
      ]
    },
    {
      "cell_type": "code",
      "source": [
        "'''8. ⚽ Create Inverted Team Dictionary\n",
        "Input:\n",
        "players = {\n",
        "\"Messi\": \"PSG\",\n",
        "\"Ronaldo\": \"Al-Nassr\",\n",
        "\"Mbappe\": \"PSG\"\n",
        "}\n",
        "\n",
        "Task: Reverse the dictionary to group players by team.\n",
        "Expected Output:\n",
        "{\n",
        "\"PSG\": [\"Messi\", \"Mbappe\"],\n",
        "\"Al-Nassr\": [\"Ronaldo\"]\n",
        "}'''\n",
        "\n",
        "players = {\n",
        "\"Messi\": \"PSG\",\n",
        "\"Ronaldo\": \"Al-Nassr\",\n",
        "\"Mbappe\": \"PSG\"\n",
        "}\n",
        "output=dict()\n",
        "for i in players:\n",
        "  key=players[i]\n",
        "  if key not in output:\n",
        "    output[key]=[i]\n",
        "  else:\n",
        "    output[key].append(i)\n",
        "\n",
        "print(output)"
      ],
      "metadata": {
        "colab": {
          "base_uri": "https://localhost:8080/"
        },
        "id": "MEWd7nTbbJqy",
        "outputId": "8e109e7c-f66c-4d66-9e0e-4201dabb96bc"
      },
      "execution_count": 44,
      "outputs": [
        {
          "output_type": "stream",
          "name": "stdout",
          "text": [
            "{'PSG': ['Messi', 'Mbappe'], 'Al-Nassr': ['Ronaldo']}\n"
          ]
        }
      ]
    },
    {
      "cell_type": "code",
      "source": [
        "'''9. 🏥 Find Most Common Disease\n",
        "Input:\n",
        "diagnoses = [\"Diabetes\", \"Flu\", \"Covid\", \"Flu\", \"Covid\", \"Flu\"]\n",
        "\n",
        "Output:\n",
        "Most common disease: Flu'''\n",
        "\n",
        "diagnoses = [\"Diabetes\", \"Flu\", \"Covid\", \"Flu\", \"Covid\", \"Flu\"]\n",
        "from collections import Counter\n",
        "c=Counter(diagnoses)\n",
        "print(c.most_common(1)[0][0])"
      ],
      "metadata": {
        "colab": {
          "base_uri": "https://localhost:8080/"
        },
        "id": "isUuGxe-buFu",
        "outputId": "fc0aadf9-b0ea-4478-8c5d-9f1e8eb1cf31"
      },
      "execution_count": 49,
      "outputs": [
        {
          "output_type": "stream",
          "name": "stdout",
          "text": [
            "Flu\n"
          ]
        }
      ]
    },
    {
      "cell_type": "code",
      "source": [
        "'''10. 🧪 Find Longest Word with All Vowels\n",
        "Input:\n",
        "words = [\"sequoia\", \"education\", \"automobile\", \"abstemious\"]\n",
        "\n",
        "Output:\n",
        "Longest word with all vowels: abstemious'''\n",
        "\n",
        "words = [\"sequoia\", \"education\", \"automobile\", \"abstemious\"]\n",
        "result=''\n",
        "for i in words:\n",
        "  if 'a' in i and 'e' in i and 'o' in i and 'u' in i and 'i' in i:\n",
        "    if len(result)<=len(i):\n",
        "      result=i\n",
        "\n",
        "print(i)"
      ],
      "metadata": {
        "colab": {
          "base_uri": "https://localhost:8080/"
        },
        "id": "-KmS_P8QczPz",
        "outputId": "4a39d25d-8c6a-4348-f055-16e734d7ff56"
      },
      "execution_count": 50,
      "outputs": [
        {
          "output_type": "stream",
          "name": "stdout",
          "text": [
            "abstemious\n"
          ]
        }
      ]
    },
    {
      "cell_type": "code",
      "source": [
        "'''11. ⚽ Binary Search for Player Jersey Number\n",
        "Input:\n",
        "jerseys = [7, 10, 11, 14, 23, 30, 33]\n",
        "search = 23\n",
        "\n",
        "Task: Use binary search to check if the jersey exists.\n",
        "Output:\n",
        "Found at index: 4'''\n",
        "\n",
        "jerseys = [7, 10, 11, 14, 23, 30, 33]\n",
        "search = 23\n",
        "s=0\n",
        "e= len(jerseys)-1\n",
        "while(s<=e):\n",
        "  mid=s+(e-s)//2\n",
        "  if jerseys[mid]== search:\n",
        "    print('found at:',mid)\n",
        "    break\n",
        "  elif search > jerseys[mid]:\n",
        "    s=mid+1\n",
        "  else:\n",
        "    e=mid-1"
      ],
      "metadata": {
        "colab": {
          "base_uri": "https://localhost:8080/"
        },
        "id": "-Qpbx9HGdweV",
        "outputId": "169d6ad1-3374-44af-c20a-e2985d996ec1"
      },
      "execution_count": 61,
      "outputs": [
        {
          "output_type": "stream",
          "name": "stdout",
          "text": [
            "found at: 4\n"
          ]
        }
      ]
    },
    {
      "cell_type": "code",
      "source": [
        "'''12. 🏏 Get Top 2 Cricketers by Total Runs\n",
        "Input:\n",
        "stats = {\n",
        "\"Kohli\": [60, 70, 100],\n",
        "\"Gill\": [80, 90, 85],\n",
        "\"Rohit\": [30, 40, 50]\n",
        "}\n",
        "\n",
        "Output:\n",
        "Top 2: ['Gill', 'Kohli']'''\n",
        "\n",
        "stats = {\n",
        "\"Kohli\": [60, 70, 100],\n",
        "\"Gill\": [80, 90, 85],\n",
        "\"Rohit\": [30, 40, 50]\n",
        "}\n",
        "top1= 'Kohli'\n",
        "top2= 'Gill'\n",
        "for i in stats:\n",
        "  total= sum(stats[i])\n",
        "  if total> sum(stats[top1]):\n",
        "    top2=top1\n",
        "    top1=i\n",
        "  elif total> sum(stats[top2]):\n",
        "    top2=i\n",
        "\n",
        "print(top1,top2)"
      ],
      "metadata": {
        "colab": {
          "base_uri": "https://localhost:8080/"
        },
        "id": "cBPK60b1egUh",
        "outputId": "298d5d74-3117-46a9-9ced-40bc52eeeede"
      },
      "execution_count": 66,
      "outputs": [
        {
          "output_type": "stream",
          "name": "stdout",
          "text": [
            "Gill Kohli\n"
          ]
        }
      ]
    },
    {
      "cell_type": "code",
      "source": [
        "'''13. 🧪 Replace Special Terms with Definitions\n",
        "Input:\n",
        "text = \"Photosynthesis happens in chlorophyll using sunlight\"\n",
        "definitions = {\n",
        "\"Photosynthesis\": \"a process in plants\",\n",
        "\"chlorophyll\": \"a green pigment\"\n",
        "}\n",
        "\n",
        "Output:\n",
        "\"a process in plants happens in a green pigment using sunlight\"'''\n",
        "\n",
        "text = \"Photosynthesis happens in chlorophyll using sunlight\".split()\n",
        "definitions = {\n",
        "\"Photosynthesis\": \"a process in plants\",\n",
        "\"chlorophyll\": \"a green pigment\"\n",
        "}\n",
        "output=''\n",
        "for i in text:\n",
        "  if i in definitions.keys():\n",
        "    output+=' '\n",
        "    output+=definitions[i]\n",
        "  else:\n",
        "    output+=' '\n",
        "    output+=i\n",
        "\n",
        "print(output)"
      ],
      "metadata": {
        "colab": {
          "base_uri": "https://localhost:8080/"
        },
        "id": "BHJcAh1bfjAm",
        "outputId": "d16cbc14-18d3-4b99-8561-f444ac3eef27"
      },
      "execution_count": 69,
      "outputs": [
        {
          "output_type": "stream",
          "name": "stdout",
          "text": [
            " a process in plants happens in a green pigment using sunlight\n"
          ]
        }
      ]
    },
    {
      "cell_type": "code",
      "source": [
        "'''14. 🏥 Sort Patients by Name Length\n",
        "Input:\n",
        "names = [\"Ankit\", \"Beatrice\", \"Sam\", \"Jonathan\"]\n",
        "\n",
        "Output:\n",
        "['Sam', 'Ankit', 'Beatrice', 'Jonathan']'''\n",
        "\n",
        "names = [\"Ankit\", \"Beatrice\", \"Sam\", \"Jonathan\"]\n",
        "sorted_result=sorted(names, key=len)\n",
        "sorted_result"
      ],
      "metadata": {
        "colab": {
          "base_uri": "https://localhost:8080/"
        },
        "id": "D8eFrxpPgr9F",
        "outputId": "fc8a5c98-d536-47b0-fd83-b18cf7b6bab1"
      },
      "execution_count": 73,
      "outputs": [
        {
          "output_type": "execute_result",
          "data": {
            "text/plain": [
              "['Sam', 'Ankit', 'Beatrice', 'Jonathan']"
            ]
          },
          "metadata": {},
          "execution_count": 73
        }
      ]
    },
    {
      "cell_type": "code",
      "source": [
        "'''15. ⚽ Check for Anagram Players\n",
        "Input:\n",
        "player1 = \"listen\"\n",
        "player2 = \"silent\"\n",
        "\n",
        "Output:\n",
        "Yes, they are anagrams.'''\n",
        "\n",
        "player1 = \"listen\"\n",
        "player2 = \"silent\"\n",
        "if set(player1)==set(player2):\n",
        "  print('yes')\n",
        "else:print('no')"
      ],
      "metadata": {
        "colab": {
          "base_uri": "https://localhost:8080/"
        },
        "id": "2QX-fc0chLCl",
        "outputId": "11fef48c-7a48-4e0b-b167-fa58b6de7484"
      },
      "execution_count": 75,
      "outputs": [
        {
          "output_type": "stream",
          "name": "stdout",
          "text": [
            "yes\n"
          ]
        }
      ]
    },
    {
      "cell_type": "code",
      "source": [
        "'''16. 🧪 Remove Duplicates from String List and Sort\n",
        "\n",
        "Input:\n",
        "words = [\"atom\", \"molecule\", \"atom\", \"compound\", \"molecule\"]\n",
        "\n",
        "Output:\n",
        "['atom', 'compound', 'molecule']'''\n",
        "\n",
        "words = [\"atom\", \"molecule\", \"atom\", \"compound\", \"molecule\"]\n",
        "result=sorted(list(set(words)))\n",
        "print(result)"
      ],
      "metadata": {
        "colab": {
          "base_uri": "https://localhost:8080/"
        },
        "id": "czh9gKJthmWm",
        "outputId": "8ef8234b-2a65-4ff0-c054-f7527bd8d75c"
      },
      "execution_count": 76,
      "outputs": [
        {
          "output_type": "stream",
          "name": "stdout",
          "text": [
            "['atom', 'compound', 'molecule']\n"
          ]
        }
      ]
    },
    {
      "cell_type": "code",
      "source": [
        "'''17. 🏏 Merge Two Player Stat Dictionaries\n",
        "Input:\n",
        "a = {\"Kohli\": 70, \"Gill\": 80}\n",
        "b = {\"Rohit\": 60, \"Gill\": 85}\n",
        "\n",
        "Output:\n",
        "{'Kohli': 70, 'Gill': 85, 'Rohit': 60}'''\n",
        "\n",
        "a = {\"Kohli\": 70, \"Gill\": 80}\n",
        "b = {\"Rohit\": 60, \"Gill\": 85}\n",
        "merged = a.copy()\n",
        "merged.update(b)\n",
        "print(merged)"
      ],
      "metadata": {
        "colab": {
          "base_uri": "https://localhost:8080/"
        },
        "id": "EHX6KcPQiE6l",
        "outputId": "51ab99bb-e002-47f9-d88c-ce8219fa1773"
      },
      "execution_count": 82,
      "outputs": [
        {
          "output_type": "stream",
          "name": "stdout",
          "text": [
            "{'Kohli': 70, 'Gill': 85, 'Rohit': 60}\n"
          ]
        }
      ]
    },
    {
      "cell_type": "code",
      "source": [
        "'''18. 🧪 Sort by Length then Alphabetically\n",
        "Input:\n",
        "terms = [\"cell\", \"organism\", \"dna\", \"gene\"]\n",
        "\n",
        "Output:\n",
        "['dna', 'cell', 'gene', 'organism']'''\n",
        "\n",
        "terms = [\"cell\", \"organism\", \"dna\", \"gene\"]\n",
        "terms= sorted(terms,key=lambda x:(len(x),x))\n",
        "print(terms)"
      ],
      "metadata": {
        "colab": {
          "base_uri": "https://localhost:8080/"
        },
        "id": "4VP9-6-CidoB",
        "outputId": "001adf83-775a-406d-c878-0888c2b209b5"
      },
      "execution_count": 85,
      "outputs": [
        {
          "output_type": "stream",
          "name": "stdout",
          "text": [
            "['dna', 'cell', 'gene', 'organism']\n"
          ]
        }
      ]
    },
    {
      "cell_type": "code",
      "source": [
        "'''19. ⚽ Create Team Groups with Player Count\n",
        "Input:\n",
        "players = {\n",
        "\"Messi\": \"PSG\",\n",
        "\"Ronaldo\": \"Al-Nassr\",\n",
        "\"Mbappe\": \"PSG\",\n",
        "\"Neymar\": \"PSG\"\n",
        "}\n",
        "Output:\n",
        "{'PSG': 3, 'Al-Nassr': 1}'''\n",
        "\n",
        "players = {\n",
        "\"Messi\": \"PSG\",\n",
        "\"Ronaldo\": \"Al-Nassr\",\n",
        "\"Mbappe\": \"PSG\",\n",
        "\"Neymar\": \"PSG\"\n",
        "}\n",
        "output=dict()\n",
        "for i in players.values():\n",
        "  output[i]=0\n",
        "  for k in players:\n",
        "    if players[k]==i:\n",
        "      output[i]+=1\n",
        "\n",
        "print(output)\n"
      ],
      "metadata": {
        "colab": {
          "base_uri": "https://localhost:8080/"
        },
        "id": "eAUAQkSqjTE-",
        "outputId": "d6c54eb2-b77d-4ab5-ee9a-8a9563663d66"
      },
      "execution_count": 86,
      "outputs": [
        {
          "output_type": "stream",
          "name": "stdout",
          "text": [
            "{'PSG': 3, 'Al-Nassr': 1}\n"
          ]
        }
      ]
    },
    {
      "cell_type": "code",
      "source": [
        "'''20. Count Letter Frequency in All Patient Names\n",
        "Input:\n",
        "names = [\"Alice\", \"Bob\", \"Cara\"]\n",
        "\n",
        "Output:\n",
        "{'A': 2, 'l': 1, 'i': 1, 'c': 2, 'e': 1, 'B': 1, 'o': 1, 'r': 1}'''\n",
        "\n",
        "from collections import Counter\n",
        "names = \"\".join([\"Alice\", \"Bob\", \"Cara\"])\n",
        "print(dict(Counter(names)))"
      ],
      "metadata": {
        "colab": {
          "base_uri": "https://localhost:8080/"
        },
        "id": "cMS_WHcdkE9m",
        "outputId": "d8af781e-8dc9-4791-be5a-ed3b37d42979"
      },
      "execution_count": 87,
      "outputs": [
        {
          "output_type": "stream",
          "name": "stdout",
          "text": [
            "{'A': 1, 'l': 1, 'i': 1, 'c': 1, 'e': 1, 'B': 1, 'o': 1, 'b': 1, 'C': 1, 'a': 2, 'r': 1}\n"
          ]
        }
      ]
    },
    {
      "cell_type": "code",
      "source": [
        "'''21. 🧪 Case-Sensitive Substring Count\n",
        "Input:\n",
        "text = \"DNA is not dna. DNA encodes genes.\"\n",
        "substring = \"DNA\"\n",
        "\n",
        "Output:\n",
        "Count: 2'''\n",
        "\n",
        "text = \"DNA is not dna. DNA encodes genes.\".split()\n",
        "substring = \"DNA\"\n",
        "count=0\n",
        "for i in text:\n",
        "  if i==substring:\n",
        "    count+=1\n",
        "\n",
        "print(count)"
      ],
      "metadata": {
        "colab": {
          "base_uri": "https://localhost:8080/"
        },
        "id": "Q21cyWBzkYka",
        "outputId": "cba157b6-fbd5-4098-db7a-3dbd5bedc828"
      },
      "execution_count": 88,
      "outputs": [
        {
          "output_type": "stream",
          "name": "stdout",
          "text": [
            "2\n"
          ]
        }
      ]
    },
    {
      "cell_type": "code",
      "source": [
        "'''22. ⚽ Binary Search to Find Closest Goal Number\n",
        "Input:\n",
        "goals = [3, 6, 9, 14, 18]\n",
        "search = 13\n",
        "\n",
        "Output:\n",
        "Closest goal: 14'''\n",
        "\n",
        "goals = [3, 6, 9, 14, 18]\n",
        "search = 13\n",
        "diff=100\n",
        "ans=0\n",
        "s=0\n",
        "e=len(goals)-1\n",
        "while(s<=e):\n",
        "  mid=s+(e-s)//2\n",
        "  if search==goals[mid]:\n",
        "    print('goal found:',search)\n",
        "    break\n",
        "  else:\n",
        "    if abs(goals[mid]-search)<diff:\n",
        "      diff=abs(goals[mid]-search)\n",
        "      ans=goals[mid]\n",
        "\n",
        "    if search>goals[mid]:\n",
        "      s=mid+1\n",
        "    else:\n",
        "      e=mid-1\n",
        "\n",
        "print('closest goals:',ans)"
      ],
      "metadata": {
        "colab": {
          "base_uri": "https://localhost:8080/"
        },
        "id": "P3Xo26YyknX9",
        "outputId": "3efaf19f-4013-4bb7-fd66-47fbdb7d9c86"
      },
      "execution_count": 99,
      "outputs": [
        {
          "output_type": "stream",
          "name": "stdout",
          "text": [
            "closest goals: 14\n"
          ]
        }
      ]
    },
    {
      "cell_type": "code",
      "source": [
        "'''23. 🏏 List Cricketers Who Improved Over Matches\n",
        "\n",
        "Input:\n",
        "data = {\n",
        "\"Kohli\": [30, 60, 90],\n",
        "\"Gill\": [100, 80, 60]\n",
        "}\n",
        "\n",
        "Output:\n",
        "Improving: ['Kohli']'''\n",
        "\n",
        "data = {\n",
        "\"Kohli\": [30, 60, 90],\n",
        "\"Gill\": [100, 80, 60]\n",
        "}\n",
        "for i in data:\n",
        "  if data[i]==sorted(data[i]):\n",
        "    print(i)"
      ],
      "metadata": {
        "colab": {
          "base_uri": "https://localhost:8080/"
        },
        "id": "3eDOrNaBlwQJ",
        "outputId": "c5bdd0c8-173b-4464-e02a-6a3d15693335"
      },
      "execution_count": 101,
      "outputs": [
        {
          "output_type": "stream",
          "name": "stdout",
          "text": [
            "Kohli\n",
            "Gill\n"
          ]
        }
      ]
    },
    {
      "cell_type": "code",
      "source": [
        "'''24. 🏥 Create Index-Based Patient Lookup\n",
        "Input:\n",
        "patients = [\"Alice\", \"Bob\", \"Cara\"]\n",
        "\n",
        "Output:\n",
        "{0: \"Alice\", 1: \"Bob\", 2: \"Cara\"}'''\n",
        "\n",
        "patients = [\"Alice\", \"Bob\", \"Cara\"]\n",
        "output=dict()\n",
        "for index,i in enumerate(patients):\n",
        "  output[index]=i\n",
        "\n",
        "print(output)"
      ],
      "metadata": {
        "colab": {
          "base_uri": "https://localhost:8080/"
        },
        "id": "JCoYWfF-oBW3",
        "outputId": "418ddfa9-6434-4e55-b01f-a609c8056453"
      },
      "execution_count": 102,
      "outputs": [
        {
          "output_type": "stream",
          "name": "stdout",
          "text": [
            "{0: 'Alice', 1: 'Bob', 2: 'Cara'}\n"
          ]
        }
      ]
    },
    {
      "cell_type": "code",
      "source": [
        "'''25. 🧪 Filter Words Starting and Ending with Same Letter\n",
        "Input:\n",
        "words = [\"radar\", \"rotor\", \"hello\", \"world\", \"mom\"]\n",
        "\n",
        "Output:\n",
        "['radar', 'rotor', 'mom']'''\n",
        "\n",
        "words = [\"radar\", \"rotor\", \"hello\", \"world\", \"mom\"]\n",
        "output=[]\n",
        "for i in words:\n",
        "  if i[0]==i[-1]:\n",
        "    output.append(i)\n",
        "\n",
        "print(output)"
      ],
      "metadata": {
        "colab": {
          "base_uri": "https://localhost:8080/"
        },
        "id": "OMTTbgauoTJq",
        "outputId": "58ad5071-890e-4df5-9058-e968e7aa6d10"
      },
      "execution_count": 103,
      "outputs": [
        {
          "output_type": "stream",
          "name": "stdout",
          "text": [
            "['radar', 'rotor', 'mom']\n"
          ]
        }
      ]
    },
    {
      "cell_type": "code",
      "source": [],
      "metadata": {
        "id": "Ms_-ITC9onVf"
      },
      "execution_count": null,
      "outputs": []
    }
  ]
}